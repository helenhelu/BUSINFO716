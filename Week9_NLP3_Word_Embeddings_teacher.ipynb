{
  "nbformat": 4,
  "nbformat_minor": 0,
  "metadata": {
    "colab": {
      "provenance": []
    },
    "kernelspec": {
      "name": "python3",
      "display_name": "Python 3"
    },
    "language_info": {
      "name": "python"
    }
  },
  "cells": [
    {
      "cell_type": "markdown",
      "source": [
        "Dr Helen Lu Copyright (c) 2022\n",
        "\n",
        "I love the Simpsons. I found this source ([Kaggle source](https://www.kaggle.com/code/pierremegret/gensim-word2vec-tutorial/notebook#Training-the-modelhttps://)) on Kaggle and modified the examples for the class to get a feel of the Word2Vec Model.\n",
        "If you have not watched the animation sticom, here is an introduction ([Wikepedia](https://en.wikipedia.org/wiki/The_Simpsons)).\n",
        "\n",
        "In this lab session, we use the dialogues in the Simpsons to train word embeddings. \n"
      ],
      "metadata": {
        "id": "ijhb2l4i5CAB"
      }
    },
    {
      "cell_type": "markdown",
      "source": [
        "# **1. Import Python libraries and upload the csv file containing dialogues from the Simpsons.**\n",
        "\n",
        "We use the [Gensim](https://radimrehurek.com/gensim/intro.html#what-is-gensim) library to illustrate the Word2Vec function. "
      ],
      "metadata": {
        "id": "pNQO1SelyKHW"
      }
    },
    {
      "cell_type": "code",
      "execution_count": 48,
      "metadata": {
        "id": "3rsKQqUOsJ8R"
      },
      "outputs": [],
      "source": [
        "import re  # For preprocessing\n",
        "import pandas as pd  # For data handling\n",
        "from time import time  # To time our operations\n",
        "from collections import defaultdict  # For word frequency\n",
        "\n",
        "import spacy  # For preprocessing\n",
        "\n",
        "import logging  # Setting up the loggings to monitor gensim\n",
        "logging.basicConfig(format=\"%(levelname)s - %(asctime)s: %(message)s\", datefmt= '%H:%M:%S', level=logging.INFO)"
      ]
    },
    {
      "cell_type": "code",
      "source": [
        "# use the latest Gensim library\n",
        "!pip install  --upgrade gensim\n"
      ],
      "metadata": {
        "colab": {
          "base_uri": "https://localhost:8080/"
        },
        "id": "wIKte0V-7t7W",
        "outputId": "5d0bc775-3fb4-4992-bb5d-6ed2dcfa2c88"
      },
      "execution_count": 49,
      "outputs": [
        {
          "output_type": "stream",
          "name": "stdout",
          "text": [
            "Looking in indexes: https://pypi.org/simple, https://us-python.pkg.dev/colab-wheels/public/simple/\n",
            "Requirement already satisfied: gensim in /usr/local/lib/python3.8/dist-packages (4.3.0)\n",
            "Requirement already satisfied: FuzzyTM>=0.4.0 in /usr/local/lib/python3.8/dist-packages (from gensim) (2.0.5)\n",
            "Requirement already satisfied: numpy>=1.18.5 in /usr/local/lib/python3.8/dist-packages (from gensim) (1.22.4)\n",
            "Requirement already satisfied: smart-open>=1.8.1 in /usr/local/lib/python3.8/dist-packages (from gensim) (6.3.0)\n",
            "Requirement already satisfied: scipy>=1.7.0 in /usr/local/lib/python3.8/dist-packages (from gensim) (1.10.1)\n",
            "Requirement already satisfied: pandas in /usr/local/lib/python3.8/dist-packages (from FuzzyTM>=0.4.0->gensim) (1.3.5)\n",
            "Requirement already satisfied: pyfume in /usr/local/lib/python3.8/dist-packages (from FuzzyTM>=0.4.0->gensim) (0.2.25)\n",
            "Requirement already satisfied: python-dateutil>=2.7.3 in /usr/local/lib/python3.8/dist-packages (from pandas->FuzzyTM>=0.4.0->gensim) (2.8.2)\n",
            "Requirement already satisfied: pytz>=2017.3 in /usr/local/lib/python3.8/dist-packages (from pandas->FuzzyTM>=0.4.0->gensim) (2022.7.1)\n",
            "Requirement already satisfied: fst-pso in /usr/local/lib/python3.8/dist-packages (from pyfume->FuzzyTM>=0.4.0->gensim) (1.8.1)\n",
            "Requirement already satisfied: simpful in /usr/local/lib/python3.8/dist-packages (from pyfume->FuzzyTM>=0.4.0->gensim) (2.10.0)\n",
            "Requirement already satisfied: six>=1.5 in /usr/local/lib/python3.8/dist-packages (from python-dateutil>=2.7.3->pandas->FuzzyTM>=0.4.0->gensim) (1.15.0)\n",
            "Requirement already satisfied: miniful in /usr/local/lib/python3.8/dist-packages (from fst-pso->pyfume->FuzzyTM>=0.4.0->gensim) (0.0.6)\n",
            "Requirement already satisfied: requests in /usr/local/lib/python3.8/dist-packages (from simpful->pyfume->FuzzyTM>=0.4.0->gensim) (2.25.1)\n",
            "Requirement already satisfied: chardet<5,>=3.0.2 in /usr/local/lib/python3.8/dist-packages (from requests->simpful->pyfume->FuzzyTM>=0.4.0->gensim) (4.0.0)\n",
            "Requirement already satisfied: idna<3,>=2.5 in /usr/local/lib/python3.8/dist-packages (from requests->simpful->pyfume->FuzzyTM>=0.4.0->gensim) (2.10)\n",
            "Requirement already satisfied: urllib3<1.27,>=1.21.1 in /usr/local/lib/python3.8/dist-packages (from requests->simpful->pyfume->FuzzyTM>=0.4.0->gensim) (1.26.14)\n",
            "Requirement already satisfied: certifi>=2017.4.17 in /usr/local/lib/python3.8/dist-packages (from requests->simpful->pyfume->FuzzyTM>=0.4.0->gensim) (2022.12.7)\n"
          ]
        }
      ]
    },
    {
      "cell_type": "code",
      "source": [
        "# upload file \"simpsons_script_lines.csv\" \n",
        "# takes five to eight minues\n",
        "from google.colab import files\n",
        "t = time()\n",
        "uploaded = files.upload()\n",
        "print('Time to upload the data: {} mins'.format(round((time() - t) / 60, 2)))"
      ],
      "metadata": {
        "colab": {
          "base_uri": "https://localhost:8080/",
          "height": 90
        },
        "id": "MduVbBdGwNkp",
        "outputId": "c491020a-5943-466e-c433-714b4b6c3ac0"
      },
      "execution_count": 50,
      "outputs": [
        {
          "output_type": "display_data",
          "data": {
            "text/plain": [
              "<IPython.core.display.HTML object>"
            ],
            "text/html": [
              "\n",
              "     <input type=\"file\" id=\"files-de21699b-c5cd-4d6d-8bac-7400da69bdde\" name=\"files[]\" multiple disabled\n",
              "        style=\"border:none\" />\n",
              "     <output id=\"result-de21699b-c5cd-4d6d-8bac-7400da69bdde\">\n",
              "      Upload widget is only available when the cell has been executed in the\n",
              "      current browser session. Please rerun this cell to enable.\n",
              "      </output>\n",
              "      <script>// Copyright 2017 Google LLC\n",
              "//\n",
              "// Licensed under the Apache License, Version 2.0 (the \"License\");\n",
              "// you may not use this file except in compliance with the License.\n",
              "// You may obtain a copy of the License at\n",
              "//\n",
              "//      http://www.apache.org/licenses/LICENSE-2.0\n",
              "//\n",
              "// Unless required by applicable law or agreed to in writing, software\n",
              "// distributed under the License is distributed on an \"AS IS\" BASIS,\n",
              "// WITHOUT WARRANTIES OR CONDITIONS OF ANY KIND, either express or implied.\n",
              "// See the License for the specific language governing permissions and\n",
              "// limitations under the License.\n",
              "\n",
              "/**\n",
              " * @fileoverview Helpers for google.colab Python module.\n",
              " */\n",
              "(function(scope) {\n",
              "function span(text, styleAttributes = {}) {\n",
              "  const element = document.createElement('span');\n",
              "  element.textContent = text;\n",
              "  for (const key of Object.keys(styleAttributes)) {\n",
              "    element.style[key] = styleAttributes[key];\n",
              "  }\n",
              "  return element;\n",
              "}\n",
              "\n",
              "// Max number of bytes which will be uploaded at a time.\n",
              "const MAX_PAYLOAD_SIZE = 100 * 1024;\n",
              "\n",
              "function _uploadFiles(inputId, outputId) {\n",
              "  const steps = uploadFilesStep(inputId, outputId);\n",
              "  const outputElement = document.getElementById(outputId);\n",
              "  // Cache steps on the outputElement to make it available for the next call\n",
              "  // to uploadFilesContinue from Python.\n",
              "  outputElement.steps = steps;\n",
              "\n",
              "  return _uploadFilesContinue(outputId);\n",
              "}\n",
              "\n",
              "// This is roughly an async generator (not supported in the browser yet),\n",
              "// where there are multiple asynchronous steps and the Python side is going\n",
              "// to poll for completion of each step.\n",
              "// This uses a Promise to block the python side on completion of each step,\n",
              "// then passes the result of the previous step as the input to the next step.\n",
              "function _uploadFilesContinue(outputId) {\n",
              "  const outputElement = document.getElementById(outputId);\n",
              "  const steps = outputElement.steps;\n",
              "\n",
              "  const next = steps.next(outputElement.lastPromiseValue);\n",
              "  return Promise.resolve(next.value.promise).then((value) => {\n",
              "    // Cache the last promise value to make it available to the next\n",
              "    // step of the generator.\n",
              "    outputElement.lastPromiseValue = value;\n",
              "    return next.value.response;\n",
              "  });\n",
              "}\n",
              "\n",
              "/**\n",
              " * Generator function which is called between each async step of the upload\n",
              " * process.\n",
              " * @param {string} inputId Element ID of the input file picker element.\n",
              " * @param {string} outputId Element ID of the output display.\n",
              " * @return {!Iterable<!Object>} Iterable of next steps.\n",
              " */\n",
              "function* uploadFilesStep(inputId, outputId) {\n",
              "  const inputElement = document.getElementById(inputId);\n",
              "  inputElement.disabled = false;\n",
              "\n",
              "  const outputElement = document.getElementById(outputId);\n",
              "  outputElement.innerHTML = '';\n",
              "\n",
              "  const pickedPromise = new Promise((resolve) => {\n",
              "    inputElement.addEventListener('change', (e) => {\n",
              "      resolve(e.target.files);\n",
              "    });\n",
              "  });\n",
              "\n",
              "  const cancel = document.createElement('button');\n",
              "  inputElement.parentElement.appendChild(cancel);\n",
              "  cancel.textContent = 'Cancel upload';\n",
              "  const cancelPromise = new Promise((resolve) => {\n",
              "    cancel.onclick = () => {\n",
              "      resolve(null);\n",
              "    };\n",
              "  });\n",
              "\n",
              "  // Wait for the user to pick the files.\n",
              "  const files = yield {\n",
              "    promise: Promise.race([pickedPromise, cancelPromise]),\n",
              "    response: {\n",
              "      action: 'starting',\n",
              "    }\n",
              "  };\n",
              "\n",
              "  cancel.remove();\n",
              "\n",
              "  // Disable the input element since further picks are not allowed.\n",
              "  inputElement.disabled = true;\n",
              "\n",
              "  if (!files) {\n",
              "    return {\n",
              "      response: {\n",
              "        action: 'complete',\n",
              "      }\n",
              "    };\n",
              "  }\n",
              "\n",
              "  for (const file of files) {\n",
              "    const li = document.createElement('li');\n",
              "    li.append(span(file.name, {fontWeight: 'bold'}));\n",
              "    li.append(span(\n",
              "        `(${file.type || 'n/a'}) - ${file.size} bytes, ` +\n",
              "        `last modified: ${\n",
              "            file.lastModifiedDate ? file.lastModifiedDate.toLocaleDateString() :\n",
              "                                    'n/a'} - `));\n",
              "    const percent = span('0% done');\n",
              "    li.appendChild(percent);\n",
              "\n",
              "    outputElement.appendChild(li);\n",
              "\n",
              "    const fileDataPromise = new Promise((resolve) => {\n",
              "      const reader = new FileReader();\n",
              "      reader.onload = (e) => {\n",
              "        resolve(e.target.result);\n",
              "      };\n",
              "      reader.readAsArrayBuffer(file);\n",
              "    });\n",
              "    // Wait for the data to be ready.\n",
              "    let fileData = yield {\n",
              "      promise: fileDataPromise,\n",
              "      response: {\n",
              "        action: 'continue',\n",
              "      }\n",
              "    };\n",
              "\n",
              "    // Use a chunked sending to avoid message size limits. See b/62115660.\n",
              "    let position = 0;\n",
              "    do {\n",
              "      const length = Math.min(fileData.byteLength - position, MAX_PAYLOAD_SIZE);\n",
              "      const chunk = new Uint8Array(fileData, position, length);\n",
              "      position += length;\n",
              "\n",
              "      const base64 = btoa(String.fromCharCode.apply(null, chunk));\n",
              "      yield {\n",
              "        response: {\n",
              "          action: 'append',\n",
              "          file: file.name,\n",
              "          data: base64,\n",
              "        },\n",
              "      };\n",
              "\n",
              "      let percentDone = fileData.byteLength === 0 ?\n",
              "          100 :\n",
              "          Math.round((position / fileData.byteLength) * 100);\n",
              "      percent.textContent = `${percentDone}% done`;\n",
              "\n",
              "    } while (position < fileData.byteLength);\n",
              "  }\n",
              "\n",
              "  // All done.\n",
              "  yield {\n",
              "    response: {\n",
              "      action: 'complete',\n",
              "    }\n",
              "  };\n",
              "}\n",
              "\n",
              "scope.google = scope.google || {};\n",
              "scope.google.colab = scope.google.colab || {};\n",
              "scope.google.colab._files = {\n",
              "  _uploadFiles,\n",
              "  _uploadFilesContinue,\n",
              "};\n",
              "})(self);\n",
              "</script> "
            ]
          },
          "metadata": {}
        },
        {
          "output_type": "stream",
          "name": "stdout",
          "text": [
            "Saving simpsons_script_lines.csv to simpsons_script_lines (1).csv\n",
            "Time to upload the data: 8.83 mins\n"
          ]
        }
      ]
    },
    {
      "cell_type": "code",
      "source": [
        "uploaded.keys()"
      ],
      "metadata": {
        "colab": {
          "base_uri": "https://localhost:8080/"
        },
        "id": "ADhl_rSz1AOb",
        "outputId": "a3dbd527-a692-4264-ef94-5be79fa32e14"
      },
      "execution_count": 51,
      "outputs": [
        {
          "output_type": "execute_result",
          "data": {
            "text/plain": [
              "dict_keys(['simpsons_script_lines.csv'])"
            ]
          },
          "metadata": {},
          "execution_count": 51
        }
      ]
    },
    {
      "cell_type": "code",
      "source": [
        "import os\n",
        "file_name = list(uploaded.keys())[0]\n",
        "file_name "
      ],
      "metadata": {
        "colab": {
          "base_uri": "https://localhost:8080/",
          "height": 35
        },
        "id": "XmB2Br5P1Gjl",
        "outputId": "538a7c36-ccf3-471f-8890-fa58bfa78332"
      },
      "execution_count": 52,
      "outputs": [
        {
          "output_type": "execute_result",
          "data": {
            "text/plain": [
              "'simpsons_script_lines.csv'"
            ],
            "application/vnd.google.colaboratory.intrinsic+json": {
              "type": "string"
            }
          },
          "metadata": {},
          "execution_count": 52
        }
      ]
    },
    {
      "cell_type": "code",
      "source": [
        "#read the csv file into a Pandas dataframe\n",
        "df=pd.read_csv(file_name, error_bad_lines=False)\n",
        "print(\"shape of dataframe:\", df.shape)\n",
        "df.head()"
      ],
      "metadata": {
        "colab": {
          "base_uri": "https://localhost:8080/",
          "height": 600
        },
        "id": "94bw5PCCzDgJ",
        "outputId": "b3f9205b-8430-45ee-e681-0957d4ef123a"
      },
      "execution_count": 53,
      "outputs": [
        {
          "output_type": "stream",
          "name": "stderr",
          "text": [
            "/usr/local/lib/python3.8/dist-packages/IPython/core/interactiveshell.py:3326: FutureWarning: The error_bad_lines argument has been deprecated and will be removed in a future version.\n",
            "\n",
            "\n",
            "  exec(code_obj, self.user_global_ns, self.user_ns)\n",
            "b'Skipping line 8084: expected 13 fields, saw 20\\nSkipping line 52607: expected 13 fields, saw 21\\nSkipping line 59910: expected 13 fields, saw 21\\n'\n",
            "b'Skipping line 71801: expected 13 fields, saw 20\\nSkipping line 73539: expected 13 fields, saw 21\\nSkipping line 77230: expected 13 fields, saw 21\\nSkipping line 78953: expected 13 fields, saw 21\\nSkipping line 81138: expected 13 fields, saw 20\\nSkipping line 86746: expected 13 fields, saw 22\\nSkipping line 101154: expected 13 fields, saw 21\\nSkipping line 115438: expected 13 fields, saw 20\\nSkipping line 117573: expected 13 fields, saw 22\\nSkipping line 130610: expected 13 fields, saw 22\\n'\n"
          ]
        },
        {
          "output_type": "stream",
          "name": "stdout",
          "text": [
            "shape of dataframe: (158248, 13)\n"
          ]
        },
        {
          "output_type": "stream",
          "name": "stderr",
          "text": [
            "b'Skipping line 152970: expected 13 fields, saw 22\\nSkipping line 153017: expected 13 fields, saw 20\\nSkipping line 153018: expected 13 fields, saw 30\\nSkipping line 154080: expected 13 fields, saw 20\\nSkipping line 154082: expected 13 fields, saw 20\\nSkipping line 154084: expected 13 fields, saw 20\\nSkipping line 154086: expected 13 fields, saw 20\\nSkipping line 154089: expected 13 fields, saw 23\\nSkipping line 154165: expected 13 fields, saw 21\\nSkipping line 156872: expected 13 fields, saw 20\\n'\n",
            "/usr/local/lib/python3.8/dist-packages/IPython/core/interactiveshell.py:3326: DtypeWarning: Columns (4,5,6) have mixed types.Specify dtype option on import or set low_memory=False.\n",
            "  exec(code_obj, self.user_global_ns, self.user_ns)\n"
          ]
        },
        {
          "output_type": "execute_result",
          "data": {
            "text/plain": [
              "     id  episode_id  number  \\\n",
              "0  9549          32     209   \n",
              "1  9550          32     210   \n",
              "2  9551          32     211   \n",
              "3  9552          32     212   \n",
              "4  9553          32     213   \n",
              "\n",
              "                                            raw_text timestamp_in_ms  \\\n",
              "0  Miss Hoover: No, actually, it was a little of ...          848000   \n",
              "1  Lisa Simpson: (NEAR TEARS) Where's Mr. Bergstrom?          856000   \n",
              "2  Miss Hoover: I don't know. Although I'd sure l...          856000   \n",
              "3           Lisa Simpson: That life is worth living.          864000   \n",
              "4  Edna Krabappel-Flanders: The polls will be ope...          864000   \n",
              "\n",
              "  speaking_line character_id  location_id       raw_character_text  \\\n",
              "0          True        464.0          3.0              Miss Hoover   \n",
              "1          True          9.0          3.0             Lisa Simpson   \n",
              "2          True        464.0          3.0              Miss Hoover   \n",
              "3          True          9.0          3.0             Lisa Simpson   \n",
              "4          True         40.0          3.0  Edna Krabappel-Flanders   \n",
              "\n",
              "               raw_location_text  \\\n",
              "0  Springfield Elementary School   \n",
              "1  Springfield Elementary School   \n",
              "2  Springfield Elementary School   \n",
              "3  Springfield Elementary School   \n",
              "4  Springfield Elementary School   \n",
              "\n",
              "                                        spoken_words  \\\n",
              "0  No, actually, it was a little of both. Sometim...   \n",
              "1                             Where's Mr. Bergstrom?   \n",
              "2  I don't know. Although I'd sure like to talk t...   \n",
              "3                         That life is worth living.   \n",
              "4  The polls will be open from now until the end ...   \n",
              "\n",
              "                                     normalized_text  word_count  \n",
              "0  no actually it was a little of both sometimes ...        31.0  \n",
              "1                                wheres mr bergstrom         3.0  \n",
              "2  i dont know although id sure like to talk to h...        22.0  \n",
              "3                          that life is worth living         5.0  \n",
              "4  the polls will be open from now until the end ...        33.0  "
            ],
            "text/html": [
              "\n",
              "  <div id=\"df-5735e1e8-a8ca-4a71-89da-e6fe937da0c1\">\n",
              "    <div class=\"colab-df-container\">\n",
              "      <div>\n",
              "<style scoped>\n",
              "    .dataframe tbody tr th:only-of-type {\n",
              "        vertical-align: middle;\n",
              "    }\n",
              "\n",
              "    .dataframe tbody tr th {\n",
              "        vertical-align: top;\n",
              "    }\n",
              "\n",
              "    .dataframe thead th {\n",
              "        text-align: right;\n",
              "    }\n",
              "</style>\n",
              "<table border=\"1\" class=\"dataframe\">\n",
              "  <thead>\n",
              "    <tr style=\"text-align: right;\">\n",
              "      <th></th>\n",
              "      <th>id</th>\n",
              "      <th>episode_id</th>\n",
              "      <th>number</th>\n",
              "      <th>raw_text</th>\n",
              "      <th>timestamp_in_ms</th>\n",
              "      <th>speaking_line</th>\n",
              "      <th>character_id</th>\n",
              "      <th>location_id</th>\n",
              "      <th>raw_character_text</th>\n",
              "      <th>raw_location_text</th>\n",
              "      <th>spoken_words</th>\n",
              "      <th>normalized_text</th>\n",
              "      <th>word_count</th>\n",
              "    </tr>\n",
              "  </thead>\n",
              "  <tbody>\n",
              "    <tr>\n",
              "      <th>0</th>\n",
              "      <td>9549</td>\n",
              "      <td>32</td>\n",
              "      <td>209</td>\n",
              "      <td>Miss Hoover: No, actually, it was a little of ...</td>\n",
              "      <td>848000</td>\n",
              "      <td>True</td>\n",
              "      <td>464.0</td>\n",
              "      <td>3.0</td>\n",
              "      <td>Miss Hoover</td>\n",
              "      <td>Springfield Elementary School</td>\n",
              "      <td>No, actually, it was a little of both. Sometim...</td>\n",
              "      <td>no actually it was a little of both sometimes ...</td>\n",
              "      <td>31.0</td>\n",
              "    </tr>\n",
              "    <tr>\n",
              "      <th>1</th>\n",
              "      <td>9550</td>\n",
              "      <td>32</td>\n",
              "      <td>210</td>\n",
              "      <td>Lisa Simpson: (NEAR TEARS) Where's Mr. Bergstrom?</td>\n",
              "      <td>856000</td>\n",
              "      <td>True</td>\n",
              "      <td>9.0</td>\n",
              "      <td>3.0</td>\n",
              "      <td>Lisa Simpson</td>\n",
              "      <td>Springfield Elementary School</td>\n",
              "      <td>Where's Mr. Bergstrom?</td>\n",
              "      <td>wheres mr bergstrom</td>\n",
              "      <td>3.0</td>\n",
              "    </tr>\n",
              "    <tr>\n",
              "      <th>2</th>\n",
              "      <td>9551</td>\n",
              "      <td>32</td>\n",
              "      <td>211</td>\n",
              "      <td>Miss Hoover: I don't know. Although I'd sure l...</td>\n",
              "      <td>856000</td>\n",
              "      <td>True</td>\n",
              "      <td>464.0</td>\n",
              "      <td>3.0</td>\n",
              "      <td>Miss Hoover</td>\n",
              "      <td>Springfield Elementary School</td>\n",
              "      <td>I don't know. Although I'd sure like to talk t...</td>\n",
              "      <td>i dont know although id sure like to talk to h...</td>\n",
              "      <td>22.0</td>\n",
              "    </tr>\n",
              "    <tr>\n",
              "      <th>3</th>\n",
              "      <td>9552</td>\n",
              "      <td>32</td>\n",
              "      <td>212</td>\n",
              "      <td>Lisa Simpson: That life is worth living.</td>\n",
              "      <td>864000</td>\n",
              "      <td>True</td>\n",
              "      <td>9.0</td>\n",
              "      <td>3.0</td>\n",
              "      <td>Lisa Simpson</td>\n",
              "      <td>Springfield Elementary School</td>\n",
              "      <td>That life is worth living.</td>\n",
              "      <td>that life is worth living</td>\n",
              "      <td>5.0</td>\n",
              "    </tr>\n",
              "    <tr>\n",
              "      <th>4</th>\n",
              "      <td>9553</td>\n",
              "      <td>32</td>\n",
              "      <td>213</td>\n",
              "      <td>Edna Krabappel-Flanders: The polls will be ope...</td>\n",
              "      <td>864000</td>\n",
              "      <td>True</td>\n",
              "      <td>40.0</td>\n",
              "      <td>3.0</td>\n",
              "      <td>Edna Krabappel-Flanders</td>\n",
              "      <td>Springfield Elementary School</td>\n",
              "      <td>The polls will be open from now until the end ...</td>\n",
              "      <td>the polls will be open from now until the end ...</td>\n",
              "      <td>33.0</td>\n",
              "    </tr>\n",
              "  </tbody>\n",
              "</table>\n",
              "</div>\n",
              "      <button class=\"colab-df-convert\" onclick=\"convertToInteractive('df-5735e1e8-a8ca-4a71-89da-e6fe937da0c1')\"\n",
              "              title=\"Convert this dataframe to an interactive table.\"\n",
              "              style=\"display:none;\">\n",
              "        \n",
              "  <svg xmlns=\"http://www.w3.org/2000/svg\" height=\"24px\"viewBox=\"0 0 24 24\"\n",
              "       width=\"24px\">\n",
              "    <path d=\"M0 0h24v24H0V0z\" fill=\"none\"/>\n",
              "    <path d=\"M18.56 5.44l.94 2.06.94-2.06 2.06-.94-2.06-.94-.94-2.06-.94 2.06-2.06.94zm-11 1L8.5 8.5l.94-2.06 2.06-.94-2.06-.94L8.5 2.5l-.94 2.06-2.06.94zm10 10l.94 2.06.94-2.06 2.06-.94-2.06-.94-.94-2.06-.94 2.06-2.06.94z\"/><path d=\"M17.41 7.96l-1.37-1.37c-.4-.4-.92-.59-1.43-.59-.52 0-1.04.2-1.43.59L10.3 9.45l-7.72 7.72c-.78.78-.78 2.05 0 2.83L4 21.41c.39.39.9.59 1.41.59.51 0 1.02-.2 1.41-.59l7.78-7.78 2.81-2.81c.8-.78.8-2.07 0-2.86zM5.41 20L4 18.59l7.72-7.72 1.47 1.35L5.41 20z\"/>\n",
              "  </svg>\n",
              "      </button>\n",
              "      \n",
              "  <style>\n",
              "    .colab-df-container {\n",
              "      display:flex;\n",
              "      flex-wrap:wrap;\n",
              "      gap: 12px;\n",
              "    }\n",
              "\n",
              "    .colab-df-convert {\n",
              "      background-color: #E8F0FE;\n",
              "      border: none;\n",
              "      border-radius: 50%;\n",
              "      cursor: pointer;\n",
              "      display: none;\n",
              "      fill: #1967D2;\n",
              "      height: 32px;\n",
              "      padding: 0 0 0 0;\n",
              "      width: 32px;\n",
              "    }\n",
              "\n",
              "    .colab-df-convert:hover {\n",
              "      background-color: #E2EBFA;\n",
              "      box-shadow: 0px 1px 2px rgba(60, 64, 67, 0.3), 0px 1px 3px 1px rgba(60, 64, 67, 0.15);\n",
              "      fill: #174EA6;\n",
              "    }\n",
              "\n",
              "    [theme=dark] .colab-df-convert {\n",
              "      background-color: #3B4455;\n",
              "      fill: #D2E3FC;\n",
              "    }\n",
              "\n",
              "    [theme=dark] .colab-df-convert:hover {\n",
              "      background-color: #434B5C;\n",
              "      box-shadow: 0px 1px 3px 1px rgba(0, 0, 0, 0.15);\n",
              "      filter: drop-shadow(0px 1px 2px rgba(0, 0, 0, 0.3));\n",
              "      fill: #FFFFFF;\n",
              "    }\n",
              "  </style>\n",
              "\n",
              "      <script>\n",
              "        const buttonEl =\n",
              "          document.querySelector('#df-5735e1e8-a8ca-4a71-89da-e6fe937da0c1 button.colab-df-convert');\n",
              "        buttonEl.style.display =\n",
              "          google.colab.kernel.accessAllowed ? 'block' : 'none';\n",
              "\n",
              "        async function convertToInteractive(key) {\n",
              "          const element = document.querySelector('#df-5735e1e8-a8ca-4a71-89da-e6fe937da0c1');\n",
              "          const dataTable =\n",
              "            await google.colab.kernel.invokeFunction('convertToInteractive',\n",
              "                                                     [key], {});\n",
              "          if (!dataTable) return;\n",
              "\n",
              "          const docLinkHtml = 'Like what you see? Visit the ' +\n",
              "            '<a target=\"_blank\" href=https://colab.research.google.com/notebooks/data_table.ipynb>data table notebook</a>'\n",
              "            + ' to learn more about interactive tables.';\n",
              "          element.innerHTML = '';\n",
              "          dataTable['output_type'] = 'display_data';\n",
              "          await google.colab.output.renderOutput(dataTable, element);\n",
              "          const docLink = document.createElement('div');\n",
              "          docLink.innerHTML = docLinkHtml;\n",
              "          element.appendChild(docLink);\n",
              "        }\n",
              "      </script>\n",
              "    </div>\n",
              "  </div>\n",
              "  "
            ]
          },
          "metadata": {},
          "execution_count": 53
        }
      ]
    },
    {
      "cell_type": "code",
      "source": [
        "# obtain the charater name and words columns into a new dataframe \"data\"\n",
        "data = df[['raw_character_text','spoken_words']]\n",
        "data.head()"
      ],
      "metadata": {
        "colab": {
          "base_uri": "https://localhost:8080/",
          "height": 206
        },
        "id": "UXf8Cdgowh0Q",
        "outputId": "34988e76-e487-47ba-e4f5-6d323b3f0f28"
      },
      "execution_count": 54,
      "outputs": [
        {
          "output_type": "execute_result",
          "data": {
            "text/plain": [
              "        raw_character_text                                       spoken_words\n",
              "0              Miss Hoover  No, actually, it was a little of both. Sometim...\n",
              "1             Lisa Simpson                             Where's Mr. Bergstrom?\n",
              "2              Miss Hoover  I don't know. Although I'd sure like to talk t...\n",
              "3             Lisa Simpson                         That life is worth living.\n",
              "4  Edna Krabappel-Flanders  The polls will be open from now until the end ..."
            ],
            "text/html": [
              "\n",
              "  <div id=\"df-e31fd701-d223-4709-b770-1571d13bfc48\">\n",
              "    <div class=\"colab-df-container\">\n",
              "      <div>\n",
              "<style scoped>\n",
              "    .dataframe tbody tr th:only-of-type {\n",
              "        vertical-align: middle;\n",
              "    }\n",
              "\n",
              "    .dataframe tbody tr th {\n",
              "        vertical-align: top;\n",
              "    }\n",
              "\n",
              "    .dataframe thead th {\n",
              "        text-align: right;\n",
              "    }\n",
              "</style>\n",
              "<table border=\"1\" class=\"dataframe\">\n",
              "  <thead>\n",
              "    <tr style=\"text-align: right;\">\n",
              "      <th></th>\n",
              "      <th>raw_character_text</th>\n",
              "      <th>spoken_words</th>\n",
              "    </tr>\n",
              "  </thead>\n",
              "  <tbody>\n",
              "    <tr>\n",
              "      <th>0</th>\n",
              "      <td>Miss Hoover</td>\n",
              "      <td>No, actually, it was a little of both. Sometim...</td>\n",
              "    </tr>\n",
              "    <tr>\n",
              "      <th>1</th>\n",
              "      <td>Lisa Simpson</td>\n",
              "      <td>Where's Mr. Bergstrom?</td>\n",
              "    </tr>\n",
              "    <tr>\n",
              "      <th>2</th>\n",
              "      <td>Miss Hoover</td>\n",
              "      <td>I don't know. Although I'd sure like to talk t...</td>\n",
              "    </tr>\n",
              "    <tr>\n",
              "      <th>3</th>\n",
              "      <td>Lisa Simpson</td>\n",
              "      <td>That life is worth living.</td>\n",
              "    </tr>\n",
              "    <tr>\n",
              "      <th>4</th>\n",
              "      <td>Edna Krabappel-Flanders</td>\n",
              "      <td>The polls will be open from now until the end ...</td>\n",
              "    </tr>\n",
              "  </tbody>\n",
              "</table>\n",
              "</div>\n",
              "      <button class=\"colab-df-convert\" onclick=\"convertToInteractive('df-e31fd701-d223-4709-b770-1571d13bfc48')\"\n",
              "              title=\"Convert this dataframe to an interactive table.\"\n",
              "              style=\"display:none;\">\n",
              "        \n",
              "  <svg xmlns=\"http://www.w3.org/2000/svg\" height=\"24px\"viewBox=\"0 0 24 24\"\n",
              "       width=\"24px\">\n",
              "    <path d=\"M0 0h24v24H0V0z\" fill=\"none\"/>\n",
              "    <path d=\"M18.56 5.44l.94 2.06.94-2.06 2.06-.94-2.06-.94-.94-2.06-.94 2.06-2.06.94zm-11 1L8.5 8.5l.94-2.06 2.06-.94-2.06-.94L8.5 2.5l-.94 2.06-2.06.94zm10 10l.94 2.06.94-2.06 2.06-.94-2.06-.94-.94-2.06-.94 2.06-2.06.94z\"/><path d=\"M17.41 7.96l-1.37-1.37c-.4-.4-.92-.59-1.43-.59-.52 0-1.04.2-1.43.59L10.3 9.45l-7.72 7.72c-.78.78-.78 2.05 0 2.83L4 21.41c.39.39.9.59 1.41.59.51 0 1.02-.2 1.41-.59l7.78-7.78 2.81-2.81c.8-.78.8-2.07 0-2.86zM5.41 20L4 18.59l7.72-7.72 1.47 1.35L5.41 20z\"/>\n",
              "  </svg>\n",
              "      </button>\n",
              "      \n",
              "  <style>\n",
              "    .colab-df-container {\n",
              "      display:flex;\n",
              "      flex-wrap:wrap;\n",
              "      gap: 12px;\n",
              "    }\n",
              "\n",
              "    .colab-df-convert {\n",
              "      background-color: #E8F0FE;\n",
              "      border: none;\n",
              "      border-radius: 50%;\n",
              "      cursor: pointer;\n",
              "      display: none;\n",
              "      fill: #1967D2;\n",
              "      height: 32px;\n",
              "      padding: 0 0 0 0;\n",
              "      width: 32px;\n",
              "    }\n",
              "\n",
              "    .colab-df-convert:hover {\n",
              "      background-color: #E2EBFA;\n",
              "      box-shadow: 0px 1px 2px rgba(60, 64, 67, 0.3), 0px 1px 3px 1px rgba(60, 64, 67, 0.15);\n",
              "      fill: #174EA6;\n",
              "    }\n",
              "\n",
              "    [theme=dark] .colab-df-convert {\n",
              "      background-color: #3B4455;\n",
              "      fill: #D2E3FC;\n",
              "    }\n",
              "\n",
              "    [theme=dark] .colab-df-convert:hover {\n",
              "      background-color: #434B5C;\n",
              "      box-shadow: 0px 1px 3px 1px rgba(0, 0, 0, 0.15);\n",
              "      filter: drop-shadow(0px 1px 2px rgba(0, 0, 0, 0.3));\n",
              "      fill: #FFFFFF;\n",
              "    }\n",
              "  </style>\n",
              "\n",
              "      <script>\n",
              "        const buttonEl =\n",
              "          document.querySelector('#df-e31fd701-d223-4709-b770-1571d13bfc48 button.colab-df-convert');\n",
              "        buttonEl.style.display =\n",
              "          google.colab.kernel.accessAllowed ? 'block' : 'none';\n",
              "\n",
              "        async function convertToInteractive(key) {\n",
              "          const element = document.querySelector('#df-e31fd701-d223-4709-b770-1571d13bfc48');\n",
              "          const dataTable =\n",
              "            await google.colab.kernel.invokeFunction('convertToInteractive',\n",
              "                                                     [key], {});\n",
              "          if (!dataTable) return;\n",
              "\n",
              "          const docLinkHtml = 'Like what you see? Visit the ' +\n",
              "            '<a target=\"_blank\" href=https://colab.research.google.com/notebooks/data_table.ipynb>data table notebook</a>'\n",
              "            + ' to learn more about interactive tables.';\n",
              "          element.innerHTML = '';\n",
              "          dataTable['output_type'] = 'display_data';\n",
              "          await google.colab.output.renderOutput(dataTable, element);\n",
              "          const docLink = document.createElement('div');\n",
              "          docLink.innerHTML = docLinkHtml;\n",
              "          element.appendChild(docLink);\n",
              "        }\n",
              "      </script>\n",
              "    </div>\n",
              "  </div>\n",
              "  "
            ]
          },
          "metadata": {},
          "execution_count": 54
        }
      ]
    },
    {
      "cell_type": "code",
      "source": [
        "#check the number of empty cells\n",
        "data.isnull().sum()"
      ],
      "metadata": {
        "colab": {
          "base_uri": "https://localhost:8080/"
        },
        "id": "EfBFUu094TIo",
        "outputId": "2d93bbe2-86be-4227-ae3a-91ea1ceb90ff"
      },
      "execution_count": 55,
      "outputs": [
        {
          "output_type": "execute_result",
          "data": {
            "text/plain": [
              "raw_character_text    17522\n",
              "spoken_words          26159\n",
              "dtype: int64"
            ]
          },
          "metadata": {},
          "execution_count": 55
        }
      ]
    },
    {
      "cell_type": "code",
      "source": [
        "# remove rows with missing values (some rows are locations without dialogues)\n",
        "data = data.dropna().reset_index(drop=True)\n",
        "data.isnull().sum()\n"
      ],
      "metadata": {
        "colab": {
          "base_uri": "https://localhost:8080/"
        },
        "id": "K32G-P3g4h-h",
        "outputId": "c2f9c404-aed3-4a19-b56b-bcfa1cfc3e58"
      },
      "execution_count": 56,
      "outputs": [
        {
          "output_type": "execute_result",
          "data": {
            "text/plain": [
              "raw_character_text    0\n",
              "spoken_words          0\n",
              "dtype: int64"
            ]
          },
          "metadata": {},
          "execution_count": 56
        }
      ]
    },
    {
      "cell_type": "markdown",
      "source": [
        "# **2. Pre-processing**\n",
        "## **2.1. Lemmatrisation and reomving stop words and non-alphabetic characters**"
      ],
      "metadata": {
        "id": "obFMYFKu53kC"
      }
    },
    {
      "cell_type": "code",
      "source": [
        "nlp = spacy.load(\"en_core_web_sm\") \n",
        "\n",
        "def cleaning(doc):\n",
        "    # Lemmatizes and removes stopwords\n",
        "    # doc needs to be a spacy Doc object\n",
        "    txt = [token.lemma_ for token in doc if not token.is_stop]\n",
        "    # Word2Vec uses context words to learn the vector representation of a target word,\n",
        "    # if a sentence is only one or two words long,\n",
        "    # the benefit for the training is very small\n",
        "    if len(txt) > 2:\n",
        "        return ' '.join(txt)"
      ],
      "metadata": {
        "id": "t5ZbY7Rw4-GF"
      },
      "execution_count": 57,
      "outputs": []
    },
    {
      "cell_type": "code",
      "source": [
        "# Removes non-alphabetic characters in dialogues:\n",
        "brief_cleaning = (re.sub(\"[^A-Za-z']+\", ' ', str(row)).lower() for row in data['spoken_words'])"
      ],
      "metadata": {
        "id": "RbtpgGCJ61qY"
      },
      "execution_count": 58,
      "outputs": []
    },
    {
      "cell_type": "code",
      "source": [
        "# run the pre-processing pipeline: takes about 2 mins\n",
        "t = time()\n",
        "txt = [cleaning(doc) for doc in nlp.pipe(brief_cleaning, batch_size=5000)]\n",
        "print('Time to clean up everything: {} mins'.format(round((time() - t) / 60, 2)))"
      ],
      "metadata": {
        "colab": {
          "base_uri": "https://localhost:8080/"
        },
        "id": "mI5RWAzx68_u",
        "outputId": "fc4b61cf-0705-40a4-dcbc-f95fe50247dc"
      },
      "execution_count": 59,
      "outputs": [
        {
          "output_type": "stream",
          "name": "stdout",
          "text": [
            "Time to clean up everything: 4.1 mins\n"
          ]
        }
      ]
    },
    {
      "cell_type": "code",
      "source": [
        "#Put the results in a DataFrame to remove missing values and duplicates:\n",
        "# compare the cleaned text with the original normalized_text\n",
        "data_clean = pd.DataFrame({'clean': txt})\n",
        "data_clean = data_clean.dropna().drop_duplicates()\n",
        "print(\"The shape of cleaned data:\",data_clean.shape)\n",
        "data_clean.head()"
      ],
      "metadata": {
        "colab": {
          "base_uri": "https://localhost:8080/",
          "height": 224
        },
        "id": "TGziwj8y7wkq",
        "outputId": "0bd366c5-f65f-4764-cb65-33bcbd94e309"
      },
      "execution_count": 60,
      "outputs": [
        {
          "output_type": "stream",
          "name": "stdout",
          "text": [
            "The shape of cleaned data: (86142, 1)\n"
          ]
        },
        {
          "output_type": "execute_result",
          "data": {
            "text/plain": [
              "                                               clean\n",
              "0  actually little disease magazine news show nat...\n",
              "2        know sure like talk touch lesson plan teach\n",
              "3                                    life worth live\n",
              "4  poll open end recess case decide thought final...\n",
              "7                                victory party slide"
            ],
            "text/html": [
              "\n",
              "  <div id=\"df-d053cadb-8835-4ba9-a095-3aa4832d07cf\">\n",
              "    <div class=\"colab-df-container\">\n",
              "      <div>\n",
              "<style scoped>\n",
              "    .dataframe tbody tr th:only-of-type {\n",
              "        vertical-align: middle;\n",
              "    }\n",
              "\n",
              "    .dataframe tbody tr th {\n",
              "        vertical-align: top;\n",
              "    }\n",
              "\n",
              "    .dataframe thead th {\n",
              "        text-align: right;\n",
              "    }\n",
              "</style>\n",
              "<table border=\"1\" class=\"dataframe\">\n",
              "  <thead>\n",
              "    <tr style=\"text-align: right;\">\n",
              "      <th></th>\n",
              "      <th>clean</th>\n",
              "    </tr>\n",
              "  </thead>\n",
              "  <tbody>\n",
              "    <tr>\n",
              "      <th>0</th>\n",
              "      <td>actually little disease magazine news show nat...</td>\n",
              "    </tr>\n",
              "    <tr>\n",
              "      <th>2</th>\n",
              "      <td>know sure like talk touch lesson plan teach</td>\n",
              "    </tr>\n",
              "    <tr>\n",
              "      <th>3</th>\n",
              "      <td>life worth live</td>\n",
              "    </tr>\n",
              "    <tr>\n",
              "      <th>4</th>\n",
              "      <td>poll open end recess case decide thought final...</td>\n",
              "    </tr>\n",
              "    <tr>\n",
              "      <th>7</th>\n",
              "      <td>victory party slide</td>\n",
              "    </tr>\n",
              "  </tbody>\n",
              "</table>\n",
              "</div>\n",
              "      <button class=\"colab-df-convert\" onclick=\"convertToInteractive('df-d053cadb-8835-4ba9-a095-3aa4832d07cf')\"\n",
              "              title=\"Convert this dataframe to an interactive table.\"\n",
              "              style=\"display:none;\">\n",
              "        \n",
              "  <svg xmlns=\"http://www.w3.org/2000/svg\" height=\"24px\"viewBox=\"0 0 24 24\"\n",
              "       width=\"24px\">\n",
              "    <path d=\"M0 0h24v24H0V0z\" fill=\"none\"/>\n",
              "    <path d=\"M18.56 5.44l.94 2.06.94-2.06 2.06-.94-2.06-.94-.94-2.06-.94 2.06-2.06.94zm-11 1L8.5 8.5l.94-2.06 2.06-.94-2.06-.94L8.5 2.5l-.94 2.06-2.06.94zm10 10l.94 2.06.94-2.06 2.06-.94-2.06-.94-.94-2.06-.94 2.06-2.06.94z\"/><path d=\"M17.41 7.96l-1.37-1.37c-.4-.4-.92-.59-1.43-.59-.52 0-1.04.2-1.43.59L10.3 9.45l-7.72 7.72c-.78.78-.78 2.05 0 2.83L4 21.41c.39.39.9.59 1.41.59.51 0 1.02-.2 1.41-.59l7.78-7.78 2.81-2.81c.8-.78.8-2.07 0-2.86zM5.41 20L4 18.59l7.72-7.72 1.47 1.35L5.41 20z\"/>\n",
              "  </svg>\n",
              "      </button>\n",
              "      \n",
              "  <style>\n",
              "    .colab-df-container {\n",
              "      display:flex;\n",
              "      flex-wrap:wrap;\n",
              "      gap: 12px;\n",
              "    }\n",
              "\n",
              "    .colab-df-convert {\n",
              "      background-color: #E8F0FE;\n",
              "      border: none;\n",
              "      border-radius: 50%;\n",
              "      cursor: pointer;\n",
              "      display: none;\n",
              "      fill: #1967D2;\n",
              "      height: 32px;\n",
              "      padding: 0 0 0 0;\n",
              "      width: 32px;\n",
              "    }\n",
              "\n",
              "    .colab-df-convert:hover {\n",
              "      background-color: #E2EBFA;\n",
              "      box-shadow: 0px 1px 2px rgba(60, 64, 67, 0.3), 0px 1px 3px 1px rgba(60, 64, 67, 0.15);\n",
              "      fill: #174EA6;\n",
              "    }\n",
              "\n",
              "    [theme=dark] .colab-df-convert {\n",
              "      background-color: #3B4455;\n",
              "      fill: #D2E3FC;\n",
              "    }\n",
              "\n",
              "    [theme=dark] .colab-df-convert:hover {\n",
              "      background-color: #434B5C;\n",
              "      box-shadow: 0px 1px 3px 1px rgba(0, 0, 0, 0.15);\n",
              "      filter: drop-shadow(0px 1px 2px rgba(0, 0, 0, 0.3));\n",
              "      fill: #FFFFFF;\n",
              "    }\n",
              "  </style>\n",
              "\n",
              "      <script>\n",
              "        const buttonEl =\n",
              "          document.querySelector('#df-d053cadb-8835-4ba9-a095-3aa4832d07cf button.colab-df-convert');\n",
              "        buttonEl.style.display =\n",
              "          google.colab.kernel.accessAllowed ? 'block' : 'none';\n",
              "\n",
              "        async function convertToInteractive(key) {\n",
              "          const element = document.querySelector('#df-d053cadb-8835-4ba9-a095-3aa4832d07cf');\n",
              "          const dataTable =\n",
              "            await google.colab.kernel.invokeFunction('convertToInteractive',\n",
              "                                                     [key], {});\n",
              "          if (!dataTable) return;\n",
              "\n",
              "          const docLinkHtml = 'Like what you see? Visit the ' +\n",
              "            '<a target=\"_blank\" href=https://colab.research.google.com/notebooks/data_table.ipynb>data table notebook</a>'\n",
              "            + ' to learn more about interactive tables.';\n",
              "          element.innerHTML = '';\n",
              "          dataTable['output_type'] = 'display_data';\n",
              "          await google.colab.output.renderOutput(dataTable, element);\n",
              "          const docLink = document.createElement('div');\n",
              "          docLink.innerHTML = docLinkHtml;\n",
              "          element.appendChild(docLink);\n",
              "        }\n",
              "      </script>\n",
              "    </div>\n",
              "  </div>\n",
              "  "
            ]
          },
          "metadata": {},
          "execution_count": 60
        }
      ]
    },
    {
      "cell_type": "markdown",
      "source": [
        "## **2.2. Use Gensim Phrases package to automatically detect common phrases (n-grams) from sentences.**"
      ],
      "metadata": {
        "id": "9plkGEgR7mfY"
      }
    },
    {
      "cell_type": "code",
      "source": [
        "from gensim.models.phrases import Phrases\n",
        "\n",
        "# Define English connector words\n",
        "english_connectors = {'and', 'or', 'but', 'because', 'that'}\n"
      ],
      "metadata": {
        "id": "eGaYoV8dM-6x"
      },
      "execution_count": 62,
      "outputs": []
    },
    {
      "cell_type": "code",
      "source": [
        "sent = [row.split() for row in data_clean['clean']]"
      ],
      "metadata": {
        "id": "gcApEsXS8UpQ"
      },
      "execution_count": 63,
      "outputs": []
    },
    {
      "cell_type": "code",
      "source": [
        "phrase_model = Phrases(sent, min_count=30, progress_per=10000, common_terms=english_connectors)"
      ],
      "metadata": {
        "id": "QsMmM9DV8e3v"
      },
      "execution_count": 64,
      "outputs": []
    },
    {
      "cell_type": "code",
      "source": [
        "# examine an original sentence and sentence after applying the phrase model\n",
        "print(\"The first sentence:\", sent[39])\n",
        "phrase_model[sent[39]]"
      ],
      "metadata": {
        "colab": {
          "base_uri": "https://localhost:8080/"
        },
        "id": "4reRfbd1_wxg",
        "outputId": "f526d883-2fda-47d2-be3d-d6d4f524f552"
      },
      "execution_count": 65,
      "outputs": [
        {
          "output_type": "stream",
          "name": "stdout",
          "text": [
            "The first sentence: ['homer', 'allow', 'hurt', 'feeling', 'right', 'little', 'girl', 'upstairs', 'need', 'confidence', 'father', 'shake', 'little', 'girl', 'happy', 'faith', 'daddy']\n"
          ]
        },
        {
          "output_type": "stream",
          "name": "stderr",
          "text": [
            "/usr/local/lib/python3.8/dist-packages/gensim/models/phrases.py:598: UserWarning: For a faster implementation, use the gensim.models.phrases.Phraser class\n",
            "  start_token, in_between = word, []  # treat word as both end of a phrase AND beginning of another\n"
          ]
        },
        {
          "output_type": "execute_result",
          "data": {
            "text/plain": [
              "['homer',\n",
              " 'allow',\n",
              " 'hurt',\n",
              " 'feeling',\n",
              " 'right',\n",
              " 'little_girl',\n",
              " 'upstairs',\n",
              " 'need',\n",
              " 'confidence',\n",
              " 'father',\n",
              " 'shake',\n",
              " 'little_girl',\n",
              " 'happy',\n",
              " 'faith',\n",
              " 'daddy']"
            ]
          },
          "metadata": {},
          "execution_count": 65
        }
      ]
    },
    {
      "cell_type": "code",
      "source": [
        "sentences = phrase_model[sent]"
      ],
      "metadata": {
        "id": "O-gxvdk08ppO"
      },
      "execution_count": 66,
      "outputs": []
    },
    {
      "cell_type": "code",
      "source": [
        "type(sentences)"
      ],
      "metadata": {
        "colab": {
          "base_uri": "https://localhost:8080/"
        },
        "id": "hvm50TjqKjrG",
        "outputId": "5ab36d99-b4be-4bc8-c976-85a9a2d27d29"
      },
      "execution_count": 67,
      "outputs": [
        {
          "output_type": "execute_result",
          "data": {
            "text/plain": [
              "gensim.interfaces.TransformedCorpus"
            ]
          },
          "metadata": {},
          "execution_count": 67
        }
      ]
    },
    {
      "cell_type": "code",
      "source": [
        "# Most frequent tokens\n",
        "word_freq = defaultdict(int)\n",
        "for sent in sentences:\n",
        "    for i in sent:\n",
        "        word_freq[i] += 1\n",
        "len(word_freq)"
      ],
      "metadata": {
        "colab": {
          "base_uri": "https://localhost:8080/"
        },
        "id": "-wN2zvRC82qT",
        "outputId": "7ef46dd2-595f-44b1-e3be-f1d9c60b1250"
      },
      "execution_count": 68,
      "outputs": [
        {
          "output_type": "execute_result",
          "data": {
            "text/plain": [
              "29745"
            ]
          },
          "metadata": {},
          "execution_count": 68
        }
      ]
    },
    {
      "cell_type": "code",
      "source": [
        "# most frequently used tokens\n",
        "sorted(word_freq, key=word_freq.get, reverse=True)[:10]"
      ],
      "metadata": {
        "colab": {
          "base_uri": "https://localhost:8080/"
        },
        "id": "9_95B53C-dAT",
        "outputId": "c0a3dc24-7995-4694-c4c8-6fcaeaa50a89"
      },
      "execution_count": 69,
      "outputs": [
        {
          "output_type": "execute_result",
          "data": {
            "text/plain": [
              "['oh', 'like', 'know', 'get', 'hey', 'think', 'come', 'right', 'look', 'want']"
            ]
          },
          "metadata": {},
          "execution_count": 69
        }
      ]
    },
    {
      "cell_type": "markdown",
      "source": [
        "# **3. Train the Word2Vec model**"
      ],
      "metadata": {
        "id": "0jTTBVS3VH8o"
      }
    },
    {
      "cell_type": "code",
      "source": [
        "import multiprocessing\n",
        "from gensim.models import Word2Vec"
      ],
      "metadata": {
        "id": "i5uBhkVkVNhg"
      },
      "execution_count": 70,
      "outputs": []
    },
    {
      "cell_type": "markdown",
      "source": [
        "## **3.1. Set the parameters:**\n",
        " \n",
        "\n",
        "*   min_count = int (2, 100). Ignores all words with total absolute frequency lower than this. \n",
        "*   window = int (2, 10). The maximum distance between the current and predicted word window within a sentence. E.g. window words on the left and window words on the left of our target.\n",
        "*   vector_size = int (50, 300). Dimensionality of the feature vectors.\n",
        "*   sample = float (0, 1e-5). The threshold for configuring which higher-frequency words are randomly downsampled. Highly influencial. \n",
        "*   alpha = float (0.01, 0.05). The initial learning rate\n",
        "*   min_alpha= float - Learning rate will linearly drop to min_alpha as training progresses. To set it: alpha - (min_alpha * epochs) ~ 0.00\n",
        "*   negative = int - If > 0, negative sampling will be used, the int for negative specifies how many \"noise words\" should be drown. If set to 0, no negative sampling is used. - (5, 20)\n",
        "*  workers = int - Use these many worker threads to train the model (=faster training with multicore machines)\n",
        "\n",
        "\n"
      ],
      "metadata": {
        "id": "scBtC5DNVUxs"
      }
    },
    {
      "cell_type": "code",
      "source": [
        "w2v_model = Word2Vec(min_count=20,\n",
        "                     window=2,\n",
        "                     size=300,\n",
        "                     sample=6e-5, \n",
        "                     alpha=0.03, \n",
        "                     min_alpha=0.0007, \n",
        "                     negative=5)"
      ],
      "metadata": {
        "id": "Pg6FdTv9VOql"
      },
      "execution_count": 71,
      "outputs": []
    },
    {
      "cell_type": "markdown",
      "source": [
        "### **3.2. Building the Vocabulary Table:**\n",
        "Word2Vec requires us to build the vocabulary table (simply digesting all the words and filtering out the unique words, and doing some basic counts on them):"
      ],
      "metadata": {
        "id": "PBdIJvFUW-7Q"
      }
    },
    {
      "cell_type": "code",
      "source": [
        "t = time()\n",
        "w2v_model.build_vocab(sentences, progress_per=10000)\n",
        "print('Time to build vocab: {} mins'.format(round((time() - t) / 60, 2)))"
      ],
      "metadata": {
        "colab": {
          "base_uri": "https://localhost:8080/"
        },
        "id": "BQ-7lpxcXC9s",
        "outputId": "dabfc773-ffad-4e30-ef93-90029eb1bef4"
      },
      "execution_count": 72,
      "outputs": [
        {
          "output_type": "stream",
          "name": "stdout",
          "text": [
            "Time to build vocab: 0.43 mins\n"
          ]
        }
      ]
    },
    {
      "cell_type": "markdown",
      "source": [
        "## **3.3. Training of the model:**\n",
        "Parameters of the training:\n",
        "\n",
        "total_examples = int - Count of sentences;\n",
        "epochs = int - Number of iterations (epochs) over the corpus - [10, 20, 30]"
      ],
      "metadata": {
        "id": "VZGd5r0LXIjc"
      }
    },
    {
      "cell_type": "code",
      "source": [
        "# take about 1 min\n",
        "t = time()\n",
        "w2v_model.train(sentences, total_examples=w2v_model.corpus_count, epochs=30, report_delay=1)\n",
        "print('Time to train the model: {} mins'.format(round((time() - t) / 60, 2)))"
      ],
      "metadata": {
        "id": "WV9gOgY3XLVS",
        "colab": {
          "base_uri": "https://localhost:8080/"
        },
        "outputId": "017d66d9-ef73-443d-c922-9315e851f9b1"
      },
      "execution_count": 73,
      "outputs": [
        {
          "output_type": "stream",
          "name": "stdout",
          "text": [
            "Time to train the model: 2.73 mins\n"
          ]
        }
      ]
    },
    {
      "cell_type": "markdown",
      "source": [
        "# **4. Explore the model**\n",
        "## **4.1 Similar words (or, words tend to co-occur nearby)**"
      ],
      "metadata": {
        "id": "0rqyBIpWz_3K"
      }
    },
    {
      "cell_type": "markdown",
      "source": [
        "Let's see what we get for the show's main character:![Homer_Simpson_2006.webp](data:image/webp;base64,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)"
      ],
      "metadata": {
        "id": "cX4kRiPVX9FL"
      }
    },
    {
      "cell_type": "markdown",
      "source": [
        "This dataset is the Simpson's lines of dialogue. The words similar to \"homer\" are what others often say about him."
      ],
      "metadata": {
        "id": "SLJem1x4Yqdh"
      }
    },
    {
      "cell_type": "code",
      "source": [
        "w2v_model.wv.most_similar(positive=[\"homer\"])"
      ],
      "metadata": {
        "colab": {
          "base_uri": "https://localhost:8080/"
        },
        "id": "9_AQyvcfX6Xu",
        "outputId": "7dcaf934-8d39-41ab-a014-f75e15119282"
      },
      "execution_count": 74,
      "outputs": [
        {
          "output_type": "execute_result",
          "data": {
            "text/plain": [
              "[('sorry', 0.8658036589622498),\n",
              " ('snuggle', 0.8575474619865417),\n",
              " ('sweetheart', 0.853425145149231),\n",
              " ('marge', 0.8468605279922485),\n",
              " ('nervous', 0.8410295248031616),\n",
              " ('talk', 0.8361460566520691),\n",
              " ('happen', 0.8339163064956665),\n",
              " ('drunk', 0.8338148593902588),\n",
              " ('gee', 0.8296716213226318),\n",
              " ('abe', 0.8271300792694092)]"
            ]
          },
          "metadata": {},
          "execution_count": 74
        }
      ]
    },
    {
      "cell_type": "markdown",
      "source": [
        "What about Marge now?![Marge_Simpson.webp](data:image/webp;base64,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)"
      ],
      "metadata": {
        "id": "q7mUU2RDZBLu"
      }
    },
    {
      "cell_type": "code",
      "source": [
        "w2v_model.wv.most_similar(positive=[\"marge\"])"
      ],
      "metadata": {
        "colab": {
          "base_uri": "https://localhost:8080/"
        },
        "id": "pAqjpOZAZARX",
        "outputId": "efc8d635-90d7-42bc-8567-aeebd660c5e8"
      },
      "execution_count": 75,
      "outputs": [
        {
          "output_type": "execute_result",
          "data": {
            "text/plain": [
              "[('married', 0.8642829060554504),\n",
              " ('have', 0.8608842492103577),\n",
              " ('sweetheart', 0.8595461845397949),\n",
              " ('homie', 0.8575971126556396),\n",
              " ('nervous', 0.8541725873947144),\n",
              " ('brunch', 0.8533011674880981),\n",
              " ('sorry', 0.8485091924667358),\n",
              " ('homer', 0.8468605279922485),\n",
              " ('pregnant', 0.8349610567092896),\n",
              " ('ned', 0.8344532251358032)]"
            ]
          },
          "metadata": {},
          "execution_count": 75
        }
      ]
    },
    {
      "cell_type": "code",
      "source": [
        "w2v_model.wv.most_similar(positive=[\"bart\"])"
      ],
      "metadata": {
        "colab": {
          "base_uri": "https://localhost:8080/"
        },
        "id": "RGZH3e-DZWeX",
        "outputId": "5d03d506-fde0-44d3-99d6-765d099d7770"
      },
      "execution_count": 76,
      "outputs": [
        {
          "output_type": "execute_result",
          "data": {
            "text/plain": [
              "[('lisa', 0.8968666791915894),\n",
              " ('milhouse', 0.8911504149436951),\n",
              " ('mom_dad', 0.8890137076377869),\n",
              " ('upset', 0.8875244855880737),\n",
              " ('mom', 0.8538144826889038),\n",
              " ('kid', 0.8514471650123596),\n",
              " ('snuggle', 0.8512928485870361),\n",
              " ('strangle', 0.8507128953933716),\n",
              " ('worried', 0.8474618196487427),\n",
              " ('grownup', 0.8456237316131592)]"
            ]
          },
          "metadata": {},
          "execution_count": 76
        }
      ]
    },
    {
      "cell_type": "code",
      "source": [
        "w2v_model.wv.most_similar(positive=[\"lisa\"])"
      ],
      "metadata": {
        "colab": {
          "base_uri": "https://localhost:8080/"
        },
        "id": "RSZDAtege_Qb",
        "outputId": "99f4869b-6ab6-49a0-c969-57c1e95ac87a"
      },
      "execution_count": 77,
      "outputs": [
        {
          "output_type": "execute_result",
          "data": {
            "text/plain": [
              "[('bart', 0.8968666791915894),\n",
              " ('upset', 0.8572795391082764),\n",
              " ('sweetie', 0.8558251261711121),\n",
              " ('surprised', 0.843355655670166),\n",
              " ('grownup', 0.8431472778320312),\n",
              " ('glad', 0.8398072719573975),\n",
              " ('tell_truth', 0.8386023640632629),\n",
              " ('nervous', 0.8358112573623657),\n",
              " ('milhouse', 0.8323761224746704),\n",
              " ('jealous', 0.8323255777359009)]"
            ]
          },
          "metadata": {},
          "execution_count": 77
        }
      ]
    },
    {
      "cell_type": "markdown",
      "source": [
        "## **4.2 Consine similarites**"
      ],
      "metadata": {
        "id": "CrkIKEy4ZezQ"
      }
    },
    {
      "cell_type": "markdown",
      "source": [
        "Moe is the local tavern (Moe's) owner. Homer frequents this tarvern. Homer and Moe are more closely related than Moe and Bart (Bart does not go to the bar).\n",
        "\n",
        "Lisa and \"praise\" are more requently associated than Bart and \"praise\"."
      ],
      "metadata": {
        "id": "VqnX3YdraVjw"
      }
    },
    {
      "cell_type": "markdown",
      "source": [
        "Moe Szyslak![Moe_Szyslak.png](data:image/png;base64,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)"
      ],
      "metadata": {
        "id": "FViysEnzbYfb"
      }
    },
    {
      "cell_type": "markdown",
      "source": [
        "Bart![Bart_Simpson_200px.png](data:image/png;base64,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)"
      ],
      "metadata": {
        "id": "rhYvYe52bnko"
      }
    },
    {
      "cell_type": "markdown",
      "source": [
        "Lisa![Lisa_Simpson.png](data:image/png;base64,iVBORw0KGgoAAAANSUhEUgAAAPcAAAGRCAYAAAC5ViWgAAAACXBIWXMAAA7EAAAOxAGVKw4bAAAKMGlDQ1BJQ0MgUHJvZmlsZQAAeJydlndUVNcWh8+9d3qhzTAUKUPvvQ0gvTep0kRhmBlgKAMOMzSxIaICEUVEBBVBgiIGjIYisSKKhYBgwR6QIKDEYBRRUXkzslZ05eW9l5ffH2d9a5+99z1n733WugCQvP25vHRYCoA0noAf4uVKj4yKpmP7AQzwAAPMAGCyMjMCQj3DgEg+Hm70TJET+CIIgDd3xCsAN428g+h08P9JmpXBF4jSBInYgs3JZIm4UMSp2YIMsX1GxNT4FDHDKDHzRQcUsbyYExfZ8LPPIjuLmZ3GY4tYfOYMdhpbzD0i3pol5IgY8RdxURaXky3iWyLWTBWmcUX8VhybxmFmAoAiie0CDitJxKYiJvHDQtxEvBQAHCnxK47/igWcHIH4Um7pGbl8bmKSgK7L0qOb2doy6N6c7FSOQGAUxGSlMPlsult6WgaTlwvA4p0/S0ZcW7qoyNZmttbWRubGZl8V6r9u/k2Je7tIr4I/9wyi9X2x/ZVfej0AjFlRbXZ8scXvBaBjMwDy97/YNA8CICnqW/vAV/ehieclSSDIsDMxyc7ONuZyWMbigv6h/+nwN/TV94zF6f4oD92dk8AUpgro4rqx0lPThXx6ZgaTxaEb/XmI/3HgX5/DMISTwOFzeKKIcNGUcXmJonbz2FwBN51H5/L+UxP/YdiftDjXIlEaPgFqrDGQGqAC5Nc+gKIQARJzQLQD/dE3f3w4EL+8CNWJxbn/LOjfs8Jl4iWTm/g5zi0kjM4S8rMW98TPEqABAUgCKlAAKkAD6AIjYA5sgD1wBh7AFwSCMBAFVgEWSAJpgA+yQT7YCIpACdgBdoNqUAsaQBNoASdABzgNLoDL4Dq4AW6DB2AEjIPnYAa8AfMQBGEhMkSBFCBVSAsygMwhBuQIeUD+UAgUBcVBiRAPEkL50CaoBCqHqqE6qAn6HjoFXYCuQoPQPWgUmoJ+h97DCEyCqbAyrA2bwAzYBfaDw+CVcCK8Gs6DC+HtcBVcDx+D2+EL8HX4NjwCP4dnEYAQERqihhghDMQNCUSikQSEj6xDipFKpB5pQbqQXuQmMoJMI+9QGBQFRUcZoexR3qjlKBZqNWodqhRVjTqCakf1oG6iRlEzqE9oMloJbYC2Q/ugI9GJ6Gx0EboS3YhuQ19C30aPo99gMBgaRgdjg/HGRGGSMWswpZj9mFbMecwgZgwzi8ViFbAGWAdsIJaJFWCLsHuxx7DnsEPYcexbHBGnijPHeeKicTxcAa4SdxR3FjeEm8DN46XwWng7fCCejc/Fl+Eb8F34Afw4fp4gTdAhOBDCCMmEjYQqQgvhEuEh4RWRSFQn2hKDiVziBmIV8TjxCnGU+I4kQ9InuZFiSELSdtJh0nnSPdIrMpmsTXYmR5MF5O3kJvJF8mPyWwmKhLGEjwRbYr1EjUS7xJDEC0m8pJaki+QqyTzJSsmTkgOS01J4KW0pNymm1DqpGqlTUsNSs9IUaTPpQOk06VLpo9JXpSdlsDLaMh4ybJlCmUMyF2XGKAhFg+JGYVE2URoolyjjVAxVh+pDTaaWUL+j9lNnZGVkLWXDZXNka2TPyI7QEJo2zYeWSiujnaDdob2XU5ZzkePIbZNrkRuSm5NfIu8sz5Evlm+Vvy3/XoGu4KGQorBToUPhkSJKUV8xWDFb8YDiJcXpJdQl9ktYS4qXnFhyXwlW0lcKUVqjdEipT2lWWUXZSzlDea/yReVpFZqKs0qySoXKWZUpVYqqoypXtUL1nOozuizdhZ5Kr6L30GfUlNS81YRqdWr9avPqOurL1QvUW9UfaRA0GBoJGhUa3RozmqqaAZr5ms2a97XwWgytJK09Wr1ac9o62hHaW7Q7tCd15HV8dPJ0mnUe6pJ1nXRX69br3tLD6DH0UvT2693Qh/Wt9JP0a/QHDGADawOuwX6DQUO0oa0hz7DecNiIZORilGXUbDRqTDP2Ny4w7jB+YaJpEm2y06TX5JOplWmqaYPpAzMZM1+zArMus9/N9c1Z5jXmtyzIFp4W6y06LV5aGlhyLA9Y3rWiWAVYbbHqtvpobWPNt26xnrLRtImz2WczzKAyghiljCu2aFtX2/W2p23f2VnbCexO2P1mb2SfYn/UfnKpzlLO0oalYw7qDkyHOocRR7pjnONBxxEnNSemU73TE2cNZ7Zzo/OEi55Lsssxlxeupq581zbXOTc7t7Vu590Rdy/3Yvd+DxmP5R7VHo891T0TPZs9Z7ysvNZ4nfdGe/t57/Qe9lH2Yfk0+cz42viu9e3xI/mF+lX7PfHX9+f7dwXAAb4BuwIeLtNaxlvWEQgCfQJ3BT4K0glaHfRjMCY4KLgm+GmIWUh+SG8oJTQ29GjomzDXsLKwB8t1lwuXd4dLhseEN4XPRbhHlEeMRJpEro28HqUYxY3qjMZGh0c3Rs+u8Fixe8V4jFVMUcydlTorc1ZeXaW4KnXVmVjJWGbsyTh0XETc0bgPzEBmPXM23id+X/wMy421h/Wc7cyuYE9xHDjlnIkEh4TyhMlEh8RdiVNJTkmVSdNcN24192Wyd3Jt8lxKYMrhlIXUiNTWNFxaXNopngwvhdeTrpKekz6YYZBRlDGy2m717tUzfD9+YyaUuTKzU0AV/Uz1CXWFm4WjWY5ZNVlvs8OzT+ZI5/By+nL1c7flTuR55n27BrWGtaY7Xy1/Y/7oWpe1deugdfHrutdrrC9cP77Ba8ORjYSNKRt/KjAtKC94vSliU1ehcuGGwrHNXpubiySK+EXDW+y31G5FbeVu7d9msW3vtk/F7OJrJaYllSUfSlml174x+6bqm4XtCdv7y6zLDuzA7ODtuLPTaeeRcunyvPKxXQG72ivoFcUVr3fH7r5aaVlZu4ewR7hnpMq/qnOv5t4dez9UJ1XfrnGtad2ntG/bvrn97P1DB5wPtNQq15bUvj/IPXi3zquuvV67vvIQ5lDWoacN4Q293zK+bWpUbCxp/HiYd3jkSMiRniabpqajSkfLmuFmYfPUsZhjN75z/66zxailrpXWWnIcHBcef/Z93Pd3Tvid6D7JONnyg9YP+9oobcXtUHtu+0xHUsdIZ1Tn4CnfU91d9l1tPxr/ePi02umaM7Jnys4SzhaeXTiXd272fMb56QuJF8a6Y7sfXIy8eKsnuKf/kt+lK5c9L1/sdek9d8XhyumrdldPXWNc67hufb29z6qv7Sern9r6rfvbB2wGOm/Y3ugaXDp4dshp6MJN95uXb/ncun572e3BO8vv3B2OGR65y747eS/13sv7WffnH2x4iH5Y/EjqUeVjpcf1P+v93DpiPXJm1H2070nokwdjrLHnv2T+8mG88Cn5aeWE6kTTpPnk6SnPqRvPVjwbf57xfH666FfpX/e90H3xw2/Ov/XNRM6Mv+S/XPi99JXCq8OvLV93zwbNPn6T9mZ+rvitwtsj7xjvet9HvJ+Yz/6A/VD1Ue9j1ye/Tw8X0hYW/gUDmPP8uaxzGQABAABJREFUeJzsnXecXFX5xr/nnHtnZmf7pvcQSKUECL0l9CJdglKlI01URNSfGqIgRRERVEAEBFQkNAU0SA29JNSQQAiB9L596r3nvL8/7p3NJrSE9GSfz2eySXbmzi3nOec9b3le6EAHOtCBDmy4EBG1vs+hAx3owJqFil8r/r0DHejARoo2IouI//zzz/e9445nUiv+rgMd6MDGBQ0opRSHHXzA14YOHvpm7159WgZtNfDdgw4aeUjJRB8zZoxez+fZgQ50YBWgATVmzH2JPffc82d9e/eT7bfdRr5/4Wj5xrGHSd++Q+3WQ7e78Xs/Gd0LFCNHjvTW9wl3oAMd+HJogDFjLq7Zddfd/tKtcw854uCR8tL/fu2CpY+6+g+usb/7yfZ22ODBssWAoZNOOOHwvbTSbZ/rQAc6sGFCA1xzzTWVu+2y891dOneXU084PJg/7U4n2cclP/Mase8NF/mglzx5x9BwxPBhsuUWg+Yfecghx8Wf79iHd6ADGyA0gIh4u+680809u/WU8874erFp5t+dND8ihbl3SDhlD7HvdJPw3S1FPu4jbz26dXDgXsOkb9+tmg/YZ7cTY1prOgi+2aDDXNvAETvH3DPyjLfrTjv+ceas+ed+7ZCd7RU/O9arqvJVMRPgFd+A8GOUKccoh23xGD600bvlFwU7YliycspHS+7Yd9c9TwXcyJEjDR0E3yzQ8ZA3bChAaaXdiO13uH72nHnf3Xef7eSGa0+mS125CgpgqEeW/A6kEa1SKGUREVyoMGWWeQsS9qKrUub194qZrQf1OXf800//baTs401gQri+L64DaxcdK/eGCwVopZTbY8+9fjJ3/uLv7rzTYHfDNSfTpXOlCgOLSfiQeQ4jCzA6BcpGH1QK4wsSGHr2CMx1Pyzagf288mkfzbzpG0cdfnhM7I5nv4mj4wFvuFAoZfcftc95s2fN/sXWw3rZ319zsurStVoFuQLKL0PlZqGyz4KuBOwKZphCKQjzmv59suY3l4qtrTI1E996/w8nnXTMzoCjw3LbpNFB7g0TCnAH7bfXSdOnz7y+V7carv3Fyar/gC4qyOTxPI1YkJZ/IQR8EUeNhmI2wQ7btZrrL9O2LKX6vvrK1BsvuOCMnoB0JLpsuuiYuTc8aMAd/fVDD3170vv3pJN+3R9/e5bbZ+QQHWZzGK0RVQGZ56HpXlCglXzmgUQEpRRItK6bRMCD42vsZdcHJpky/548ZfJxSqkwft9nH2TdYsXxuCGc00aLjll7A8Lo0aMN4E4cfdS277417UZf+3XXX/Ut2Wf/YbrQnMNoA9qAXYLKv4QiH3/yszmgVMwVBUYJtqA5dv+MPv0Yz7W2Fo/cbZedrjfGiIreuF4m+jgaYFg2FqXdS4/pGKNfGR0r9waDMRrGunPOOafH8xMm/CMo2pFX/eIEe9zxu+ugvkV5vkZEQKeR1gmopn+CilZmpcyXH16BhA7lBbTmyuW8X6bkmdcyeshWXS5+6vnXf484TbQPX5v43JXZGEMYPul95/IH03VkPRYni5f/4Q+Z2KJQdKziq4wOcm8YMIAdffroLtMnTftrQ0PToT/83hHheWfs5wX5AN/3QBwOg7hW1JI/gJ2OUhWAWzlyA+LAOYspU8yal3Jn/tTT732Ua9phu17f+s/jz/+LeEuwhq9NjR49Wo8bN87RjqBaKR6+5+bOf7nvwaFzZs4bHFq9ZS4f9hXoZjxTViwErWVJ790hA3v97YF/j3+TDoKvMjrIvf6hAXfJJZeUPzfh6TvnzV583OnfOii4/IeHe8qJEiWYeFhbXQbNj6Cax4GpArHxyr1ylqsTQQTECl45vP5u2p31U3QmF84fuec2B91+z0OTGTNGM3bs6hJctXs5QEREX375EakPJgdbLFqaO2rOvMUHtLYW+oBX7RtV5xkxnufwtMLzQZxIJq+U73nz+m/Z7/Tx48f/b+TIkd6ECR3x+ZVFB7nXLxQgRmt2GbHjNZ/MnPvDww7Z3f3uNyeqioRWUnSgwKHQysOFi9FLfoVIiFam7em1Oc6+BKX3CVAMIFnhuO/RCvej6wNdWZ165Zyf/vTAC48/vpWvuEqKiBo1apSZMGGCLX3+pZfuK7vp+j8MnrdQ9luwsP6MXCa7tbVGunfRqntnoWd3n0H9PYb0g/59kK7VUJ4OUOJ4YmLKXX5DxmQDNW37HXY44p///Oe00aNHm3HjxtlVPbfNER3kXr9QxhjZe8/dvz/9o1nX7TZikPz+htPo0SmtbM5ijMFJgFMGRQpVfwe68DxOlaPU6jw8wTlwVvASHlfckna33J/VvXvU3Pnam2+e7qzTLHNqrdR1tDe9RcQc8fUjBrYuXLD/7Pmt+wahd1gqkS/r3UWz9UBfthsqsu1ApbbdUpHukgNpVhQMWB+cRD9xkLb8+rZOxT/dk0t07lL+q4lvvPV/IrIufAObBDZXcn/eda/0YG7387M+szLH8YzxwpF77X7hB9Nn/m77of3NTTec5vr3qdVBJsBPGBAQcVidRmXfQTf+BaWKCBoUqNWht1gsPp4OackqOfeXdTzz2mK75cCeP3rp+devE/lCgpe+WNr9W77znR93mzhxwoHNTc0HNDTk9nKS6jd4i4S327Y52WtHwmFbOdOzS6iT1QKugGQNYeABDqU1ONAaFBanDCYVMGV6pTvuO05rT73fb4seh/znP8/MZO34BjY5bI7k/tTAUKoUNlpxzC73rra/iTjki+n7eaGlkudXaa3tvvvue8YHH0z7U7/enf3bbjrbDRnU09hcgDEakXjDqiIi0vBndHEqSvnxOUTn/VWwzIwXnNPoVMjcudqddFm1+nh2c2bYkC1OH//00/fz6TDUcmTXSmGdU9/5znnbP/vcK+c01zft49ADfOOn9tm5guMPaHbDB1vbrc56JuWigHuosIEGpVG6FKMv3RYQBIXCOdCe0NSq5Ntjy9Tzb2QLO+0w+JB/Pfb4s3SQe6Wwual0KMDdcccdqeeff7wuCPIVH3wwr6yuqqqznyjrkclkapqam2pam1srnLiEEylHqYxSKqyuqW6qqqhoLq8sby33vPqGpqWLs0GxdVC/vgWvPJWr88lcddOVWeiTj8M3n09/hRu196jjPvrwoxt6d+2cuOk3Z9ghg3sZFxObmLgiDkUClXsLl58eLWuxsfBViQ3t4t8olBLyLYpevdA3/l/enfTjsooPP559y4H77VZ46tlXH3FOlrNORETddNWpdU8/M7XH4kz5vkOHDD8jm2kdXlmRUgP7JRi5a5oTDynIgD6LHfgaCXyxgs0DaJTWGI8Vbo9q9zcVn6MQFB3V6SS7DxIZ/xLJ5ob6oUqpZ0Wkg9grgc1p5VaAHHLI/jsvmr/0kgULG7dOphIDjJa0iMX3DMYolNZ4OnJWiQiiFOIE5xzWWsLAEoQWZxXa8xGRfFAsLBSCOTVVtfN935vnJ9SCLp2rG8IC82u6Vi5Y1NyyqFN5p+bddz+8OHHi46l582YfOfOThb8cNqhnj99ceZJsO7yXCluKGE+h4rULEQQPkRwsuREVfIzyylFrdMESRCI6BSL4ScvLb5TJpdd5asbcguvdtfK6gQO6PFrbubZ1+rRPemSzhf4LluS3zNnkrr42O5WlWhNb9PBl+FBRu21jGbWrksouzUg2qVQQbZ8Rg1IW4nD1yjj+ILJMQqfw/QL/+leZO/8PZXqLbur6l9+Y/H3nOri9MticyM0tt9zi33DDDf8qZguH7rbLENlyi1pVV1XlOnWulNrqNMlUQiUSHsaodoYihKEjDEOKRUdra47Glqw0txbItOapb2g2SxtaackUqV/azKLFzTQ25yjki3ieyVaUJxs9Xzem0okF5al0Y0tzvmd9Q/MOo/Yemrzy58e5LQZ01TYTYLQCEy34IoAonE6jmh+D5nGIrsQo99Vt8c9BZKJH32dFML5j8ocpueEuzfiXfdWSba1PaNOSz4d1dZ3qKnt3cWzVN8vWA5XbaRgyuJ/SPXsWFYkQ1yrgfJQuWRbtt+Ttv28lrkEgBDyb4/VXy9w5N1bobDZ77y23nXzKvvuO7QiHrQQ2F7NcA+6p8Y9sm23KDd9tt4Hcfeu5Dhdo0aKjJBAdb75X3MxKvNOMLW1Ry/6OAyuSzYcUCs41N+eob2p1Cxa3qE8+Xqw/+HBe+v0ZS9LzFyzp2bi0ZdjisIl0RSVnnX4A3//2/lJTm9Y2U4yI3fZdUWjYmTIozEG1PI54aXTpPNYw2qeoKjS2CNtslVO//VFaTn4vsK+8W17XmvPr+nYL2LJvs+3bLXS9unq6rLwYmTdOKOYckvXwtEZrt5zZ/7nftxLQgAugc5WlW43jvWavbsiQLZNEvO/Al2BzITcA70/7uCdI3Z67D4ZyowuLc8r3NSIWwbKcl0wRe63akZooYUSVfh+9UaVTSdJpTG3nMvqZzgZtIERsMZBcsSDFopN8a5FCPqC8uoxOdWltlFauGKK9OLssXq1FCUoMylmkdTyKLEqlEWfXup2llQMDNvSoKMurkXtqM3K3UJCMoEWhQ4NVhhBcYNpul2cMWgnSdp9WHwKgoZB3dKoydK60BEVd8fx/pqaBzBr5kk0cmwu5FYD2U51EZ7wt+veAfF4po9FKtydq/DM2ygXQNv67Aim9V9qIiCjECjhBrI0XdIVSRhlPUZFMKFIKaiqipcg6CB0iFq0/nVmmcIhOIpm3kMIkxKRQcSba2kf0HUaDOI3LglahEqxyTogcYh4KQX8qHqBWmPTWwJkIhAGkvLyqrfQphFQ9/Niz6XZv6UhH/QJsLuQGIOl7aaWUrqpIgRi0+nSik0gUipGY4Iq4YKMtChSRXOFQpVVKRXErVZoo4jJLrODEAQ6JLckSSbXSy8WzpC0pxUfCDGSewjiiffiyX64zROHB6O/iVJzmGnnX19k5oLBW4ak8XaurSSYT1fWNufJ1dgIbOTYfcivQSmujFelUAmxJUpTliKNQhMpFHBWNctE+XKJNKVoip5ZDiEo5QJUWEGeWfZmKPNFR9GqFakZRMa/j/btInIQtOK8M3fo0pvAJotXqBbTXAERAa9Pu3yvpEFvd7419DOLA4aiqUFSkvHLn+WVr/cs3EWw+5BYIFCIShbRQaplN1+bUjYgUOa98RIVYuxQnoHUSpTROkjgUKB/w2u3JaWeylwgbO92W8xrHceq2/1v2HtFVqOxb6Nb/4lQ0J6zvcMaKRF432wPiUCQocYSiVE26iG/8iqalHeReWWw+5AZ0WCw4J5IvFkHFsdL2ZqbE3nI8rAowTeNRmSfQKgEqCaoMdCXaVIHpBKYavDRiqkDXAGnQKVAJUAbBxDngEkWnxQJRTcUyh7KKj52Cwgfohr/jdAFFIlq21uOqvd4hAg5CC13rFL4JEgsX2g6zfCWxWZB79OjRjBs3jkIhLIgguXzkFXYSKZREq20755YodNAExTdQqgjGIK4FcY1g56JCF79No8THqXLQqSg1VFchuhpnalCmDkwnRJUjphylkpGzjASayNR1yoLLowrvopofwtGIUmUoLMT7/c2R3wqFOIeLfJV0rkQ8ZVV5dU1XNafDk7Yy2CzIPW7cOACyhUJWENfU3AraoCiyXBp4yf+qBZSNcrqVD9JODEH5oASFBgxCiJYMzmZxSlDhXBDwVLRei0QrszZlCGm0rgFdASq69UZCnF2MDuN6COVHwd3YJl9nZvCGBgU4h3YO66CmLCDl+xSc7q90lDXYgS/GZkFu4om+POXngpxxDfWtoPXyQVkpJYlE/+1QKOXFjrGSE8nEOd86tuAtoqMEGIWgMLHzreRr10Ra4oJyrSgaEDubaI9dkiI2GJUA5SNKo8UhupSEupkSO4azCpHoVZ4qUFtVzoI5zVsve1Ad+CJsLuQGoLKmptDY0Bo0teRSeHHsekV3OYAIWpmIrFLKuFrmJW6T9VKqzTEWEdG2/S1eelAlc19pIMGy4rP2WWnR1kDFFSObN6WXwblIPQYUCR+61Cg+XGC2/5KKvA7E2KyUJf20Hyh02JqJHGpOllVZLUO85mqvzXT+ND6Pfiukrbb9LL1ih5pYkDB+WZb3qHegBOcc4qI52DOWrjUBhUKm05//fFtl/JaOefALsFmQe8yYMQCUJ5JOEJdpyYM2iLLtMs/iRBGlY1PcB8zyKakdWKdQtmQVCUZrOlV6aBG/sbGxBxAnF3Xg87BZmOVjx44FoKqqMifiCk3NGSJ3ObSlmUK7sFiUjSWqvGNtWF8QcJa2ZCCUoiwBCjHz58+vBrj88ss7UlC/AJvFyk08AJqaGrOFIMg2NDZDKFH2GBLFvFWp4qs0XkwUe/6MLXkH1g2si+LcEvs7jHGgMHPnzq388k93YHMhNwAjRmyzRCnVmM0VIFuM5Ixwy1bsUi61sljlRcklHcxePxDAOrREVXgGlO85RETPnDmzCmDKlCkdD+cLsLmQWwAuv/y6Zj/htQRhSLa1gDafU3dcWsF1GaA79t3rAYLgrI2DlQoISXohWvCaWltr1u/ZbRzYXMgNoHzfKzpxrcWioyVTBK0Rq2IVQiht36JaD41SCRyx17aD4OsMInGugVXRlkkUSjmSiRAv4ZuadHUvgEWLFnWs3F+AzYnchKHFaFNfDEIamrNgvFiDoVTfqChpp0WZaqUahQ7NrnWF9o0TxDpKglfOOarSStIpg/H8ruv7PDcGbFbkBujSudPCfD5PQ2NG4ccJ5qUwdJxQIqrkLa9A4dHhkF2XiB2a4lBxbT06ygjuVI4rSygWLV64FUBra2vHyv0F2CxCYe2RSKeWtra00pTJg4nrtTRRrLskiiAhTifQOh334fqU7EgH1hoExGDDEJygcGgxFIo+3To5asuLLG7S3UUkrZTKi4jaQHqLb3DY7FbuoFBoCIOQXLbwabWGeNFQSkd8VwbZ/G7RBgBp5+NQKGUpEtC9OtT9ugNiB48cOXJ/wI0aNSo5cuRIL+7z3YF22OxW7nyQbw1DK7lcMZJJ+dScX5JXMqCTRLcoAFauTW4HvjraCK1KujSCEhUFLjBoyasjdq2yj75WLG9oaDhRRJ4FWmMJqEjk7dO5xJstNrtlKWEMobVk8wWINFeWQUCUQsf7PVRZXK0ly4s6dGCtoH15q1IaQUWKNIBRllxB2HNYq9l3eDWzZjV+fejArV8YOHDg3w7Z58Dzxoy5tKfWuuT5bPOisGxPtdntrTa7ldvzlFgbkM+VarnbCR9CRGqi5BZFErQHNvamd2SrrXVET0SixoAqqgzTMcGdaLRt5arTFFsP6OI99Xphu8Ut3nYz5s08fuodH/9i8MBtZ1bVVD3So0enR8rC2TP//sjhzVr/orhCGNOMHDlStW8zvKlisyM3xktZ6ygWSsqnelnKabsqTBDQJspSE4dSfkz4DqxVxLJUSoPWGrGluvdIeTV0Ccq9LN87fLa66LCEe29WGa9O0+b9WbrTJwuLnWYvWrjj2wvnj1GmYl7fLR9+avjwbSf2qCubOnRw//f7Ddlj0Xe/973ChAkTANSwYcMSo0ePDseOHbtJxjo3O3JXpys7Ka2UdTG526rCXJuuWpvgqDKIKgMVKaq01XF3YC0iUkbUGlRCowLb9n+CwqgQEWhttSiV1dv2bmWnLaA1qJQF9TBrcRlT5yj13sxcz49mc8rMxrJTXpnc1Pz2hxM/7v3Se2/tsdM2z5dXdH738aeeelspVRg7dqweOXKktymu5JsduZsbm/sa5eGnPNpcDivwVbWZ6x4oH+VM5E/r4Pa6gVIoFIlyQ661iEPjIcuKe+KVXUSTKRha8oKovOpeI3SvK7DLIE0omqXNKfvhnJDJsxNVr75fPnzitHC7bK71W9WVxSVbD936tRG77DJhpx12uO/WW2/9hGVPdjn7bWPGZkHuMYzRYxmL7/vS3JIZkEwm6Na5WiD8DNmTyFOLKyIkYgXTIpCgg9nrDoIjWZEgyDiK2ZAgzvHXKm4aEZvvWmKRGxGKRYXDxm7SgC4VBdNvW8cBw5OyZL+kzF2SlOenluvxr7nOsxcWD2te1HDw4+OfuGj7bbZ/adigATftsk/P1y6++MZCfAobPck39dGqRo4caSZMmOAAN/qYY/Z7feKbf+/Spbbb/X+9UPr27aRsIcDouJd7yex2LrYEfaTxdlTuNTCVKHGb/h3bQCASK9E5Tb65QNAc4IIQZwW0QmuFcqX9U9unaP+AYmVkxAkJ35BIOBBPCqHHlLlV9omJ6InTlf5gVkgmL2F1VeL5nl2r7+i8Vb//3fuXfy4EUaNHj9bjxo37dGuajQCbbChszJgxGjDPPfdc+Ou7fl229x57n/XG22/flssF3c46daTru1UXVcwFGLV81ZdAaYsXm4AmeqlN0ueyASPyhSjtKKtLUtk7TXnXNH55EoDQRmnCJf05EflU8Z5SYFTU+6xohdasprVglbiC2r7PfO+y4xr0jedm3DVnW3fYrgkPa/d9+/3Ft7/30luPjtp753Mff/zx9Lhx4+zo0aM3yiSHTXEdajOntNYccPDehy+e2/CDJYsbR3oJI9+78GtcdMYoxIpCKZSOR0SpzFNJlG6uDLgA1fBnXPEDtKZNa7wDax/tuyiJCEqrOPVfKGYCCs0BxWyIEt3WYbTUnmnFQV3q/wa0KbtET13wtOB7ELoyJn1SJf982uPRVwtoZVXXuspnKrp2vfLZJ598ik+L7W3w2FTI3X5/pJRSMvroo3f88MMPL2lqzh7tJ1V6t10GuXNPO4Tddu2nKQRtRF5G7jiHXMARIqYCivNQ9X8A1xQ1wRPZdO7Yxoj42SitkVARZoVsU4EwF0DcNbUtU6Vtzv5iiWhBcC4Spk6nQWwZz7xX7m4d78vb07KmvDyxuFfv3sc++eSTLxC3DF/7F7pmsLEPVT1mzBhKccpbJk70H7n88n0+mfHJtxoam7/Wqbaybp89hsg3j93N7rTTFl6yPEnQksPEVV9AW9dKgUirq7T3VhW45vGYzIMolUCwKDEb/x3bqBGtuk4EraJqMQkhyAbkm4qE+TCKaLblHEXpq1/+zATnDI7IYVeZ1jTmyrjxkYriP54qJsrKkv+cPHXqN0XEg7hd60aAjXKoiogaNWqUmTBhglNKuRMvvLCq/oN3D501d9GZDUubdy9PpyoOGDWc007aw+6wXR/lJ1OaMMSFdvl+3LLMBeNwOCVoXYYSg8u+g2q6C00rKC8uBe1oFLA+EZnq7S3jZcS1oSPIWnINeWzeopVCq2X14V983Lhlk0TprgWr6VFV4Nn3urjz/6h0aP1/zZw14+hisbhRkXtjC4VF0grREw4nzp2YvvTES45656mnL66vb9y1PJ2Wrx08Qp128ij22Lm3IJ4Jg5Awn8Pgo/WKAe1St02FwgdlcGE9tE6E7KNoQkR5cbMAOoi9nqHaJJfaIc4eVhqSlR7JdBXZpjyFhmKU3bbiM//M4y6rCtQIXkz0OQ2eQiCZqphXLBYZMWKEmjRp0hq+qrWHjYncpafkxtxwQ9WzD4478sRRp5xRLOT3ralMc/RRe7jjj9pZ7b33MJQJkZaisioAFWc7SZSAJIAShY1KjUAlUBJAcQY69xYqNwWR2WiVROIVe7PsxLcRQUqtnEQQYynvXEYy7ZNZmsVmQ9A6Dm9Gz/HLQkQOBTrBzEVaFYrObdWr7q3JwIABA9zGRO6NYdSWyvhkzEUXVT391huj589ddGY2m9l5qwG9vIP33c4dftiObujgbp5fVUbY2BpVEZkVioDi2DXisMpHVApsHgpT0fk3oTAVXD1KGZQpawuxdGBjwbIYt7MWZRTOQn5pgVxTgFKuzfL6InKLRH1hEqlyuezWMvXoRNcw+usH7XL99X+czkbmMd+Qyd22MxYR7+ijjzjqvckfXJZpyW2/Rf9u/smj95bDD93W9upRZ3TCKFvMERY1RgueV2qkR/ynQzlBlAaVwopFZ96C/PNQ/ASkEJvoyah2eEO+Kx34UshyeQuKYlOB7OIsJY+J/gJLzDnwE8Lsxhr54c2+mr7If2/atPe2Edm4iA0brlkePwNlf/KTb/fZcYfhv1myqP74zp2rOefUAzj91D1d59oKhXMe4nDZEKUNCS8uGBRQcdmmEwXKB2OwtojOvY00/Q/kI1Am2m+pRNuXxkXdG/a014HPRXsHmghoJaRqk2AhsySS1voijjrAeIrZ8w1zlgida2oe+GCjovQybIjkVoBMnDhRX3rpxd/4+98e/015WbLHN47Z255+6n562IgeKmjOa1sI0dqhlEGbkqEVm2YC4KKVWidQNovkJ+O3PI8Eb6HwUCZJNBHo5bbUm4PTbJnXuVSjvkzXYGW8yxsylhF7mYqqAkw6gfICcOFn+lAk7iaqFNjQ482PfNWUcwwf1v2+F19dp5ewxrAhklsuveCCnmecccbYhqVNJ+6+0+D0hWcdFO6x10CjU1qFi1vRxkMbCyxzeJUeThToBFQ52CySfwmVfx1dmIZIDnQlUVkCUTcL5djclmlV6r+FxP3GY4uHEP25nU03LiilloW4UBSbcrH3fEUlpnYTgUQZa/VZz736QaCVV/XUT8/sOf2uB6K3rfOLWE1sSE9SAXLMMV/b5r9PPXVLseD2uPiCw8KzTt7TVtdUeS4o4pocnp8gaiDlRamEceaYqFLD+yRKaVzmdSTzNNrOQkkBtIemmihMqeLqQbeSSQ6bGiIdcK0VzkWpm7ok4byp3AspkdYntzRDoaUQhcU+xyoXEZwoyn3LS9PS7oO5lbouXbx/yOE3FdjIHGklbCjkjjIGRfR222xzWTaX3+PXvzrdHXvsCOMyOVXM5vC0wXgmUkOJU0cRhcLGe+dIKcUWZkDzQ3jBTEQV40KvdFRBpEPaRm8pbv0Fg3mZiRpNG+sjKibxly4zMFc8t692TGMU4kB7UVGMCyxaxfd3I2X48vdE0MaQXZohtzSHUjpanduFxJaHwmhLkaQb/2bKW9TQ+vGhB/V/YdI7k9flJaxRbEhVYXLu5ZennKVfKlXGtkN6K/J55ZzCM96ydFGJuv84B4LF6bKo5U/+Y1T93Zgl1+EFHyJaUKRAp0DZ6LWKg1ZhsM4RBAmcKymxrAeIYK2OVlkRnFs9AioF1jpUQvPiJI/HX0gjCCJ2oyU2LDPFnUT+lnxDgUJ9DoWJ6gKc+9wJ0YkimVBMm1Mlj72s6NXV++/dd/9vyjq+hDWKDYnc3HL55QVjmN/cnOWJp9+GmgqwNhLIW+6ZRA/P6QoozEQa70ca/gi5F6ImAjqFRsexzUjJ9NO1Ql8OURalivgVrYhef3tzcQbjB5FvIe4pLqthJVqnMElh1jyfs3/pc/8TUewfvQlUvQko5VFoKZJZmsfGVWNxamMsgLk8om25xugyd/szZSabzzZ2r+vysIocMiUNno0OGwq5hTj0VV5R9aKzlmeee1dJYwHje4iTZe9CEGVQeND0b6ThZiT3LJ7kULoSh0G1Fe7EiSxKrbI5LaJQJqS5tYKHnu5GPoh72rB8HHXlj7fiZ0rH+qJPKUQcaOGT+TU4S9SgUPPVTPJYAMFoB0pz+8PlLF5a4LgDhIQRnHVsjOO4/b1VRlHIhGQX59DOoVXUMaptXlbLb22QaCNSngyZ9HG1e2pigZrKxNPPvPzyE2xkVWArYkMhN8Sjarvtt3ugqi499Y3Js/n3/94VVZMiDB1OLFY5rDIQFlBL/oTOPIChGU+XIdpHKYvWbo2MT+sUlIW88oHHZVfDHQ+XQcJGSiCf0r7/cigFzlmcs9g2pZcvdmAJUfVTtuD42U2Wy2+rRfl5rBWQVd1mxHXMVoMPn8xOcOe/8uy3s8/Owy2oItE43vjMcqVAbIggBFlN64IMhNH+W0v7iMAytO3P49XckpK/PY1XLLjWHr163BkEASNHjlz1B70BYUMjt7rlllvm9uzW47fFQp77H3zJNi/I4iUV4gTRceO++juR8CVEVVLyCS4rAPmUDf/Vz0ZDEBryQY633o9DbywrNvkqB9VaEAmZMCnNtJkplGc/NfCWOwcFBkVYsDz4eI5CvlPcKMVj1RaV2JRXIWjL+BdqaGho5cC9DHWdQ8LiMkGEjQ6xuIYtKLILm1HWISYqDYVStdHyHyk5SkWEpG95bVqFPDdFSFaUjX/66acfAbwJEyZsNBVgn4UNidxt2HvUqHs6d+n87xdfed8b//gbofL9eOlLIK3PoYKpQF2UScbaMiUViJDwLAntoXFAIgq/fZX9u0SCABjFtNnlXHx1ipffUeBb3OedvlI4B2XlHt06QSEsMn2Oh04UY1qvYGKy7LX8NkBKh0Nrj6CQ5j8vNrFFr3JGbBOv2uLxlees9QApbdFwUQ9Hq8ksymKLIcpEU5n+kouJasPBUcaDL3u6sVk37bztNr+Mf71R6qa1x4ZGbgH02LFj89uM2Ob/lJZ5f/jzE97sT+qdSfhI2ATBu2gVoo1G6y9Y9VYTSkXifFVpg+8L2WwA1pWo8xUOGDWRR/tceWs5+WKGEcOAov5cL7yKVUJIFujb2xEUDG9/oCDlkHD50KtSUcy6ZPpLHOeNXgpREm01VMiChT4ffRyy9Vaww2APyRiM0VETgK/gT1gfUPE2Q4kCB9klOYJ82CacqOP4/edacSIEoqkoV7z4fo3735uKztWpv959373vlN6xzi5mLWFDIzfE6b333H7P5F79ev7io08WcN0f/gtOOSN5lGtetl9di1BKoOjRpxtUVxRpyWrCooqqRD9XLDFeOSNZl+VGhziFSQc89VIlT7zUzJGjDEMHZJFQf+EuQmug6Nh92yRJXzHh9Ry4CpSO9twuivAQxXUFbaIOSDrhUH67l7EYH0g5pn4c0JpNMmyIB5UNFAMf1ba6r1q+xhc9hzX+jKTdxKqIeriJR3ZxgWJLHlPKpi3tpT8vzTR+RAnlyOQr5a5n0C0tdsHwId1vkxVNoo0YGyK5Id5M/vjWO+7s0qX2wX8+9KK+7e6XRFfWIVS3xWOXdQFZ81AKpAi9e4R0qvFoaNHUN0VqnDbQhKHEL4UNBevAOYOIjvpTquUjxiIKdDm3/jOka63mm4eCl3JY+WLjUSvBhYbdts+x9Vaal9+AVyemMGWOYlHQfoguF/CEUAxNrRXMml/DO+9X8PrbFbz8ZgWvvlXBm5OreH9GkqaGCqZ8nMD4wq7bRclAxrMEVrCu3Uq/ksQsxZY/67XGc9RV3PUznji1KHJNOTJNhcjq+FKbSlBoHAqLUJ6G/76VthPeUPTrlvjbXQ88/m7bGzcBbCgZaitCAH3YoEGFo48+7KeZTH6X3970QO8ttuwl+++2mwrmvI+PICqMQmJrAUoJQZDAr2li64HdePhJmDGnSNfOoMWh/SDSzCWOtVhBAkUQGgSDMTaKqwJgMOU53plSxnsfhey4jceOw/PYTFSi+sULhQbrUGUZvn1ikuO+V+T+//rsMNwjUWOYP8fw8bwyXp/s8/aUJmZ8soQljUJLqyKwGlFxqqlyVJUrenZL0ZozpJMpPvy4jF7vpBnQU0jWBrhmRxD6eN6qJclEiSPRpKCVizXMFGu+7bECcVEWnfbItwbkGnIYVJzPUHrb55+7EDU0KDOaBU1l7tbHlJdO2tlbDBl42ytvvgsbefirPTZUckN0g/XDD/9n6v777/+jD6d9cM91149j0A1n0qdqB4KWN/GMv6wQ7FMrxXLBzXZFBMsqoD6N0mdiE1U7yHh885Ai//iP5YU3k+yybZJFTQky+SK5fDQGylOG8jTUVGoSVTkwTVD0oOCB+ARFQSfh7Q+hOWPZdbsUqBacS2Lap8R+5hnF+8Zckv12KXLM/mnuf7KVHbauZGmz5eH/Od6cugBE0bfflmy11S4M7dKJrl06kS4vAwzFIE9DfQNL6uuZN3sejYtnsnTpPMb8dhE9unZm1x3KOHgvn/33bKamOo/LeFE9vGp/7z4nlBQ/Ki/tIAlkFBIsS9ldk4ugxBVsSiUIc0LrkhyEUZv12B7/8oPEPlid8nnoqapw1oIw0aV75d333vvQ+0Sz0UbvSCthQyY3xIHXZ5595m+777LrXm+/99G3b/zLS/ZX3z/YGDMV60KMiXPMP/VgY9NSFE4s2gdxkVc1SgJZ/t3R6qNBIt0tbTw8ExAGZXSqM/TtZbjjoTzPvOZoaS2SywmFQuSpTyUMiTKoLIeutbBl3x5sM0jYZeuA7nVZSBjwy1myMMSGIdsNUWBB6c8uP1zxOqLiDkWiosAZx6R47vUEP7q2kWyg2XJAd35wyQnssdtu9O7bnz59e5NMpj77Zopl6dIlzJo5h08+/phXX32Z5557gQf/N48H/+ez+w4JTjuylsNHZUkmAsIwuh/mU5lr0YQThg7PE5TxGP9Mmv+9bDh3dIHB/XPYwGDMmo2bR9VskWRSdmkGVXCR4s7KEhsFRGNh1pKK8N+vqETSN+8c9Y1jbnr91UmMGTNGxo4du8bOd31jY3AcKECuv35Mze1/efChTFPLqGuu/HZ43MFLvGDeX/H8CkRKqqbtQ0OgfMfipYaxf6pjx6FZTjikQFkij5BYwXEUeaWdU3i+hYRl0cIyXnwzwaPPKV6a1EQ2ZxHlUVnZhW7dO1NTU00ylYgWAoFcrkBDfRMLFzfQ2NiMci1UV/tsOyjJgTt7HH1gGbc/VOCmv+d48Z4U/Xs14QIVyTp9zsAUFGItOglNzT73P5ngz/flWbzUsePOO/KN40ez3wEHUlNTg25HQOdKyTbRUVCgtIpJuuy7gjBk6ZLFTHr9NR595N+Mf+JlGhvrOWxUZy74hmGPHRoRqxEXr45tT0Qi8vo5Fjelue7OJLfdX2DrIWXc/cuAvt1zuECj1/DSEUkVGzL1LWSXFvCVF0UhVmEYOwuJlJbbn+ykrrvfuX79up///PPP3zJixAh/0qRJwZo94/WLjYHcEO+DRo8evf2kiW88VJZM9L/9j+faXQa/aOziZ1B+FWqF6HPUpQLyVjjvF9WMe7yVKy8u4zsnZMFFezRRkY0mzsepIl7K0lBfwf1PlHHvI628M72F8rJqttlmKPvuP5IROw6nZ8/u1NTUUV5RQcL3UTqqFguCAplMM0uXNLBw8ULeeWcKzz/7Cm+/+TYLFi9iy37lVFaUsWCx480HNel0C0FW43uKZX7NuM46nnesE7zyIu9/UMsvb1E89tRCth6+LRd/5xwOPewwKisq2641DEOUUhgTkfyzJgzn3HIOL2MMOmZtEAS8+eZE/nb33/nnfY9QnrKc982unHdCK+XpPGHRw4s99NYpjC8sakjw3auTPPJsK8cfWMEvLsrTq0sBGzq0SkTbmjUwxNoS+ZQiyBZpnpeLMoHVqvoGotPJhFXu1GuTetYS/fr1Pzx+1JHnjs2ypvcQGwA2FnJDvB/ad599Tp3+8Yxb+nTvlbrnT8fIFjX3KZtZjPESRNulZZdkLZhkyNyFSU74YTnTZ2a581dJDtqzkWJOUDoNYQHtg/Lgmddquea2gIlvLaVv/9587fCD+Pqxx7L9DjsstzKuCqZ/NJ0HH3iQhx74FzM+/IBkeTmXnN6F049upqoiR5hPYoyN97BRzNsKhKEhWd7CCxN78N2rCnwyq4nTzzyBn/zkJ9TWdWrzZq+4H15ZD/WKn18mbqB46qknuerKq5g06R0OP6gP117cSo/OeYoFH61AewH5IMlFv6rk/sdbuOjEFJefn8UzIc7qOBS1LGtwdSEALvKEZ+ZnCDNh23esCkKrqKsscveEflx+d0DvrlXnvPD6639mEyQ2bFzkVgDGGNlpl+G/XzCn/qLddtpabrliS6p5SDlXWoWWhWGiFRUSFSGvv5Pm9B9rjKe55xrHtkNaKbZqEilNJhty4z+68Pu7l6K14tRTR3Pyqd9i2LCt20gQiRtEq9znmtHtCNM+d1krxfwFC/nHXfdw73338v7UeRw2qoYx5wcMHRwS5qKQV8nLLOJQCcv/Xqjl/F/kKDrFmDGXcuYZZ7et0p7nrTSRVxbWRpOM53nMmjePG6+7htvufJg9dqjg5p9k6dPLEBQsOgE/vaGGm+9t4funVfDTc7O4IMCJxvfWPEeiZp6C5C0t8zO4UJabjFYOCmstnarK5Iwba9V/JtqZh+za/ZC/PjjhfTZRcm+oce7PgkA0AA856Igfde5S+c+XXntP/fr2pVL0tkeRj8zOtrauUUKJ8SDIeOy8XZbrf6xpzVnO+YVh0lsVJDpZZsz3uPjqzlxxy3y22qoPt9/xB6741dUMG7Y1QRC0mbJa67YV7vNQ+r1Squ39zlqKQUD37t34/g8v4e57/sqppx3B4y81csqPNf95thyTihJjBIO1gko4nn6xhu9c0UoyleLPt/6OM844mzAMcc5hzOfv01cHWkdZasVikb49e3LNr6/nFz+7iFfeynL2L5N8ODOJXxPy1wfLuXlcjrOPS/Kjs3MoF4ByeMaV8kLX7HnFHm6VMJiEh0SBr1W6ByLgaUtDvoLFjRbPuXnX/unyOWv8ZDcgbEzkBpAxY8bosWPHZvcZecD5dXWVT9z5j5f0XY/2CFVFH2yYjfdncWqiikLRvi+EWY8Dd2/mz5cbFi8JOG1MwPV/quHS63zue2wOhx64B3+9+68cdPBhQDSJeJ7Xti8trRQrg/aTgOd5JHwfG4bY0DJ4yDCu++0N/Pran7G4MeR7V+f4x2PVqASEYYhJWN79oIbvXpfH+DXcfsetHHzwYQTFIlrrtvNZGxl6pUkpkUhQLBYRES767iX84qcXM/GdVn5wneLeB7ty1V9CDtvb5xffsfg6G21/tIkSf9aCMShEDkFlFInaNBDJVK/KLVAKQmeoSLWorp00hVBtff6ZY/YGGD16dJywsGlhY70gA9hTTjll6KSJrz3Q2GSH3nzVkPCIvSd7QQv4Hqx4aeI0xTAgWW54e3IZF11tmT3Pkcs2cPDBh/D7W35PdWVtRLC1tDI659rMe601//73w3zvoh/geY5rf1DLUYfMZ+GCFKdcluL9GUXuvvtmRu57AEExAMVaMcW/6FytjTIBPd/j8p/9lD/96c/4qUr6905x51jLVls2Ucyk8b0iap0IK0aZf9lFOfINkSbaqqxOzkHCFz5aUCsX3JJScxe7Jdtv0/u4hx99ckLsLQ/ZhMzzjW3lLsEC+u67757at1+f89JJmX/pL2d4L73R3fplChuqKB1UliUaCSGe0RSzAcN3auGUIxIsacxx8NcO5g9/+RPVlbVtJu/aQMm0L00cQRBw5JFHc90N15IPPK64pZnJ73XiyttqeO3dDFdc8RNG7nsALrQY31tr5/V556qUiicTECf89Oc/52uHH0hzQ4bDdhe2Glgk35LEMxZIsG44ocCGlNWl8dMeIlHrnyi1/su/X2shCAxb9m5Rvz3L2d6dVed3p8y59+gDDzz0jTfeCNh4+fCZ2FhX7hIMYPfZb78j5s+cdXfXTonqP/zUuuFDmnUxU4HnFePmf5GTyolgUsKUDyo54qICQ4cM5i933k63rt3anFTrEs46tNHcc8/djPnpGHp0qeaTOXM55thvcP0N12O0ic7ZrL8xJ0TteYwxfDLzE0aPPgkvXMCd1zoG99UUcyG+J+tm5RYiZRoMruhomt8KgaCUjeS1VuIAIppAGSoT8ObHNfay242evdg1DOxXe9GTz73yd5ZxYqNfwTf2mcoC+rmnn35k0ICep89bWLA/uNbX0z6ukERVARsuP3cZHUnq3PiPJK0Z4eKLL6Jb124Ui8WvHOpaHWijsc5xwgkncfSxRzP5g4/p138rvnvJ9/A8j9AGn+5Muo6hiFbyIAjo368/P/jeOUyZEXDLvbU4JxhPEbWtXjdcEA1IiE4p0nVlUZk/OqrCW8lNuFbQUlDsMKDe/O7cwPXqqmumfLTw1kNG7XESX5yfvFFhYyc3xP6Wx5547qGttuxx8vsf5wrn/TIlM2akrF8eUiwqnFWEToPvmDKthseeXshhB+/JHnvtDRCbyuvn5BVgjGabbbfF8xQXXHghWw4YQBgGeJ6/fk5qBRhj2rYFhxx2NEceujt3PrSUV98px6TsWnGifR4UCrRGiZCs8vCqErhS1xi1TH3l8z/tMBLiE5DJwdBejeZ3Zwl9u5eVv//hgjuPPfjA0wAZOXLk8ul8GyE2FXID8OTTL9671cDuF0yd0dJ6zuUJ8970cptIWwJrIyUVk2Tc44IVj/0OOIDy8nKCIFhrDrSVgdaa1tYMDz7wILvsshvHHHtM/P/mS0Nv6wolL7q1lurqao4+9jiSXsDtD3gE+bI4h3xdnEhEz7YEFhHSndMky4TQ0ZZT8MXHULHsUtTauakIW/ddrK89I3A9uvveG1Nm/OGQ/fY+c8KECeHG7kXfFMgNMcEFUc8888Ltw4f0PnP6rOKi837pm+cmVoTJKhGN0LQkyatvNNO3fz+OPOooAIxZf7UzJTPynbff4o2JEzn62KMpKyuLtwkb7qPZe+RIdhyxPU+/uoTpM9PguVhGauVN49VHlP9mjKO8WwUq4SF2FcUxRUhqyOY1Ow9cqn91mnPduyTL3n1/zu/33Wevc8bdf/+qi91vQNhwR9BXgxx//PF6/NMv3L/Ndr2PWLDYfXDRlaH3t4cqRXVSTJ4ZMH2WY8SI7amuriYI1v+eFuB/4x+nsqqSUaP2Bdhgia21ppDP07VrV/YdtS+NjXmeek1Aa0Rc3JFl3dzPKPoQV8snNRWdy1DarDS3o9pzQTmLr0NaMppdBjbq354dSp/uFalpH835/aEHjjqRZZKw63+grCI2zFG06lBjxozRgBo3bpwbM2aMfuyxp18budOWXw+t98aPflfUY37VxT03qYqgGHDwQQcCK0eiz1qJ1vTq9OKLLzJo4CB69uq10ue1vqDicxu1797UdenGxPcyFLNxQ8V16F9uP4mICH5ak6hNtqkslAQjv0B7su04IlGYrDmn2H6LJfq6szL06FSemDJ15h1HH7r/4WyknvMNdxStGmTs2LEOUCNGjCjZ2fq2ex95b/Q3Rx9YW5t88PaHFssf71oiqcpK2XHEjsCXrzLtuz+uafmg0nEWLlzIrFmzGLr1MCrKy9vSXTdUGGNwzrHjTrvSr29Ppk6zLG7QKBPVSq8PxG3jSNV6JCsSOCdopeOylZW4lyqSbEooRyYHOwxo0b86o+i61fmJt977ZNyh++9VIvhG1ZJlkyB3jx490kceeWRPEWHSpEnB2LFj3ejRo9VWW22VHDt2bMOQIUNP7tOny3W+FtuzR0/VuXNnWRmSqliiKIxTR4NigLV2jczjJQLPmDGDYhDQu3fvtt8ZYzZIgpdKSiPyKAYNGsT8xQUWNyhQBrFJ1ov1qhQ4wWhFqnManfIIXalN8ZcjmgQsWlmMgtacY++h9eaK063tXJtKTflw4V8PPfTAQ4lmr42G4Bs7uRXA0UcfnVwwd8Ffthk69NHhw4dfcPHFlw6+77773PTp0wujR4/W48aNy+2x18i/Oq3m9ujVA2NM5IBbCZNbKYXv+3i+RyKZwPPMGhm/pe/55JNPQBxdu3b91Peu7vHbX8uaVCktndvgIYMInGLuYgNO41TpO1f0ni8r/Vxrk1acSWd8obxrOcpjWV8w+eL5eFkji+gctTa05hR7DW0wvz27YDtVJ+qmvPfxHSeMPnp3NiKCb+zkFoCbb765Ienr//OSSa+Qy9/0xH//PWHY4CFv7LHLLv+YP3/+1Xvutde1L7zwwm+DQqFH165d8TxPlcI7n0Xm0moN8NFHM7j0B5dyxNcO5/zzLuDdd98DosKS1TGhS59rqK/HKEN1dXXb968plK7ls44rIm3XsOrHjX7279cfrQ31jQlI5jF+BuVrMCnwFBgHngUNzuVxTmAtqNUuq9rTIA4vZSjrVI7VgojBrUrptwItIQZHS1bYZWCDue7soqsp97q9/uaUB8869ZtbEydPrfELWcPY0DXUVgoiwvOvvPKG1vqgYw4/ZqePPv7wrEKhuFNDY9OeKFWutQpxkhaRRFVlDbR71p+nWOJ5Hu+++y7f+c53eO/dd/GNx8svv8SEZ5/h9jtvZ9dddyMMAsxqpqwWCoVIPmgtmbNaaxoaG3jphZeY/tF0Ksor2GWXndl2u+2WK1FdFZTeX11dCWKob1E0NZQzf5GmoTnHgqWWRYsToMvo0y1gh6EB3WpTOLEYWRWmrdr5RLFvBc6SqkjiCkUKjUGkuCOf15d7hWPFfwiCT4LmbMDuAxv1/53Syf78DtX95VfffPDUU79x2F13/fMjNnCl1E2C3DG0c8498O8HJgITZfLkxH5nn93DlJd3qaioaFg4f/7BS+uX/sbzdBnLS6Muh5JYgYjwwP33M+Xdd6mtrUVEqPU85s2fx81/upnhw7cnlUpFvbJXY7UtJausTkvez7qGEurr67nsssv4zyOPEgQBgqJ3r578389+xnGjj/vclX1l4Ps+vud45Mk8T7yk+fBjaMjW4cIQ5YpYFxC4FHvvVMO9VzVSWREiTq8xhZbPg0IQVSRVV0ZYdARZi5T6oKmVm0gjJ100IbQWhcNHNJiGlk72inuKg958492/nnTWWd/82223zWEDJvimRO72fXtR22xTBGaOHj16zrhx4+zxxx//xuxZs5ubm5q+kNwl5PJ55s6bG+kLCrjQUhShtqqaGR/NYOnSpfSKQ1erg7KyMqx15HI54NOySV8FSkEQWnzP48+33MK/HniQ6upqVDqNVoqF8+dzzZVXsuPOIxjQfwucdbG3e9UQhhaNMOndDDV1lYzaGYYPydKjs0c64VEMYWF9kbJkQMJXiC01kVg7xG6LbigFImhPUd6lkuZ5zbjAokyk1LMyOwNRoMTixUMll3OcNqrJLGmscTc+lN/z/dcm/v6aa2771mWXndXCBqrksimRu4TlEv8XLVqkALbdduD8V158sWnx4iXdlnvzZ2iQiRMSCZ9uXbu3/U5pjdGGllwLvfv0pireI39VlI7btVsXnLMsXrJk+YtYDZJLO/78739P4Pt+W/qoAyoqKli4aBHj/zue8887D+ssehUqz0rnls/nKFjN6COq+M43AwYOFJLleQjygBfNihqQAJtJx51i1t6Qa3tWEBHcCV7SUNG5jOz8bLznX7l7GjnZ4p8I1iVoyeW48AhPTZ9fE/7v1ZZjHn34L28qrX4pTjZIcm/wToHVgAAyYcIEC9C1a995iURi8cKFCwiCSMH28wjkxOEZj2OOOZoBA7aksamJQqFAS0sLNbW1nHPuuVRWVLQpjn4VlD7Xv98WeL7H3Llz285pdU19ABOXQBaD4rJBX9pjx47EYqGwWt8xZ948FI7Rhyq2Gd6KLmQo1EPQWk7QkiBoTVJsKqPYWIXCR6NBrZuW13EdCY6ARKWHX1eGFb608+dnQsDoEItCbIu66KgW3b2LJ/MWLv3RfvvuvTNxf7s1fAmrjU2Z3O2hz/v2t4NEIvnOrFmzWbx4sQI+01NckvwVEUbstBM33fxHTjrlZHbeeWeOOfZYbrv9L4wcObJtb77a5N6iH4lEkg+nfUg+n19j3nJro4SSnXbemWKx2CbPVJJQSqfT7LN3VBW3qhlxpT39tA8/pCxh6FGVh1YfpQ1JX/A9wffB10QtkBNRDFlpEzm21kUsXCLVFh3ViFJWo0mkfOzn9kv+gkOpKKyWwCFW6N85o4/ZQ4f5QpjOtuaOjivmNrhOJZuiWb4iBNBOhPKKylcXL1xw9uuvve4ddfRRkZjiCvNt+1UOYMcdd2S77baLYqiebqv7Xv19cZT5VlNTS6/evXh/yhQa6uvp0bNnGzFX59glwl5wwQVMmjiRqe9NIZ1KEVqLDUPOPf88dhwxgiAIvrJIxdT3ptG9s6NLbTEKIeFAvGXcVW1/LHdu6wRx9RcqyiNXxpCq9sgUV11JqWSiR6If4BlHVboovu+Bc83xIrHBmeaby8rtAPr36v96GNp5/x3/XyBqKfdFKJnIxkSqm8Rx4zWdiLHrrrsyf/58Jk2aFJ3sV4g9t0d762Orrbbi1j/fytnnnsMOO+/EAQcfxPU3/p4fXnZZm/WxKsctacx9+NE0Ppw+g623MnTrUgbiUGrlCzfWNiRWbZG4caAojZMo0WWVj0XUaip0Ct9XzF5cGd7/vJ9I+ok3tttx63vi8bDBFZZsLuQWgAcfe3BKIum/9sakN/hw+oeRKukXrJLtJYq1KLTSbf9ekzjksMPIFwo8+cSTa+R47a0P5xxDhgzlF1dcwS1//jM3/fGPnHDiicvFuFflekr36+nxT9NYv4h9dqqARBYREymUbiBDPDqPyLOolSHMhuSaiqxkRuryx5JIp833FPmw3P1qXJk3fb7N9u5bM+aWW+6aO3LkSI8NMBy2uZAbQFlr2W6HHe6ZO2cOD4574FMpqF+4In/JoPi846zMKj90yBB22WUXxo8fzztvvY3fbtJZXStBKRU5/oBuXbtSWVERxbu/wnGdcySTSeob6hn/xHi6Vmv2291BuPb6pK8S4kqw6K9RKarCI9MY0LIwA8WQlVXTklghAAQnCqMdCb+Mq++vkqcnFejRLf37Z5556VFAl5y2Gxo2J3ILwFFHHfV4bU3NCw8++KB+++23red5hGG42vHlkslaamRgrY0KTuKfpd8texWxNiS0ls5dunDoYYcxa+ZMxo0bB0QrT6kDyOqi5EwrSSuvrkTyCxOe5ennJ/KNw7vSvVsLEsZlWesZohRiBXEOtCLMaxrnt5JflEUHDo2K+gauBKKOoorQ+Vgdkk6m+fVDaXvf01nTtUvyP7/61bVXxNunZTPKBobNidwA+vTTT88PGrrNmAXz5/OnP/xR5bJZWbEKa1WKLESWaZF7nofv+22aY57nLffyfb/dK4Hn+XixNtmAAQPYckB/7vvnP3nxxZfQ2izXwuirYsUuKCvTOeWzrre0j1+6dAm3/+VOetalOeFreVBF3DpygH/WeUH7xAYBo3HOUKi3tM5txLbm0Sa2LFYi8zU25ygloDplqUik+OPjlfaO/zhTU51++7jRR59/8MEHZ9gAnWjtsTl4y9tDAB555KGnd9h2+O/Gj//vd7e7Y3hw/gXn+5/XWG9FfLrziEJrxdIlS5g/bz6ZTCuZfDZqoasUSlwb4cVF4ZmwWCSXL9Dc1Mz8hQv4+KPpvPXmmyxa0goS8qc//J5tttmG6uqqNULw1UFbPXuc//7g/ffzzHNv8pvLurJF30aCTAJvPUgvr/gcRIMSTdhaJNdUIMg4FMTRjZXfDiuJuplEMZYi1akybv5vtb3pX9aUJdVbO28z8JSf/ezKmWzgxIbNkNxxOyLXf6sBv2lqbd77d9dfP6J7927hsV//uleqBPsyD3KJcEopXn/9VcaNu4/3Jr/PogWLaG7JEgQFXGgjDV1xGG3QbdaB4EQoBgE2DLBBkVwhZMsBA/npJUfw4suTeeSRZ9lhx5u55Ac/XOmMqrWJUmult99+gyuvvokDdi/nm4c0QluCzNrNFf9slL4zWpFtzpFtzGOzAYQW006vPsoTX8nSHKUJxcfTRdLJcn79YFV4+3/zXjKR/GCbYb1Ovf2+hyaPHj3ajBs3boPcZ7fH+h856wEjR470JkyYEO6///6jPpnx8QOJRKLut9f/1h5y6KGmpIb6eatlaWVfsmQx11x9DfePe4hiLkdlZRnVNWX06tmZTp1qSKeTaKVxWILAUigUCQJBJMoeKy9LUFuXZtDgAWw3rD8DegpV+t9MmTyVk3+smLegld/dcA3f/OaJ2DBEryeFVhs3JGioX8oxx4xmyYKPufuqFDts3UpY1HF30nV8bnEBiIhGnCbfnCdfX+q7Lqs1H1oH2hOMquTK+yvCe58MvJq0N7Xftv2++cgD498pjZ01di1rEZsluWNowO27zz6nzpw16+aK8oqyq6691h522KGm5Mgq7VFh+Zj35CmTueR7P+D1V15lt523Zr/9tuWA/bZmu8G90ZU+kTqAR5TZYWJnkyLy5sQvCSHIQn4R5D5Amp7FFhbilRueeL47F13VQr5o+ePNf+SwQw/9lATz2iZTqd7b8zyam5s464wzeG7Ca/z6slpOOaaJIKvw2ua/tSvBHAkvxkIQotssomI2JN9QJGgNMSbeOHyVilIRnDJY60inhKWtlXLN/dXuoZeyplN18pVdt93u3L/ce+87Y0CP3QBDXp+HzZncENt1e++997fmzp7zm1Qq1fm73/2uO/3MM7TneW3ZW0qpthXsrbff5rxzzmbGRx9z8flH8a2TRtJrUFckp3F5QZxFXBFcK5oA57IoyYPkUC4HthlxLUhYj3aLkWAxiqUYnURUMhLrS4bcN74LP/pNK9qDa669mmOOOQYAF1sOei1rmgdBgO/7NDTU850LL+S/41/mx+dWcckpGcQWAR+ll3dCrl2Cx8cXKOYtxaYixZYgat7tKbSL67Vl5YtD2o4NhE5TXQFTZ9fKr/7puQnvFk232uS/Dvna4Rdee+21c9gI9tgrYnMnN0R+h/CAAw44bPYnn9xYLBYHHHTIIe77P7hEDxo4qM1pUxIzPOeMM3n+xZe4/Ecn8Z3zDkK8MorNTRB8gu/mgFsMrhlcES0tWJtDUUBRiMadWCBAJOo7p5SP6CQKCxLEFV0a7WkefrqC7/+6iIQhP/jhxVxw4XcAouomZDmr4qtXkC3/2fbXu2DBPC48/wImTJjMj89N8b2TW3EIEhqMWf3ili85s/hnvG9WGhtqcg1ZgpYAF0ZkFg1GQK2kGEP7o6s4li0iVFV4PDW5Vn71d4+P54eqS5eyP44Ze8WlRx55ZHZj2WOviA5yR/CVUsFuu+z9nfqlC25oamqQbt178O3zzlXf+tYplKUrAbjx97/nZz8dy7GH78Hvrz+DCpOj0Pg8yeBVxDUDIYrSdqxU/RSb5BBXRLX7dyT8xbKCQYm1/hTOhXhpx4RXunDRlXnmLmjg+OO+xhXXXENtbWe0gHV2lVNIPwuR6KOgjG7r6PHiC8/x3e9dytxZ8/i/8+o4/8RWbDFEoTFarYOVmvieWJT2KGQc2SVZKNhoe9NuHY3SvlfxXEQIRaM1lCWN/PeNOnf53YFpblX06l7+05cnvn2lCHrMmDHEyrobHTrIHQ+T668fU3P11bf94/ST9jukc9ca++D9L5j3PpjHlgMHcvaZ32TwoMFcdc3VvDd5Kv+881L22iVPfuY9JEw9CoVoD61K7aW+zIL78pz2UldSLw2vvlnJz290vPJmA4O37MtPfvYD9t3/4DbdtVLSzKomp5QSb0qthZ0ISxcv5M477+J3v7uFzlWOn3y7im98rZ6g4INz+F77yWl18MUe9tL+WpQm15gntySLEofRejVlqaLvtVbwPI2TlPz9xUp3/f3KIOH8gVv1//74J564F0YbGOfYyEzx9uggNyitlYzca9Sps+fO+est151m9ztqV/3B69PUY488xmNPvstr7+SprCjHhlkOOnAv7rxmS1TT3TgBbdLRai0+Sq8Zy61E7tLfTZnj49lV3Pag4d5HWli0KM8RR+/D1485lp122YN+/fpQepRhELbNL1H99PLHbi+r1Nbz2wkffvghz7/wLHf+9T7efmsKRx9Yx0Unhey0QwGXIYr9Okf0kVWbQJabb9r2xOqLt8cioDSFjKN1XlMUeVAKLS5SNf2q2xAUzgmphNBaLJcbHqm29zweeOky9dpOOw66+G/3PfJKuwvcaIkNHeRWgPxwzEW977390Vf23m1or99ffYKrrSrTJHxovI/5H73MxPdrGPdEhv9MCBh7ySAuPPljgvomjJ+MzFhUHJpZ/cKJZebuspXNOUGnhDDn8+rkNPeMN/zz3/UYY9lh+8Hsscfe7Ljzjuy2666fkkj+Inw8Ywavvvoab731Bi89/xJvTZ7JoL4JLjmziiP2yVBRk8NmFNoootrYZfvxVbsm224vr+OkGNBt25RPm/ilq8/V58ktKaB1fH+RlY9ZrwCFEDqN7ytaC+Xy07sr3ZOTiqZbp+TDI/c/9tzrrhu7aGPdX38WNrcklvZQgKRSSZ58+MVb0mV+r29+fTdX17VCh7kQyRdR+WZ6dMlz5ICFLG2u48kXhf6dZ0KxGXQyEh5QJR3zNVMRtWyQLzuY1gqXV4jKs+eIHDttm+LMo6q469Ekjz09g7feeod0uoqevXrRp09PBg8exICBW9K3Tx8qKsqj6jArNDQ0MGPGDD766CM++vAj5s9bwNx588gX8mzRp45rf1DD6ANydOq8GBdCkDEYHcWxVzynFfGZe3BZ1mhLa4lCWJo2rzdYsCAuKsds36Hzs75Jle7zqt7U6ARxAkk/pL5YLZfdWqlefDenB2zR+drtdtzl59ddN7awKREbNl9yq9GjR+v777/fbrfN8N/MmT3vsJO+MdIedtB2xuYDtPIQ1Qq0YkMPL+fRmg2wzlLIJaK00jW19VxJaC2IM4Q5Dz/Ryk7DhR2HNfJ/Z1XyxKs1vPB6numzZjLlrRm8+vILBIFgjNeuqkFABLEOz4OqCk3v7obdDq7kwL06M2qHViqqGkEMNpcGHeKZUpPLL89A+1Q6aPxXnZQ4fFXGgqWwqD4kkzEghqpKS9/umk51AcoIrhB1+la6ZL2vmZssElV2JT2hKVctl/y5Uj3/dj47eGDdj5978bXfT3jxVQPoTYnYsHmSW40cOdLcf//94f777nPhe1M/+s4O2/Tnku8crLUHEghiFNZm8cNWxBRBJeneSdGS8flofgg+OKviFMd1AxEwWoO2YNO4nEMbQ7fOGU4+qpmTjyqjcUk1sxcUmL/EsHAJNOdCcjlFaA3GWFIJRXW5oVsX6N4lZECPBJWdmhGpRxU9pOAhojBeyeNv4u9e2awvhUgYCSUo8JKa2fNSjH8eHn/RMW12ikw2SSEIwTqU59Ozc57D99YcfygMHpBBAsE5jRDVz4sFWU3FVIknY+WVceNj5Tz3VpEdt+3+vfFPvXBrfOCN2nH2edgcya2fe+658PBDDz3h7bcnX9O7W2f/2qtOdt26VWnJFFEGLAYv+xEic4iY7BjSv0i3Lj4vTjQ0N1RSVd6Ky3tEoeb2g29ZfBa+OAZdyrz6rNXxs1RZ246rY6E/AVfQuJxBmSLV5QE1Qwtsa5IRu0SDVfH2QUCFMV8VhAGEBVyrBp2g1Ffrs7JuV22PrVDaojyfh56o5oqbs8ycX8bwIZbDRwZs1SegqkywolmwtMCbUw23PeBzz39z/OTsWr51ZDOEliiLL8oai0zxyEf+lSCQTAgLGj376lRjOte6J3c9st+94596od07Nj1sTuQuBZvt0UcfceQ7b759c3m6vOyqsce7rYf20DYXoI3G6QQU56Ja/oVoD6U9IGSrvj6Hj/K4618F7v9XkjO+rnBiQSUiIqkAJYpSFW2UePE5g7EtPiuE1qBwUa9pbXFWxXvUlau00iYWJVAgziCFVGweW0qtDkqnIaXMSYmSZ1Ah2nhxSudXuKOfcWFOFF7S5/7H05z5syx7bO9z1UWOXUZYarrkwRaI+vvENdfFNO9NTXH5n5L84No8QZjmrK+3YOOJ0zlZ7dSwKGYuJI1yvlEmUVb5wlWX3tfMRph1tirYnMgNIAcdtO/Rk9957y5t/Ipf/OTrbv99h5ogW0QrB7oMCVtRDX9FVAuiUmgRxGnKKgLOPsbw4puKq+/M06M8zYEjWtHlGcJEInIIeQYdK5Jo7SG4NudRPL6A2PutHNoTPB9QAYVMitaMR21NHpGSZ3rlViqtotZVUSiutE/1+PS4LT3u0v/HefBrcHdhlEICzcy5Kb53Mlx6Zkh5bQbJQlCvUTodzTbO4STEMwWGb1vg7itT/ODaBGP+YOndrYpDRrYQtBJrnq2eWa6IDuH7gSpPO+Y2S9dCoajU8mbTJofNIRSmRo4caSZMmBAeut9+R3/48Se3O6dqf/F/x9uTTtjdhLkiiEXrBCIFqL8LVXwLpZOAbfMUWyeYRMCE12q48GpHtjXgtEMSfG2XIoN6tlJeaVAJi2hNCChjcNqgKdUVC8pIxCcvMpmDnKKhOcUrb3rc8bBl6FYev/p+C8VWH98PN7KHE5nNzloEjfZAJ0ACS1jQKC1ordDKIUQeM4mbBAQhJNOGRYs1x1/qkS/4PHBDSK/aPPWfZCC08aT51e5I9DUO369wP7m7Uj/8ItNOOXbHUb/63d/mswmTe3NYub0JEyYEhx9yyBHvT/vwztCq6it+/k170km7mqClgGDxPD8aaM2PoIrvoEwqSsdUpm3vqxUEec3I3Zq464pqLvttmt/c28z9z3nsvHV3Rg3LMbB3gW7VQm2lUJZS+J5F+QLKJ3CGTMayuEVY3GiYPsfw0nsJXnizwPylwsD+Sc77RgFCh1LFOOCzcdEbKYkjSCR6kAfwiLJjS2IYUXYYWnAkwVmMDgnzIV17+Fxwgs85P8vwj8dq+cHJWYyKknpXh39KQWANtVVWDeipJZ/PDZo7e8lgYP5qX/MGjI1s9KwyDGAPP/zwg6ZNnfJ351Snn/74OPetU/ZUYVNeaQMODdpHNT+FbnkAjIdq2zcvc3hFWWMWcQqTcixcmub395Tx76cLzF+SI1/U1FWn6Nfd0berT0VKSPoBGiFXMOSKmqXNlrlLEyxsEFqzWXp2TrHrDopROzkO3Fvo0yVDkNdoRZvYwMaC5Z2Dn/3/Ig5cAuXnQQxIIWKeTmADwaQtM2anOPXSJPmgyKO/LVBZzFLMu9XKIRCBgjV0qy7y5Htd3UU3Gp1O+le/PWXyj90alqnekLDxjJ5VhwLkoP32OfCTmfPuckL3X/zo+PCEE3bxgmwBrTTGKBzl0PwctNyF0gqRkgd8xUEqEJvYgdV4SYfDY/J0j7feSfDuR8Inc/MsaoCWjCabjQoT/IQh5VtSSaGuGgb0gi17JdlmoGNA34AeXSFdFyAZhy0otNEoUcuVU27ciAQqnNOYRIh1irenJvjXc0k+mqUoL1cctXfAwbtkwRQxiXK+/+ty/vavRv768ypGDpxHpqDxVfiVveUChKIwyuKokTOuT6k3pvPiA7eed9huh13cvGavd8PBpmqWK0COOeaI3aa8+/5tEkr3n//faHvCibt5QSaH0tHqGKoUquVFaLkPrRVKJWJRgOVTl5eFpaL9t2/ABR7aWIYPDRk+qEAQOPLZJK1Zj0JgCQqGUMBPOMoShlRSSKcgmcyiTQGMBgIoasL6yCvveXG4te0cNoW5V2GdxUsGLF1awY3/LONf47PU1EK/bsK82SHvTfHZrZ9FJKRT1xy9an3yoc/UGQH7DtJROezqnIEIPhAEii51zWqHQWkmTZftfnrlX7YDXmAT3XdviuRWgPz4xz/u8q+HHr41lwv7jrnsWHfKSXuaoDWPwkMjoDx09n1oeRB0Digjavf06TTST5FMgVaRF91mQGuHrzR+uaOyImrFuywG5WLb1ET/5xS4EFuIZIK0Nu32pO3j2mvl3qxzOImSWWbOSXDhr5K8/E4LnoKzjoJz9p9FY2sSZQwUAoqBD01ZOqXSJBIJFtUXcJT6bK7GDYlvpjaaXK7IQSMK3D/Bq1zYnNhHafXCV+lCsjFgU5Q29gCefvLJn7S0ZrY96Ru7uzNOG6ldawZjQKsAlEJsM7Q+BFKPIkkkoLBqA0gp4iopjUjkKXahwoUG6wQXCjY0Ufw5NDircDhEknGZpd5kSPwpSBzy8y2Ll3qc8fMU705r5aqzyxkx2OPBFwXlVaITYZT0IhJl3ylHKqERrSiGgm2zYFafgEY5ckGCYT0zblAfn0wme7izx61a3HEjwiZF7jFjxmgg+POf/1y3dHH93gMH9OCCsw4UghDRCq2ihuzoBJJ5FVWchtbpWMfbfOWuGSWHUaS5ptDaYZQXEVhHtcdKW7QGrXyUjpRFotcmN6aASA4qKlv1uPrWFFNn5LnxwjRnf30Reww3LFpSZNr8NAklKGtRSvBdCNqjvsUSFEPS6XjyW1OdQeNJwldW7b+9YJ0ddNxRbjuAMWPGbHIPYpMi95QpUxTAPXfc0TcfBJ22GtCD7t0qVGglLi8UEB9sMy77GqJ0FHNt07z7qs93RVO+/Uqj2qrGImz4i8SyVjqlf6/6pOcETMrw/MQUDz6b5ccnVHDwjovIL8ozrK/DaMX0uYpUIurDJRJNisWgjDmLDYYivTv5GAErGrXGtsSCaKdGDMi4rjWm0/TZs04EePTRRze4/tqri02K3MOGDROAnbbfvkErnRHnMBjinIlY2SOJDeZiwlkoVYmSkA2dbOsaKpYNDkOLDeUrmcVaAYHhP88Lg/tWccqohbS0Wgqi6dtJ4dA0ZTSeARGDCKSSwvyl8PYMn5oKy5A+0TaG1SwcWQZBYQisZWAvka16KrKNmZ1FxEyaNCmUVd2XbeDYpMg9duxYAcwf7rh9ZiLhz6lvzNDYmneIQ8WebiWCV2wCKSCb1NWvQUiU++2lNTolkVX8hQ7l5VNEI4UaIVto5a1piq/tYkn4RRRRv7LOlRYEmvM6LmiJogQJzzBlToqpszL07VrGlj2aCZ1Do9dIzzSIMtWcM5SnsnrEoIBAy44H7rvvAYCMGjVqk1q9N7XhLSNGjND5XJ5OXepe/XD6At6ePFd75R42XFbV50wU8orkekoDU9bYANroEfN42oflLFiSRKVc1A8MzYq3KFJVMVGDAAlLWi0gGq18+vdOM7Bbnlh6BbGaThWtdOmUoketxoYG0HieoTWf4Km3PBY0CAfvnqBLeY6gGFtda2hNdYAWhThRew8Lg4qkqqxvbNwVYMKECR0r94aMSZMmhQDDhw//S2u+MOt3N/1Hz56TsV6Njw3AuhBJ9EG8fmCzONG4WEV0U3VufRWopPD6B3DSZWnen5ZCJwKKoXzK6RhF+4qxoKNDbIBYSxgWSCYNPzixhW36NxGEDkWIE4MNLT87IcNOW7bQUnA4JWAMb8+u4uEXAgb1LuPwERkQh1KC0XaVIxmfc1WRoYDF2ZAtu+ZUrzpDvuC2F5EyIGAT2qNtcuQmtg9vvfXWWf369Ln6jckzOOPsP+rJb81xptoHKSKqE6risEj0jxClNsXbsJoI4OAdcxgpcvJPfT6ZU04i4XBuxbGvsC4VFd2oBDqZQHsFhAQuNPTvnqOqPASJu41qIZQiI/o3UJ7MEgY+ZQoKOZ+b/p1gUYPitEMMg3u10JqTWHppzUhYQTQZRU0mhJTv9IjBjtZscadTj/lmf9i0vOab6qgWgGcmPPOnbp1rfz39o3ly4hl/UP/42+u2EDr8cotN74FNHopyUfaTk6gGu6Q6ujlDBFwInbsLV3zPsmh+wA+vT1AINNpELYtL63eUq2MxySRPT6zmH4+Vkc1X4qcCBEvRGQQTNVKI6141SfLFaP9dlrLkVZIr76/lP69kOHrvFCfs2Uwmu3a7m1qrSCatGtzHSUtLodeiRe90Bhg7dmwHuTcCKIAddt7l/3r06vbDfKHQeNnYe8wPLx9XfHvSbKfTgtfzKIrevtgwX3Knx+TevPfeKm7uZ/Mhuw4LueRMxVMvFxj3eAWkQsTpOPYcCU5EvooAVcxwxc2ai67xmTY9jZcAQ5Fi4ChaCJ0idIZCaPFMSKcqw+ylVYz9Wx1/eayJ3bdNcckxOcqTGZx8dWXylYFDo8XSp1NW0hXluiipgSqaTDaZ2X2TmaW+ABpw++23394NS5f8fMmSpgO6d63h8MN2kNNO2J++W3VSds79qNZHUF4qjre2n/M+X/poY8Wnr0NFwhKi2sJOIgqncpiuPs891YVvj2miV9ckj91SJOEKOFFReadYRGmCoqAaCjz9RjmX3KboVOHzjf01h+9SpG+npUARwlhEIiUsXtqFh19WPPC84vl38uw1vIIrT8sytGczuSIopTESLjdCVxSzUiXv3spG6lSpUwrYUFFZYXlvVpU75Yau2lP5qyZPef8n1m46GombYm75ipBYsvb5yy677LhXX3rpmwsWLhr759uf7jb+8bfk68fswZknH+pq6sqg5WGtMDinsKIBi6dsFBlCbTJ780iplPglQBGtEogJUcoDpVDk+GR2HX/5o8czL2XItgYs8YR3369kxLAsEiQoCTQoBbYlpKWhwAE7Ok7crzM3PNjCr+7yued/mq0HdGVA1yTVFTlC5zNroWHSR3k+nFkkCDSnH1nD949opmt1M/m8YJRQarO03FQqtJWQKAGndKRu6OL2QpQy2ogc9uLi5+YRtXkStI7nAU+TSDoyRc+15ELdt7Nf92QYevsqtVG0510ZbPzL0MqhVBwtgJx55pndPvrgwzNnz5v7zWy2MKR3tzr/68eO4qCdF9hB3d+U8nTRRGLhITZw2DAq8FiWC77cjnM9XdKX4bPPzTkV+RdcgJcA5QlIpDoTZH1mL84zcWqSB5+s5ZU3mghEM7h/SKeaCt77qMDlFwrHf60R21KGibsU29DRPCcHQUA+rOC8m9K8PT3PiKFpGlpDps3xsUEIyqKUxvc1VWUh2/b3OX6U4qCtMxRVlkJBk4jzy1c8dycRiRNepGoTWVceogSHQ6PQLtKDJP60jrOXnBKcGBxQDBOSD4xkcs4tbfHkz+NT5qk38nqLnnXffv61SbewCVWIbagjc22h1J0PQMaMGdP5f/976tClS5Yc1dyc2aNrl07ddxwaqhFDim6fnRNh3545U1MtmrKiohAguSSBNSh0JJtEmxxivMosI5QQmX8Sh19QK3a4ap/yupKPITZDSwVnpbLQ6PBx10uJrAwXv0EccQzaYYygUxaSDiRFkIWmZpgzN8Er7wY8O0nzzrQ0TU0hW/QK2W24Zo/hcMCeOWYvruYb3w249Az41nEN2JYUxnOgNMXmIk3zspSXa554o4rv/FGx7YAUd11aoDkT8u4nhqVNQiE0JExI51pFj1rFkF4FPC9LNhsVdXpKI4TRQ2oX+hKBpOdIl/m05o3LBcq15IVs0adQTJIrKApWyBei/X8xtAShJgiMFKwmtEryBUVDS1EtbsRryvpqQYOROQ1G5fNZ17m2/J+mc5eLXn/qqaVsQuTeHMzy9liOUWPHjl0K3C0TJ9579M9+OWTO/HlHP/lKYd+X3irb846Hcol+PZOM2EZk20HlbnD/Ilv21SpRkwdpUeQNEngEoQFclG7p4gxoBTpu6K4lMutdm/a3isoX20QQhS/24bQzOlQ788MZBIsWF+l8K59I8w1wGlQBY1RUyZrIgZ9GsuXMmw/vz7XMnplk8jTHS29bPpntKCurYED/PMftn2evEcL2gwp0rhVUQqEokGisIOGFeJ4G8ZbNkCIUswBCaJO8ODVJMSxw5tc0NclFaGs4dHsHyov26SrqYW6tkC9qioVIV03Hx9IQ64yXHJwK34MluRoZ/2JKTZ5h9aLGhF7U4mhtDQjC6P3OSry6a0SiDibWRat6FBAxaFOG1ogLgjnJhHs/Xa4+6ta58xO7DDhu/HX3XJphEyI2bH7kLqHtAY4ePdqonXYKgMlKqXf/efNVv7/rP+N3mj8nsf2Hc92hr09u3F2LpHv2TEr/XkXVr1cFW/ZLMqR/ggG9ArrXFjDGgRQFLxkNj1J9sA5UpB8OBtVWV6yIl100SNCu6ukzxpVSUCp6aatsVstMVwWRwRnFkhELqogNK1jYUMlH84QPPqll2sfCJ7PzLFjkM2t+gobWLL17VLPHcDh7dIFtB+QYsqWhvKYZQgOB4BwErYpEuU9zs8ZozYBeAmHpXDQudISFAp4nNLRaXntf0bt7igOHNtHYGk1MzdlYCZZSXXa0V46q5JZZOyXLR1FauRUiFi+R4vf3lqvb/lOke5fkW0HgPjDG5jRaK21EK6L7DChPOS2iy5LJfDqdzCX9ZN74uiUMgsampoal/fv1bQzR86666jcztt1221YR4fmXXm2/bdtksLmZ5Z8HNZrRetHIRWrChAkWEGMMdz7y06rH//R410WhHTJ/Vn6PJUuKwwtW+laVJTpVVkgn3w8StZUJundO0qkGuneBrrVFytMh5SkoL3NUlGkpS1qV8AMSvqC1YIzBMwatA7Q2+EZHxRqUhjZEK7VGnMOGjsAqwrBI6KAYQhBq8rkUTS1Q36ppbPVYuEQxd6FiQYNh/uIcTc0BolL42uD7eWqqhK23TLDT1sL2w4RuXTPUlnv4FcWoZ1fGEtoyRDm8aCmNNOPKHS+/luLhZxNccX4O3yvGq7ChmA9ompejHMfLM7tx5rVFDtujjOu/NZ9MUdDqq0UZBAidprY84JUPu7jTrvN1eZm774wTj/3OAQMTDVuPHuUmTZoWHXQSMCL63IiWQTJp2jQ14pxzbCKRaDOJSm2OV4A3cuRISs98VQfNho4Ocq+AMWPG6GeffVZPmDBBiJ2zJfXT0Dr1p6tPqhn3v1kDliwp9m7NBn0SOtEnk23plyrz+zgb9iwU8mXG6JRzNmW0TniepxJJJLRK4Qy+50gkNAnjSHhR3y4/AZ4WnDNIaTNNZKy7UBEEQhgaAvGwThFaRRA6wjAkKObRWFJlCaqqDJ2qDD06CV06OXrUFenXS9GzK/Tpoehcq/GSLdGRVQKcg1DhgmiroLREa6oS2lzVEm0pikWNlwBPhziJVl6lIN9oaV6Qp1NlwA3/6cmVd4f87iI4duclFIrSlhG2qhAEi1CeLJdfPVjHLQ9n2W2Hnsc88vjz/2LVVtnSqqxGjBihKyoqZNSEUe5yuVzUVy3g30jQQe4vxnJe9k/9UoExmiC411x+wbiyp9553+/adWBtRUVF7w8++KBHENgexXz+2ExLbu9e3Q2da4TAQhhGIRrnVNwuJ+oUaoxtc8Jpo/CUJpmARNJSVZ4indSky4SKMkdthaJzZ6ir0dSUOzpX50incqR8j1QSjO+DX4zO3moIo6IPJTaqjy7ta7+sHa6Ai8tiVUz4KBxuwAiZhTnyS/OU15Rx/o21/Pd1eHhMhq17tWBDaduKrCqcExIJRWuhzJ30m8561oLM/P69O4188rlXP4xu2Eonm2zSBP4ibK577pXFZ5KaeFIUQYWhE6WOd0Br9Kt3G4AZ8Xtkx+228wqavc87ISknfkNU2GgRGzXxC51ERNcGJ45ESXoJidoEGQFjwQSgA3DF6Cuci87KJoj6gZX270lwOnLRuRDJRx1FFAoVF2EIGh3neMtKZIFFxVw+goB2KIn3/0pwgSIsOPwELG4qZ9Z8oVengNp03HhArUZCiFIYT7FwcULmLchSU10xfathA5uefO5V2EQb961pbBpZGese7d3c7YuZFaDHjBmjR44caZQCqzzlVIiRHAStSJjB9/IYMiR1hvJknrTfSkUiR8LLYcigyeLCHK6QJ2wNCZs0Yb0hbEpHr5YKbGsFNu9HjQCth1iFOEGURSmHVgajHUZHAo7KU6ANSpdkk1euGCOq24h0wxU68uEphcJBKBTzlnQyYM4iYdYSx5Y9FBVlGmdLrY1W4w47WNiUlELosM598Kc/3b30qx9w80PHyr3m0BYdGjt2bNu/t9pq4NRJry8lV/AhjGPfTi2TLm4rVl6hlDL+acyyyPnnL1al/1cr/J9a9v/yee9bGaz4fonaJhUtzoLvecyv1yxsMmzRrUhFskDRKvzI7f2VTPPS9mTB0qhivCJdPs9P+FFTtE0o/3ttomPlXssY3Lfnm8qU8f5McLlCnGji0LpUoNH+52e81vcFfBbiLJpirhjF8U0Zs5d4FPJ5SSXLnJ9SlPlCYA2heHwl5eD4nixu0CJK0dDUsDgMQiiJx3fgS9FB7rUHATjtvP5Lqsor//v8G6iP51VYz89hw0T7t7DciryB7ySF2AnnBFuweFqRLxrm12vK/EA99ILTV/yjk/1oUZ2k04ZUwqEErFv+KG0/P0f9Jo51y9JWZYz2qawoXwowYsSItXp9mxI6yL12oQcNurjQqTq4cfaCgCv/kiDTmha/Kodz4EQhLnI+Rb3IZANdqiOICMpFWwhblKi/l4HWrGX2YihPevnQFufc/lhBnXtDUv3m/lqZPLtOvGSK6nKLwmElMrcjY1shcaXWZ8FZIwsbQqOUaunRvdsCgIqKig18+ttw0EHutQsBuPaG256sqyv709Mv58y3rypzb7xV5XTaik4WRbQQhCpeEdmgV24VkxKtsAXBOYXnOwpF7eY3aKqqy6buvNN2Xx86sPKipa1q8u3jrfrun5Rcdkclj7zR04ZerasqV5IwHhjBSRTbd7E2W/tL10rIW18amwUlbmZd356fAIwaNapjv72S6CD32oUAaqeddgoOOujkyzp3rrjzxYlFc8bPrDr10jqeeqELQaBJeEWcU+3qqTdcSJzzbYMAsZH+eLagpSmjSJeZOfvsv/vUZ194448XnLTT3ttvM+Dk5nxy8n9fDe3Pbg/MN3+Z0r9+pBcz6sutlqRNJ9MuXQYp46I01Nh6sXEHpqXNWprzHibhfXTPbfd8DOhY4bYDK4EOb/nahwD8+teXZTzfnD5yz91fnzd36ekvTmoZOv4FXT5q51p+e1kzvTsXcc7EWdcbKBRoFW0hbDEys43RNOcUTU0FqtJ6nrU1eYDvjf1rE/A3P5H826EH7nvSlA+nn/jxQtl+yrimnrc8XGm2H1TNftvmZVifXNi7M9KpKtBpP1CRoe5UWcLw7izF0mZNuiI9JZ/PM2zYMG/KlCnF9XwXNhp0kHvdQcLAqqeefeGPDz3z0N9vvvLmXRcunHXBUy/VH/GPxzrbS8+eb1R+A38cAqIFZ8EFoHEo59GUS0sQFKms6D73/PPPb68gqoJigX8/Nv5vY8aM+edrr722/cL58/d0Eu7+xtTmbV94y+9bXV1d0a9TSK/OIb26WLpWQrc663rU+fa/k5TfnLULRwzb4v43J73O1ltvbadMmbI+78BGhQ18NG1SEIiq0K74wRWZSZMmPb7rTrv27FwXHjF7UagQT9SntUc2KAhEXUqtQ1wkYOhQNGYR0Y6Kuqr6OI88krGJoEaPHm3i2P9EpdTEn//8539+d+IL3V0+HDZvacOQBS2JgR/MVVsmE+nBFWmva8IPE0pC7cTQuVPiH/eNG/cGoMeNG7fpaCCtA3SQex1j3Lhx9pxzztGTJk2iS/cuC5Y2NLfU1xcqkYRsDLLZKtZGdKGLxUwdi+otGo/5M2fWh2EIK2TTlEgZy10xduzYLFGK7gyleNQ5MeNuPbfikUfeq16SS6XmLWn2589vMlv17VH4+je/PuvV11+HjsSVVUYHudcDGhoaHICILBWxrS0ttjIsGPEMa67f3dqCioo6REB7CifI/AatjVEkkioHEJdRfuqjMclVuxciiFLKAk3xqw2LFn3MSxNfir91g78zGxw6vOXrAePGjQMgm802WRtkQvHIFw0b+qq9LKM+TqkXcKKpb/WM5/thbfeeratyFJbl5qsVXjp+bZIiCusKHeRePxCAqio/K04VrXOEIYLe8C1PER0VjSgNShFaJQ0tRYzRrXVVdRmArl27rioZZYVXe+J3EPsrooPc6xsKERRWSgvWBoy4EMRZFTVWVBBIkqYWi+ByOqEKADNmzCituh1Yj9jAR9OmidGjRyuAXI5ypVTKaMEzVn1envWGA4ma/TlFynckfGgt1lC0ZfieKZaX1wQAhx9+uIVI1Wb9nu/mjQ6H2rqDGj16tJ4xY4aePXu2B+QIwyqlSPkaypPeBm+AigDGYsoUUxZ05vkPfCZODdS0GQ0Ui7bThCdbLh6598gX3n333ReNMR+OHTtWiYja1OWMNlR0kHvdQEGbt9iOHDlSAGq71Ka9mfPK6uo0XlkOimr5Mmxo9+8Vf7FmsEy8sF2td1u4PfYBxMUd2kDRGu5+rIo//iPD+zPn06dPf7X19lthtCpfvHDRmR9+MPWMeXPK5+y+6+431Q0Z9CelVAsdTrH1gg5yr120SZk+88wzqeuuvXbf+qamXZqamjrvvvvui+YvXNQnDGzlDkMToArKuXK0LkYVy6HDOh3JIYUabWJh4DXYqyyqy4oaFjh0lNYuIWiLE4N2CdAWcRaFh9JFfnt3F666ZT7Dhm7Jr3/3Y7YevgM1NXVorVV9fb19Z+Lr6u7bbu09b9bMawr5fPdzzrnlsltvPbcUwO8g+DpEh9Nj7UEBMnHixPR55573rSWLFl+YSPh9y9JlFUop8vk8+VyW1nwgN/y0mzrha8240NDY4GjJWjyt6VybIJm2YIvYwKBU1Ern8x6bc2pZ2Wis9FISg/hsRNLFThzGEGmhm2Sspa5ALC7QhA4SacuDT3Xj7P9byhFH7MP3/+/ndO3Zh1w+R1goIkAimSSRSsnHH0x1Yy77IdPfn8qALQed8cxzT91FB7nXOTrIvXagAXf++Zf0e/rJR35vPP/Iww//GjvvsjNVlVVOKSVNTU1q4sRJ+onxjwNZTjoixZIlTbz0pqW+OUkq4ejfq8Buwz2OO6icPn2yuLxFSQKlQ0BHK68oQhf3zyoLwfOir1cOQgt5CAMfzwiipK1sM5J7MogK0SlFoaBZuriCeUsUhcBSV52kT48GKioshCFNreUcdI6isrY/d99zGz169Ka+qYUlzRlCiSwA56IeejU1dcz8+CP7wwu/bRbMm//6qN32PeIv9/5lIR0EX6foIPeahwbcj371o06P3vmvvynfHHzd737rDjzgQFguM0tQSsl7k99TJ598KjM+mkmvPv0Yvv029O3dExGYO38RUyZPQYXz+c4p5Zx2dBYJIMTiKY8Qg7I5vHLBSjmz5hrmLdJkmjVlFdC5U4EtezgS5QGuxQPt0PH+OggVyhOUEZ57vZp7/wOvvFlPQ2MGZw3JFAweWMc3D67i1BMW8ZdxVYy9rsjPLr+Es88+hzAM8TyPllyB+fVNUadNiGLfoaWmqob7/3G3venXV5neffofMeGFCY/SQe51io4995qHAnjqgSfOa2ptOfimP/7BHnjAgToMQ2VMJP9VIoKIqIcefJAlixdyyqnH893vfpetBg5qUyZRSjF79mx+85vrufQ3/+ajOZ24/PyleM7H2hCtBJNQvPZmLfc8ZnnpDfhkToZ8PkvCT9OzWxkjhif5xgEeh+yRj1ZtBJzG9wOaC/Cb2zpx6z/rwdPsvNMIRm61Jcb3aGls4s033uaCsbN4+4NefDS7ibraKg497FAgLv10joqyJNXlKepbWjHKwyEYrcjnc+y4y666R6/eLFwwfx+t9aPOfSU1tQ58RXSQe81CA/bSMWN6/v3WPx95yKGHcNjXDsNZq7TWcV/syCmmteZ31/+Oq6+6mgsuvJArrvwlfiJBEAS4tr7Sij59+nD9735D9x5duPqqP+F7Xfj5t+vxDDS3wo1/7cRt92VwKs1euw/luG9uS+dOtSxYtIjXJ73D/16czH+eLnLm16v54TlZ6spDUCGt2QTfuzrNw09n+NYpR3LSKafQv/+W1HXqhACLGpr5ZPY8/vfIg9x2y10EhSy77z6E3r36RBJJSlBxf+x0wmcpRPt8FCiNFUt1TR2dunRl0cJFw9frU+lAB1YXo0ePNgCHHHDAYVv062/vu+8+KyLOOScS/UWstSIiMumNN2SrLQbIN0YfL5lsVkREisWiOIneW0K+WJTQWmktBHLCSSdIj6795Mm/DhY7pZ+ce/Jwqa7uJWeefpa8O/lNyWYz4mx0BGutLG1slgf+/YgccuABUl7RW7531raSe7ePuKlbyEWnDpGevYfK3/92tzixUvpaJyLOWgnCQJa05uWTxY1y0y1/koED+stuI3aWN996UyQ+fgmtuYK8P3O+vD97oUydtVCmzlog789eJO9Mn+mOO+542XbYtq9J+568HejARggPYMsttjhrz932kDcmTSqUSL0irv7Vr6R7l64yceJEEREpFAqfek/0WStB/LsJL70mnWp7yHdP30F+ftEOUl3XVb5/8ffFubBt8oh+ioShFRErmUDkpTfflq8depBUV/WUf98yXJ64Y1vp3qWnXHXVL+PvLkqxWBRrQ3HOiRMnzlnJ5gsyfd4imdeckzG/vEq61dbJpd+/pO27SpfVmMnKlJnz5YPZEbGnzpovH8xdJK9PnuYOPvBgGbjVwLu01gCmI2tt3aHjRq9ZiFKKXC7nJZMpKquqo/+MtcFKe+l8Ps+LL7zI7nvuyfDtt0dE8DzvM1VARQTtRXv1gYMHst8Bo/j3U/Xc9XADe+8ygmuuvRKlDM611zEQlIbQKhK2wLAhW3POxT+gS20Ztz7gc8PfA/r068u5F3wHRPCMxvM8iLcCkUcdUgmP2nSahvpGzjjvfIZstx0TX3+dubPnoJSKeogJZPOF+FsjP4ELhVQixfuT32HG9A8x2nS65JKzByql7NixY6WD4OsGHTd5DWLkyJFKRKisrsznC3mW1je2ecbbE7e5uZmFixczeMhgPGNwsarJZyWoaG3Q2oAIFelKttlpBEsWLUIrxU9+/lO8RCqaALRZ7vNaaTyjMIkENiiw/Yjd2e+Qg3h14gzefi/LiBHDqa2sIrAWZUybH6C9M08hJBJRCyKU5ujjvsGChQtpamkBQKyjOZujNVfEaIMghKElmU7RmmniH3fdqXLZrCSTycPG3ffc+B12GPHLs04e3f8Xv/hFqSF5W/SgA2seHeRegyiVOm6xxZaz58+bm3vj7Xd8wGmlliNeGIYUCwV879P+zBVX79K/XdSik051dWTyOXbaZWeGbb01ACu282v/XUoBLiSdLmf4iJ3xfB9xBbYYsAVA1BRwxc+2q7DWaHxtKBZyDNt2e5oaGhg37p8UCnkKolnc2kroBFHgaY/qmmoKhRy/+eVYXn55EheM7qZ+c2bGHjyCAY0Nmf8bP+HNx3bZccfLFi6cXM6ysFjHOFwL6LipaxDjxo1zALvuuuskhzz/wD//ztSPPxGlNTa0iESms9IeJuExZ97C+JNCYN3nNKlXOBf9LlMIwVks0KdPbzzfL73lC2GMohgU6Ny9BzXV1RSDkEIuMqWdfEYNuSLWUlJYcfF7NOiomeDNf/gzJ514Kq+88hpahLJUAt/zcC7krVef59Lzz+GRB5/gtMM7cfaBDewxqMFccVrO/vFC60YMKRs6b3HLVbvtdvTEIw4+4Nh48or7GHeMxzWJjpu5hjFs2LDE2LFjG7facsvx7783mZ9eeql5a9qHkkeRKTjm17eyNBvSt28/3nnzDebOXYAxHuLcZ/bLE7FohNZ8kVw+x7QpUzBAEIZRmdaXlokqnNOENiRdVkYymSIMA6bP+Cg6/ueEniXuCJIrhoTOoZRiwdx5JEzA8GFVvDPpdU447njOO/08bvrNb/n9r6/nrJO+xeknncaM96fxw5OruPLEZjxayBU9hFYzcki9ueO7zfLD45P0rPMHvzP1k3HbD9/+jvPPP7ZfLLXUsR9fg+iIc69Z6ClTphSPP/nk4W+/8vrRFeVVPPmfJ6S+oVGdecEFbLP1dlTXdqKqpprBw/6fvfOO06uo3vj3zNz7tu3pvQKBhB46QqjSBEUM2BFUECzYu4bYO+rPhiiCXSIgCEiX0HsnEEjvbfu+9d6Z8/vjvu+mEEICUdklz8fF7O7d97133jkzZ855znP24JYbbuDPf5/FZy74KKEkHTiS4pDq2VfBGKFULhNJwLPPPMkt/7qJEcNHMH/+8xQLBepydXhVjEi1EKSaS0fw1UKTQqlMkM7R3dNNuVyiPlfPk088yYIFC5kwYTzOOay1VUGzhNJqjKVccfQUy8SxY+DALP++9VYGD6rj+58LWb1WueeRRh5/9jFu/cedxD5g7Kgs571zECcd5jhw2FrWrS3jgxAkJq1CdwyiefnwSQUO36NZ/3B7oDc/GJ35rxufPWDatP1/+La3vfdvH/nIR3pIdvEdSqevEjuCGdsHvbTK44456ZR5C577XmBk0qc/dorrypftT35+LYaAQw9/A8NGjcIayxOPPcLTTzxOU2MDM77zfU4/9RS8J1FIVIdiMQLFckRBlcWLlvDJ8z9K1D2PYw8fyqVXLOTyP/2ZI484AhfHGLGIobddrnfJbluKIhatXMfAoUP41UU/4opLf8wxR+7E3699nneefTbf+/a3cLGrthT1iXCZCSiWK6zt7KajK8/QYUN46N67+dgHP8xRB1p+9dU8QSP4QkhXj6WnO4VTR10uZkCzw6RLlNsMhTVlfCnpJ5YsOB4VIY6hIeMoU8d9c3PxJf9Km3uedn5Is/nX4DGjL7z9ppseZcYMQ9JdZAer7RVih3G/ehiqve0O3n+/D69YsfZbzU11jV//8unu5BP2tXEc8djji/nc1//ME08soKGukUpUwgMjhw+hs6dEysAnv/Rl3nLa20inAlJBgFMlXyhTiSPmzZ3Ld7/2DR544DEu//pgdt+thzedV2LszlOZdc3fyJkQ5xxJUNv2xsPKxYhl69aRqm9g2ZIFnPX293HcASW+fJ7hjE9WWLhc+PYPvsnJbzsNU44IA0MUK93FIp2FMiXnGNDUxIJ5c/n8Ry9gzeqlXP7NOg7Zp5NywRCGigkUTFVVSS0+KuO9wQZKXBF6VpfRYgVjSSrNqoicIKJkM4Z8Kef+cEej/OK6ihGvbWPHDPvU7Lvvvcw5V3PRdxj5K8AO437lEKqV1z/72c/qL7vs0s+vWdX2uUkThwff/Ma7/f4HjjWl1m4ymZB164q8+d0/ZdyYobzr7QewZm2e4YMaOWLaHtxy4w187ms3snJNiYMPPZBjTzyOESNGgCpr1qzhrn/fzT133k2Ydnz2nIGcd8YaqGT45qUpfvzbdj704fP4+Oc+RXNdDiMQx444dhQrEW3FEoFN0bF2FV/8zBdYNu8JrvyZZeddy9xx1yA+fGE7xUqKCz59AYcfdRT1zQMxJlE0td4QuRJPPHYfP/3WRSxcupBvfHwYZ522BpdP8uhokn93eJJKVIeRqj2qRY3gKhGFVSVcySEWRNeXrDoCvIMwcGQzgd73XIt+62+GecudaRlY97uTp0367Mwf/WVdjd22Q9Fl27DDuF8BZsyYUWtIp9PfMn3qU888/c0oKh93yvH76ac/8SYdMa7FxB0FjFhMLscN19zL2865mEsvOou3f+AofCnCaAWNGpHoFu655Z/85krHQ08UWLqqRKViQSAdekYMSTN1jxzvfnOK4w7rwJcsJoxo767jyz/N8pd/dnDUcYfz/g+8l50nTaGhqRnEUCpXKOZ7ePLxh/nZjy6ma92z/HxGjkP3zVPucaQb4N776/jKLx0PP1lk97124eBD92XUyNHYICDf3cXDDz/J7NvvZ+wIw+c/mOKtJxQwkdn6PVQVrCEuRRRWV4iKMcb4DeICJBu+Jm57Q1ZZ1tnsf/bPOv5xT8WITT2w764jPn3lDf++23tnWa+IugNbgR3Gve1INEBVgzccctCHFy9a+ekhQweO+tR5b3SnvWV/k0qLxMUKJp0GzWCKd3LOp+7k3qe6+PvvPsRuO40kKlcIrCJBlrj7eYLKD+nprmPOwoDnF6bo6BGMxAxoUiaMht3GlWho8riiIsaj3mLDmO6eOn7zD8vP/1ymGGc58MApTN5tNxoamyiWSjz9+DPc/8CTHLB7nhnnp9lrt04qhRBTVV8Js8qylRmuui3k6ptLPPx0RLFSATyZMMfEsZ63vjHDGcel2XWnNuKSJTDBNnYiTcJ8LooprCzjihFiATXV+vJqLl8E7yCdEiKT4foH6t2PrjK2tb28buxOwy+88993/1pE4t4X3YGXxQ7j3joIwIwZM2TmzJn+He94x67PPv3MD9asaTvpqGl76YVfOMVNnDA0iCKHxhFBmMHFSli8mlVLH2Tv08q85fi9+NG3ziCXTeGcR4xiTBotzse1XoQ1BklBNaqWiC1A4vo6wUUBxjqSeW1wTrFhEqB6fkEdf785zfV3RMxf1oH6GGNC9p7SyPtPVU6aFlGXLeDjoLcyDbF4r9iUQ8TS1ppm3gphyUqDi0JGDosYP8IzclgRiHHlDGLcFpVgNoekxFTAKBp5ulcVcUUFE2PUVHfu9fn9yFsCcWTTwuNLBrivXh7YZxaWorGjB/72DdOO/Oz3v//9bmpxjh1GvkXsMO6XQbW/lQJeVdP777//+9etXnfhwIGNg89691H+/We9gUwqMJV8EWNCApvGR2vwbVcRpB7g538czdd+2c53vnQaZ519BK6niLUGxSFBA9p1N9p1GYhFfWJ8yc5YZYqhVamkF9+bV0A9Ju1RlELBsLa1mdYuYWBLzIgBnaSyAcQxLpIqxXXjNLL3Sb8vG8aQUdCw6ps4qCiuYhAJttmoNwsBV3Z0rSqiJY8xNRbqxkiamigNWWFFR5P/8h8y7p6nXNjckr7qsMN3/dD//d+stdWj0Wu/i8P/EDuM+6Uh06ZNs7Nnz46ffvqK1Bc/+5tDn3xmwRfTKXvMkYftpuecfbTus89Y0VIsLoogSAEWKT2B77oaGy3DpBs45v2Wtu4cv/3Z+9hnvwm4zmK1ECRG7SCk9RJc6XaM1FVruLftJlXBxYIxYEJPEtmqbmhecXGIaAziEbEvMu719FbQqgabEa12FEnSV6YWDX+1UEWN4CuOnlUlXDHCmOQZNmXmqULFGxoyjoJr0h9dndW/3u5MNh3cuv++e3308r/+9TlUDTsaBL4kdhj35iGAMca40047aacXXlj6meXLVr1j/312bvjgmUfqcW/cU7K5EF+o4NQjQQ7jCtB1MxRuJ9aIVAPMvncwZ32hjYMPmsKfLjkXjSok+maK4vE+g2n9McRPAg0biBlug9urCuJRTaq5ErsWFJPsjKq9SsWbN6L1LrFW+es1eePapZunxW47eotSjOAjpWdFgUrRYQJN1qQNr60m9LyHlHWoqdM/3NGsF10ZmzCQF6ZO3vv9f/7nFXep1x2El5fADqrfxuhtPPeTn/wkOPjgAy94+OHnZvd09JzziY++ue73v/qQe8sp+0haBO0pIwZM2IitrITWX+ML16NGEQ1BDbc8UKISWQ49dBdoTOFjrRZyOFTqkXgJuOVAivUb0LYZUVK9ZRMSiwhiJLkv43pfTqqPtTkDFak2Fq0asGCqHoRudM32QE2NVRVMCNlhaYJsKjHNKpU2edeEJSeqBOKJNKToIzn7mFbzjbPCuFRxOz/67GN/edspb55G8tc75vFmsGPnTlCbHF5V7QnHnnDw/EULvo6LDzto/13sxz9yott3v3HGR7FExZjQgNhUYqT5h5Ceq0C7UROiLoVNlVmxJs37vyosWGa5419fYPigRnzsEpqoOrxphu6bMF1/BJOlVoq1PXXJX8tIPA2IKxXyK8u4SpwsTElP3437MqjiNUCBpjq47tHB8Rd+GweqZvHuk0e/96prb7mTDTTi/+sP8xrF637FmzZtWkAisuBPP/3U3XfdbY+L58yde/OEsUOO+NaF75Df/PQDbt+pY23cUxFfqhAEFjV1+MpqfMfvoev3oHmQLEYNIjEY4annQ56bV+bQgyYxfPQgfJQwyBIhhRB8B5SfQ0zQexbujWS/DiCSNPIMsiF1I7KYTIjzSeRQNhkDAaxxWGI68zHH77s2+P77xafCaOyzzy3/8xlvPv5o/lMtWfowXrfGPWPGDDNjxgwze/bs+Js/+eagQw8+4Et33/3Y7emA93/83BMyv/vl+/3b3nqghCE27i4h3iFBFpUU5O9G2n6GFB9ETAqVsMoHN4mwQWy4+3FhbZvjPWccDOUyXnzvnqJYpLISiRagSdK397563eQaNvpm081JX+J3G7QGes3O92oKwIFJBdQNSxOkBPXVzMBGjybr/08Cugueo/duM998X+DAjXxszrw/v/X0049kfenoDvDa/eT/0xAAa60effQRb1q+ePmXe3pKBx5+6K76+U+czOQ9xohWyviIWvwLbAriDqTrarR0PyIBkAZxvWdFVY+1wqp1Wd7+GUdXeQC3/eNjtDSkqESSpJNUEpc0fyPS8y/EppJikQ0Mdn0gq2rs1cpOqW5OqtUKsGr1WBLYdtXAWUDNwKV6jlexr+kPOikvVXwF8it78BVdP+4b3HgyxklUINaYxrq0Xvdws//MJdgw8Ev2OmCfU6/40xWPsqOqDHj97dwCiIjoF7/4iRF77j75J8/NWXBlS3P2wG/OeEf0i19+kMm7jxSXL0FM0mLHWtRYNP8ouu4naOFujMkgEiIS114QUYjjANKex+YqDzxZ4l2n7UHLoHrIpEg1BAT1KYKGDGGqiyB+FJsyiNjEDH0K9QGxCyhXQqI4i/cZ4jhENMRYgwQpJBVgcoKtU0ymgs2UMekICZP6DUGr95R4CF4D1GuS6noNC5CKCkFGyA2txwfVBWyT2xXAiEfFEYihs6cibz6gw858TxBXIsY8/tATv/zoRz8wih1BNuD1tXMbwKteYY844qJ3Ll68+nOpMJjylpMOdOe//wjGThhs40oFV45IWYtIiJJCo0XQfRtaegRjKnjJYmrteHS9C+nxmBQ4lAu+PoC/3djDz75zOpN2Gsrate0Uy56engr5fInu9qXk2x+n4kLKsSP2liiyCJ5K7HFOCAJLECTklDAISAURKSukAkddBpqaQhrrhLq00tTgGNhsaG40NDVUSOUqGIkRE4AJEkKKeohBY8E5U41caxIH2GCLrIb1cJ71v+/1GLY9Vbc12FBjTowQFWN6VpWQyCEvkQcHxanFozRkQy6+qSW+6O9x0NiQuv6N7zv+jB9+5od5NijFfT3i9WDcMn36dDNr1iz38Y+fM/yu2fd/f9mK1jN222VU8LkL3uSPP2YKGIyrxGhNqNDU4eMe6LkTKd4BrgMRCxIgouuNGiVWBW8JgjIPzGniD9dkuOW+LkQc9XV1lEoV8sUKFS+UK45K7PEiBGEKMZZQPAGKraasjHjwoL2JX4PXJH9dUU0cbQVfTSuFAtmUJ5f1ZFOJsY8YnGPU0DTjR3p2HlVh5HBHU0uF5pwhVw+kY6h4tKR4b8EbnCYpNGuS2gyTdWhZiCsprI2qi4GgaraZaPNy2DiIqIgJKPfEFFbnE4os2itEscEfobV+aeLB1ut3r2jSv86OzLCB2d/f/8jjZ4nI65rg0t+Nu7cs860nn3zonBde+HVPV2HyKSfsp1/63KmMGNUkvlCsLu+KSg4cSPl56L4aohcQk0mmVe/krqWskgkZxYYwW+bfd9dz/rcDVre1kwkFY4RMOkNjXYoB2SwtPk9dYMhZpTFlGZxOkwmEDErWCBnjCawjJYYw0QhOUkUoBa+UvVDxQlGTr3zkaCvEdFU8BaAngnUVR08c0FGK6CoVMArOGUwYMmZIA5PHKbtNdEweFzNuZMz4UYaWAWUgAm9Rb3CxJ3bK0/Mz7DRGaG4poBWDd4oxkixytU6i22H6bEqQUZK4BBJQ6a6QX92V5Lw38RiqvgQoODUEoae7Uqef+FUjDzxVkYmThnzujtn3fQ99/ZJc+rNxC6APP/xweMEFHzl3xbJVXx3Q3DD4wx84zp31njcYhxdXjAhDEAnxGuAri5DCbKTwMEgZkXqUCJQNjDtxTRXBOQhSEfOX5HjP5wN68oY3HTCOUc3NDGrMMLilgQH1WRpeeILG1auoyxoyokgcV93kOKl7FsEbh3q7Wbc3cRIEJMZoNQIeWAgMDqFIQHfF01FxdDmhM4Y1ZcfaWFlR9qwqwaLOAmt6HKt7hAIZhrZYdh5VYfexAbvvkmKPnWMmjCjT3ByRbszy9o+mWNUacc5bDCdNK9E0sIgrBVXCjG431tqmqJWCJqNgyLdXKLbme/XAevMAG723UnIhLXWO51Y1+Q/+OGNWr8u3TZ6y81tvvPHW2dX6gNedgfdX4zaAv/ji7zRd8qu/fX/5inVn77P3OGZ+5lTd7+DxQVSsgBcCY/EmC9FatOdWbPFx1K9LAlcaAjEb7Ra9rW+F2Clh2tFVNpx3YQM33p3nog9M44wDdiNMKcamIBXCY49Teux+ymrwRvEIniofFNPrAdTKnJLNSHvftUYU80Z6Z7ZKsmOJVwyJaxIYJZAkVm5tsvNFQMF5ijF0YGl3sLrkWFSMeaHT8VQHPN9tqLiYlvoKY0Zm2HOicOBunljrmHUzPPVCF/vtbvjAmy1vPKIH4yCqBBjjsWb7n73XV60BmnDa8+t6KLVXEGMwaJIH33C3r4rBRLHS3GC49fEB8Ud+EQSpQO+ZdvQRb/3Vr361pjYntusNv8bRH43bAH7GjBlD/nHVVb9ft7rtuDeduK/75ox3MrAlY6NyhBGD2ADVEC3cj+m6GdWVCBGQSpoAvGQcRvHOghYx2RQ/uLSFb1yyjjOP2oNvnH4oGYHIKRoGRCuWEz8wG3VKYAMQh9newajefyWCiJBUVBkgEMFI4iRYAS8G8YIXKBtDIfK0uwrzyyF3tBkeaXUs7exCA8OwwUpLXROtrUXWrC7T1Bxw/GEZvnpuD41NeVw5h7H/uQm0/hwugKFrdZ5Kd4VAeJFxbzgasU+RysAvb2iJfnqlhqNGZL/78KNPft57/7orE+1vxm0B98UvfnH4Ddf+8x/tnV0HnPWuo91XPneyMeoldg4ripMUGvdgO/8F5TuR6sS3BHhNzOSlXU7Fe8GEEfc/Pph3fq6TQc1pLvvwW5g8tJmuUoUwMBDFxPfOJl63BmNtNR/93xturZ5Ha2dT1SS8LyZZBKwHm/TvwljBxo7IGF5waf7dqty/potlRaE1duQrRcRZ4kjZd7cmvnGBss+ULlzZgFdMIEitOmV73X+vCVaFHCKhZ2UPvhxVy8OlWrW2sXvuVEjZgM5CWi/4Tc4/9jx2t0nDTrjh5tk38jrbvfuTcQugnzr/U2P/dfv1fysXKwd+5EMnxB8779hAIodTh7EBqgGU5iJdV4F7AWMakj9VUHw1P7xpD48NoaCWnqLy/pkBtz9Y5gdnHc2Zh0+iUKhgBQjSRPOfJ37s4eR8Xpv3/22CZHWH6y3G2OTNa+6/VukxBkipkgk8kUkztyQ82RHzeF6Y01ZhfqHMyo4y44c08MVzLG89tkhAEe9T26fe+8UPkLymKmogKiiFVXlin2i2mU3dc6C6OlOXUf49Z4j/+C/UpMLUcye95ajDv/3t/1u7nW/wNY3+YtyJYX/qU0P+ee11V1TKlWlf+vTJ8fvPPCrQ2KNRDGGIUUW7boX8rQgdqKlDXsrD2wAb5ne9gklF/OnaZj7x/R5O3G8il3zgGLxTnDqsNfgoIr7/HtzK5ZBOvYgr/VqFVstDnReMVzLGY2zISp9mTdnzTMHz77YKNy/qJGtSnH1awCfPrFBfH6MVU00TbntN+tbcF2oQKxTaShTXFZKjVW/UvvfKhPxS/byydSm++vsW/6fbIzNyVOPXHn7g8RnJE74+XPP+wOIRQK013HrTzb8ol6NpMz73NveBs44JfMXh4woShOA8rv0vaP5qxBTBNCSGvTVvUCWsxL6CMY7WdVl++beY5lyKT5+0L6KK8w6rBiTErVtDvGoVEqaSA28fgiiERjHGUMTSGnsqkWNICEc1G74wLsPn9xqMpGJ+dUWRz/6wjraOFGKLxO4/cwiXGtHGezLNKWy9xce1X2xgp9WFuqbgGpdLnPemyIwaHLJuZf6cN5125J7VP+gP8/5l0R8eUgAOP+jgb3Z29pz2qfOP9+9738GmUiiivgw2i7pupPUnmPw9GMkAIYKrTpqteYvEFa+4ALKO312d48kXKpx19F7sMqyFiqu681bwxLBkCRLFvbTUvoJaui+h0/gkAo+AmISE45KKrXcMhgv3GEVzvXLlzV187BtZVq4dQJCu4NzmpZNe5Z31flYGpWFgA5JW1G/yXhu4DNYo+XKOUQPX8v4TQ428Dls2t+0cMcJ0pvcXj3WL6OvGbQF/3HHHveP5+Us+ccZbD+W8DxyDFhPfTGwTRMsw636JRE+jqTSQFFn0otrCJwlAvZQlCs57cvWOZ19o4o/XF5g0KssZB++CTdQXqCokQFc38fJF2GwKv+nk62uoDkfC6U4My6iwriyc2FDhzAlDSGeVm+/v5v0XWp6blyHIJmOl/yHPNxF6EOoGZXvzhKqbeTdVQhvTmQ9528FtusfENG1dhVNPOvakfWcxy02fPr3fV4/1ZeO2gDvnnI/s+sTjz37tqMN3z37psyfFQaDGuQibaoDyPKT1t+AXorYFEytojPeC80lvLk8i5SNVVtjmoArGenCWWTcELFhR5L1H7834IY1EPhHiNwIYg1u8CGKHN4Akvbf6GpSEM6N+46VJAUQJRehwjv2bLClrqU/HPPF0N+d9y/Dkc2ls2uGdJqIU3m23GvVaxkHwpOtThLkUzlf5PZu8hYogEmO9kpa8edeRlUisHbFi7ZJ3A8yaNasPr7pbh75q3AI4VQ1uu/XWT+88cehO3/zK6XFDYyqIShEEdbjyUqTjUoQVqOQQrSApjwQWEyo2lcJYg7GKsZZqC42X3LxNGp6dn+PqW/LsOm4gb95nIt75qgFUI9JRjFu6MCGwUJMt6ptzqFbt9iJU4xSCJes8LbkUzYOH0NQUMveFAh/5Vsjc+SlsOqqO5fZb3HrvRwArBC1pJEhy95tad+1wIUZxXjh417KdPNrQ3e3eftppp+wDxP199+6rxg3AwQcffIQ17h2fv+BkRk8caCvdFUyQBddB0HYZuDUYcpiUx6lhzWp4YaHloTlNPDkHFi5xrF4bky+AioFQkEBx3uN9Uo6URH+Tiqqb7zLMW17krCP2YsyQBsqVuCqu4JEgxK1aiSuWwLy2yyu3BZsuTon0MniU+lAJygV2mbQrX//Wt8jlhLnzOjn36xnmL2rEpBX/H4knCuo8mWxImAtRLNWmqJvxEpIMx+CGsjlmn6hSLheHr1695gRrLVXJ6n6LvtrCV1UfDieMe8dHjzlicu7oaZOdz1dskAoBBx3XgluMmByeCvc80Mzl1ykPzcmxck2ZUrmIkYB0qoH6nLLL6IiD9qpw8D5p9ppUYejQElr0RHGMMWlsGLNqTRNX3FpizwnDePPUCVCOkvO2rK+j8KuXYrzDB313xwaqUWdNQglCr0hEQoJJ9gNVxZiA4VnDggULectbTyWdTvGVL3yeZ57t4OwZA/j5F3PsPimPK1dr47f3bYqSbQmI81Etvb1Zb8N5ITARb9g9Dn5/S0DHuq73vvutb7308lmzVtGPy0L7onGLgB5/zIxp2Yw55YRj99B0Q8pG3Xls0IgWH8OUHkYljdiIYinNXY9ncHGBN0/roT7rMMbgvKGnWGTVasf8Zcovr0jxoz9GvGFvz5lvbubNR+VJZT1xSbHA7EctTy90fP0dkxjRXEexUMRai1efUFl7etDWtiTPogYV33cNvJfGLjWLwfuafnnvJaQDGFGX4+nOLp5++mnedPIpBEHAV7/8Bea80MrHvtPIz75Yx+RdKmhlPW98exSciCSxkiBtCZpSlNcVkFA2a6YiUKkoE4dGZv9ds/66e/OT2svtBwDXvuobeQ2jLxo3CixaOv+rE8cNZeo+E6DiEEmhWsAUH0GoICZEnSETeD571jqCjE8iRFoV6ejdbkPaOtPMW+S5/cE0l/9D+MjXu7jviRY+f65laLNHozSXXhux05BGTtxnIlFURozpLf9EDa6zDd/TTU2Au88aNiQ7dHW/Vp/8Z3PijYEqw3Ih3UvaWTh/PnvtuRfHH38C9Q0NfPxjH+WpZ1fyyR8O45ILPaOHOlxUwZqajPOrHB9NwiSKkGtO47oj4ihpd/SiowRKFBuGtOQ5bI+0XPdAltWLV75ZRK7VfqxI2afO3DV20Sc/+cldCvnCHrvuPIwxYwcRV8rYwCLxWjRaUO0XnaiNGKMEAr5o8aUQX87iyil8JY0rpXAVx4CGHg6Y2sXnzmvj5t/lec9bGvjDdUU+emFAd77EPc/kePyZMsfuO4FRTfVEjoQnbiQp1xRF166FuJIUnYhutwjx/wSS/EdFe+NUUmPyQG/lGs4zLJcmrhRZumQZAD35PG94w2H84leXMGXyzjz4yGo++d162lotNlC830401ZpTAdgQ0s3pJGW32Z1bMKKUSxWmTogZM0RZ3VbZ74ILPjj81d/Iaxd9yriPmHaEBbjnngenZ9Op5t12GwXpMKnZV0Xj1ahrBamJBCZQpdp4T6ulirV/J9e42FLpCXF5w+ihZX742U5+9NmAOx6BL/1fPb/6i9JUl+a4PceQtuvLMZMdTpFKmXjt6moTvz68Y28CA5t/HqHaqEwYGFqsq7B4yRIAwjCkXC5zwAH789Nf/JwD95/CLXet5BM/qmNdZw6T9kmQTasvtJ0i6kFOMCnbWxn3ot9bobtkmTSyLFPGKWUnE+Y9/eQuGzxRv0OfMu7Zs2cjxtDWtmKPTC5kr93GesoRpioPrPEqhAqbflayhYIlYyzGGMIArA3w5RAfhbz3zT384DOGW+4J+PeDHew1cQBTxw2jHLnE7RMSdzVIE7e24TrakSDo2zv2BkhsrxY72Iz5SdIGuDllaclmWLZiBeVyiXQ6TRiGOOfYc8+9uOhnP+fAA3bjmltW8KWf5ejoCBBxRKrEkSNWSWSkXuXNBqEhyFheekorXg3WFpk02iJI/do13Tt27tcGVIDYO5dRNUNSgWXc2CEQO4yp1jbF7Qi2twpqi69Wa5+z0ZciVvEugsjzlmNKHLSn4F3IcXvtSmPWoN5vQGkW1Aq6bhWmWESDREL4P6VS8t+CaPWoUSuqqR4zNqzCVEkIQE0hDKhLs2zJUlYsX77+NUSIoohdd92VH/3kZ+w1ZSf++o+V/PiPTXhvseoJUr7adPBVLohVtYYwvXkJ55oAo5GkR9ngJk8YOIJcw7D+5Gltij5k3MmncOzJxw6JK3FLGBiamzIkMp0G9TGi7STaYy9/rtu88VW7aqlAaFiz1rBoRURLU5Y37jUKF3nEGHxiwRAESL6ArlkFYdD7jn3ZsIHe8yxVySOppcE2UklJ2v7kNGJQfT2rVq9mzZqkorK2uFlriaKIKVMm87Nf/Yrd9xjLL//UyrX3NmBCzwNPtbBkVdIe+NU6PEpyGtvsKWKDBTx2yqCGiHQoxGob/osl9v919Bnjnj49Ifs31Tc1hEGQC8OQMBtQkwNNAj7bQyYrCZKh8PAzIY/PzXPiAbswqimDU62K5VcFPWyA72zDr1sHYYr/EGPjvw4lWeDEgqivUnM3niqCAfVkFEY1ZVnX2sq6DYwbSI47YUilUmGPPffgop/8lCHDmvnGLwpce+cwPvi1Cg8/G0AYvErjTiipYsz6Er7NXSUJWy2TsYiBKIrSr+ZdX+voM8ZdQ9qlDV6MsabKjFgfwa11s3w1UJTAQCFvuOtRJVbDqVPHYSTA+STNIiIJo8073KoViQEY2Q5hodcGqsHy9ak+6C2w6f13NRYmogxPG1BYsmQpANbajbyXIAioVCocsP9BfONbF9LVCZ/9QSc9+TKhlaSh4qu43/XHBc/6s8RLP50huaSfrMUviT5j3JMnT1aAkuuKvGgcxzFElWo+pHrKlg1b4b5CqECoLF4RcOv9jsOmDGXnYS1JF8rqnPGatPKRSoxbsQxNJXK/0k8opxuiWg9T/aZaElqVXfaaSDiPzoXYIOSFeS9QLperBJNqK6MNXPQ4jnjzKW/hE5/5GD1dBQbUWwYPcskbvArrFpIjgnebo5+uhypYI+SLnjhSUqlU5ZW/62sffca4Z86cCYBqZ6fzrqdciSkUHFhNVmxj8aaFpCHfK2cUSlU3+76nAp5fWuSNe41nSEMDRXW95AgBMJaobR2+2JNoedfKRvsJtLYDmqS6q3bO3jQIaRCGWMikQxYumE8+n9/odWrXJbt5Mt323HMvgnSOoYMNE0YoRPGWN9uXQ7XqNq7IFt17VbDW05G3OAeGuCvJu/dP9BnjrvqFctVVd65OpYK22Hla1/WANVV5IMHYlg1kgV/hbLGGSsnzh38Ku4zMsO/4kcQuwlZJHb13I4quXoE4/2pPAq9JiGy4lCUCiC9Oh4HzygDrGdpUx9LlK8j39Gx0SW0nTbjoyXS7/PLLKReKHLRHyLDhZeKKxbzamRhDXI42W7BTi5YrgrXKuq4UMQFRpWvNq3zX1zT6kHGLTmVqICJevV1TqcTMXbACwhSxT9w6ZwYDIa9k11ZVnBMwZe55upHHn+1h7wlDmTysGXXxekliTWqFtVRGO9qodb3oj0hO3EkKyVXz3RuiWndLnYXhmZDOzjyrVqzY+BoRnHPEcVJBd/ttt3LfPQ8yaECat58UQux6tdtfOYS44qAUIZspUOltKOEdmDQrWmMctjyoqXGHcb9WUD+tXgGGDx/2VKUEc55bmrBPvMOIIGELUnXNtxUiLpEISsPl/0hqvqeOG8KAulTychvMbDEG392F6+iokjn+cx04/teQDeJom0PslYYgYEJ9yLqebhYsWLC5VyEIQnryPVx15SyWLF/H2dMb2HnnVUQl2Q7GDVHR4WschM1AEQLjKFbqdekqiEqllYOG5FZs/ur+gT5l3EcccYQH2GPylH+VKsXOF55fDQWnxlTPWsFANBhI0ikk2c23ljEWxylSOcfzcwfz8NN5hjRm2Hv8SExge8sJgaR2Ww3S0QqlQlXxQ/qlYQO9BO4kjrb+GWttf2KBrHjG1BkqccySRYuTP9vo2kSv7p47Z/P3v9/M4Qe0cP7pPVBMY4zBvIKx6/1cBXzsqXSWwfTKZrzo2thBXVZYsMayrF2pz8ny404+YXHtkm2+gT6APmXcM2fO9IBcfOnFT2Vy6SULFq9hyZI12EyI8xHG1EEwptqPWlFZHwR7OXg85AKuv9PT1hUzfmgzk8cMwscRapOSFdOb61XiVStIZn2fGsJtRlKM4cEnogfqfW8kvHaFr8SMSAfkUpaFCxdRrpR7jVtVCYKQ1nVr+fa3fkAm7ZlxniGdjvBqsVLlFWzrfQl4dSiWQkcJjZNuLuo3y2LBI6TTKZ5bKixeBQMas8+ceeZn8y++uP+gT87MOI4ZNnjYHxYsXsOTTy8BG1TPwhYyu6OSQjQCNVsV7PIqpMKY7tUBjzwTE/mYyWMGM6olRyleX5et3iPG4kvd0NZGHx2+bcaWvBIBKgKjMwGj69I8t2ABbW2twMY03G9/61s8/sSznP+OZqbumsdXTKJwI1u7/G6MJJhviYsxlc6oN1j3UreaEke+nOLReSmNo4iRo0feUt39+6nL1Ydn595TJ/0lXyi7f9/1FHE+qqZqHJoajw8noRrR2272ZaBeIW14an7Ac/NiGtMhh00eB1QNu8Z68h5JpfDLV+JKBSTsbd/Xr7ElapARIe89wzPKmFyWeUuW0tHWDoBzSezjL3/+I3/84xXst/sA3nZcEROUq4SgbceGkW9VpdBWAGe2yE9PRB0CVncaf+8zzjQ0yCpf7n7wFbx9n0JfNG4F+OlPL1nR0JD707/vfl6eeWG5C7Mh4gtI0Ihk96+6YhEvtzArJKWfMTw6B1a2RjQ11nH4pBFEZbfRTuAxqFd0zSokUnpFH/o1lGSRq567jdlEkUVxQJ2LmdCUoaOjg8ULFgIJM+3hRx7hu9/5HplMho+8yzJhXJm4HBIEr1SwQRIBCRHK3TG+EIPxW1xjRRLW4WMvZN2S1TFDBg7844133L/kFbx5n0JfNG4AERE/Ydyoq5cvX8dV1z0iYFSsBS2g2X2RYCLiK71n4k1tUGs/VBAL3d2WR+Yo3fkKh+0xhpZMSNzLZNSEwJEOiTvace2tEFrQPq6VtlUQpCp8sdFPa98rCBbnlF2aA3KB5b6HHwJg4cJFXPiVL7NgURsfe089bzkujyu53v7e2w6tFoAZfOwodZSTvPZLqLQqyftYo/SUQr3xMQLFllsG1V8fx46q+mm/XZ37qnEDUN804L4BAxvvuuLKB838Bau9pHP4uAQ2g68/GghRjROdMzbOZ4kqKgavMYhj/nLhufkh3lc4aa+d8OowVbZbrYzTSoi0tuK7OyAMeH00jEx2bq8vIYMggjVKCWXnrNBghaefnEO5UuKrX/oC/77jMc45YwQffkcXWo5BM4n2+CsKRAoiDhWh3BqhpRgjIJsTyRBF1eIxWGuZtzwTP/JcShrqgytvumn2HYCZNWtWv/4A+6pxK2D++te/rR7Y0nJVZ1cnv/7tHYJzKiaNaBGT3QtSk8FXkiiqbGKMkhi4aACS5oUF8Oz8ApN3GcqkYY2oKl4sUk2niQ2I4hJ+9SpE7Pr+Vf1946b6mBtILL0ImhxRBhoYO6iBZ+c+zwfOfB//uPYmTn7jUD73/g5SVnExGIkRCV6hcSuYkHJnmVJHYX0d/0tE0aR6lqho6K+4Lxeu6ap0Dh0+5PI4jpk2bVq/D5j0VeNmxowZgDJ2woRrB7Q0zrn6+gfNw08s8zabBu9xYvF1h6OmDjSmxrdaD8EDRiIq5Zh7nhxAZ3cHR+w2niH1GaKYhLNe7e6JMUihgGtNarf7WoO/V45akrv2/cb2kBxvBK9KzsDUlgzFQic33fpvDt53BF//kGPwgBKuAsaaqlFv29glBWkKYnCFiMK6Ahj7spYZxUJ9xjFnUSPX3RsxqDFz422333kzYGbPnr096oNf0+izxl3NeYd//vOfFzQ2tfwlrjh+c+mt4gplrDVYHyPpXdHU7lXiyaavUDXaAFo7HLff7xg6OMOeYwaRTYWJKy8kVWIkl2pHG5SKr4Nz9oYQrHi8EdDN5aQVI4ZYIBd4BmQCCmVl7PARfO+Tnp13aicupwkCNhBl2Pbx84CLPIW1RfCKfRnqnPOGVMrRE9Xr964KTbnsWkePGflD73ptul/v2tCHjbuKGOD/fv5/P8rmUs/ddf/z5q4H5nnCEO9ixKaQ+sNQwvU63L2osplC4YkXhrB46WomjBzA5OGDq1JKSTRNpaZA4nFr1yBRdXL0+6mx/hE3PIFsapZGBYenQZQne+Bv87tpyNXxky/k2XuPHio9IYGJqoFN+4qopiqKekNhbYm4VOP5v1jCeP19C2hMfSbFJTc18tjcIiNHNl9yw803PURvDVn/R183bp0+fbrdb7/9CiPHjPtZZ2cXf5x1n3HFShJRdRVI7QLpA0HzKCYJkPdGahWIuOHuFCZ07DRsEGMH1+N65XeT8k9EoFSBjjbiWqV/P7ZurRXD6EvvjrWuqDFKDljsLF9/vodVZcdPPms45IACle4QawN0k0V1q+5B1+u2GaDcXqDcEyeS0i8lo6VJ2a3zSn1OuPvZBvfX2yJpbMg8ecT+B/6gWt7Zfz+4TdDXjZtZs2Y5gJtvvvHipsaGB/5951Pcds8LKnUZYlcBUXzDMShNoD0blAQKYjyl7hYefKKdulyavcYOpSkTEntPb59qTYgaPp/HdbZje4kx/dw1r/VwQIhUUN34rKwKFZSUwDqxfPuFbl5oK/Ot8zOcdGSeOJ8mlfJYG79i3n3SEEEotFbIt0dY8dUsx0u8noDXAGtDVnU1uB/9IzAdBe3cc8q4c77z85+30g/m+7agvzysiEg8auzI7xcLFS7/010UuouaToU4V0DSoyB3RMKJljhR3PJAJuaep7Ksa49oyaXYc9RAgsD2sqdEBbUuaQrYvhZKxaQK7FWIQfQFCKBGscYQe6HsLULteLL+uhClCPxkUQ/3LC3yqdMzvPeUTqLKhgb9yqeYGEOhvUSprYiRhPSyvhfKpqiV3sYEYaA/urJZnnwhkomjB376r1fe8ADVXu6v+Gb6IPqLcQOw2/BRtw0ZNvC2O+5+Wu66f55Sl0MUrC/h6w5CzGjQOOk9rR7CgPsejSiUyowbOohdRw0grtS45JoEib3Bi+JWLUNMUO0F3b937oQYAnil7CwRNtGI20CeTBWsWP6+xnHN892845gWPvnBIgawPkSkwjZPr+oxQH0iY1Xqiim2lTAY7Ia/38yfebV4D40NGf3FdY1+1t0lM2hA9qez733oN7yOztkbor8YtwLyk8sv7xg0uOV3Kp4r/36/lroLGqRSSclhOAjNTMGoot5hTUylPc0LS2JcBJNGDWD04GZKcYSxkKTKPKhFKwV0bVtShyK6+Z41/QgiSQAtFkMJ03vCrUkbO1Vy1vNQ0fHb57p5wx51fO2CVtLG4+IUxoIxr0A0Q6SqT2cp9lTIrytgkKqUdFVXXjbPCvQi5OrSeunNA/T/rvF2SLO54YJP/eCL7nUUHd8U/cW4obqV7rnnPv8aPKjltrsfnGsXzF/tCIPq5DSQ3QdvWhL3PA3zlgrzl0Iul+Lg3cYkuzob7MlekVSIX7EcjaMNlQL/B4/334OSiD0WNOnfsqG2t0fICqzxAT+ZW6C+QZn5EceQFkepBDZwva+yte+1IUQslXxMYU2pyjwjWV5kY2+pRh/2Pqmxr0tb/eudzf77V5TN4Obw7recdNi5733vcXmSOf66M2zoR8adkFoILrroorbG+sabK3HMbXc8K1DdaDVGTQ41aWIVwDJ3kWX56hIDG+o4asoYolJEUHU/teoCemOJViwF7166nrCfoLczhwoRQtEbam2DVJMaefEOZy2/WVLi+dYiF5yRZr89yvhyilQosLl66i1AVPAkrw1KXPR0r+3BxD6hllb5/5vWkIkqMRa1UJ9L61/ubIm/9afI5nK52SeecuzbZ37vN8tI5vfrzh2voV8Y94wZM8zMmTP9b7773ewB++339db21s9Xio5Fi1YZnEfxSfFmZQkStxMY0CjgmedDukrKAVNG0JLNEKtWKY0kaZUghM42bGcXzppX3fWmLyCp+oKyJuIMUlUHTYwbciHc2xFz7ZIOjtwnxbve3A3OY6xWab7b6ooni29SsSsU2woQJzrwiVy0btRttJqjq/b9gmwqxa9vHuC+elkcZuob7z3mjUe/61vfumg5r8MA2qbok/25N4HMnDnTv3v6u8f/9Pd/urhULBybTgeKOB04qEkwikiIibuh5zagTGAzdOThiXkVyiXHaQdOgmgD9ZDqPmHDkGjtCly+gLG2+vN+vns7jxOlrKlESEGTXL+ihAJdPuTm1d2oS3HBmSnqG4r4oknKZl/iPLw18IAvOuJijBiD08Q6e8UcpJZbT87lmTCmEDfoj/85UC+5rhAMagpmv2GXvc++6KKLlpNsWv2eXvpy6NM794wZMwygZ5555rjHn3r8L6Vyz7Hnf+CEaNphu2u5Esl+e48HE+LUQueViF+AShYCZdHyLPMWeSaOamSvEYOIXE3ds2rAYiByxK3rEJ9E0Pu7YSdVVxBpjXcviDGIEYwxWBGWR467l1c47Y0p3rBPF75k2LKcw8thPWGoUqwgziPeY9lMPtuD90J9zrKis8V/7rIGLrupaEYMTl9+6LRpp//yqt8tYMeO3Yu+bNwyc+ZMr6r2ySee+EZPT/7AL3z6beUPnHV4sK6927Q0N7LnlNHgQ7T7OqR8D0gTqjGkyjy3IGbOwgpvPmAi9db2drVUEjfRhwFxvgdpbU/iaPLi4E9/QyJjDE4TUciNfwdihGe7SnT6DMcdUEFSjjgmkUt6Ne8qYFSJSjEqpje0UVtsIVFTMdbT1GD0jjmD3QcuynLHoypjBg/6xuV/+uo5v/rVr9awY8feCH3ZLTeAO+KwQ05Yu7r1tLecdIC+7/1HhEsXrpMFi9YwZbcxNAxqgZ7HkJ6bweZAygRGoNDAw0+FiPRwyC4jSIcBxbiSiPWRnPWMQtzViS90o9Zgat0t+zlUk22v9wCiVM+8QizwXCcMHFBm/BgHkanyvF/twCjqDC7y6yPzSqIsi+C8kgo8Kln/fzcM1F9c7axK1D58zNDP3XXXPb+RhLD+ug6ebQ59decWwKmqKRYrx4iYzLnvP9ZjxESxo9BTZq/Jo6gLK2jnzYhN2tWoDyCtLF0XccsjnqmTBjFhcDOxepL2nVXZIGMQHyPt6yCOMGJ6J3h/Rq1h70aRBVHUg8dRdI4Xuj0jmz2jBqXBCyZIcv+vWG1Kk3f03iSpx1rEQ8CLJfKGTEZY2d3kP3PpQPPDKyITprl9t0k7H3f/vfdfIusLw3cY9iboq8YNwAc+cHpze1vXXiNHDqGpJQVRTF02pKE+xYDBTaCL8OUFiNYoox5swLxFdcxd0MNBk4Yzoqkh6TIp64mNIoKLInzbumr/b6rn8P/1E/+HUSsUkQ0PIIm5WZKSy1VFZVCToakuQv36lkOvOEtYFVRw5XI1lS3VAhDwzlGX8zy5uEU/8cs6c8MDlZ4xoxpmTNpt19Ovu/HGh77yla/s2K23gL7sltM0rK7OqWsKU0IoCqUyQ4cPYO/JY1i3thvKz4EUUTLJnBXwccw/76qjIdvOfuNHUJ8JKJYrGFnPWBYx0N2Da29Fgs30p+mv6NUaX/+j2mJnBCKBogYMaFYkXcGXX7lRb1SZJ5aonBBSxGi1SyjUZ4Q5S1v8Jy82Zvm68rq9Jw3/4A133PsP7x8x06ZNC2bOnBm/quft5+jTxu3zqTgwJiqXHQ4LWCiX+fxnTsZFQPsliWtSbboeGOjqyvHv+9rZeeRAdh87qBooE+yGHTJQXHc79OQhm+GV+5x9Ey+SY6ief516nArZjJCU0oe86uS/GMQLUTlCjE2Cc6oEAaztyflv/DUwq9p8z87jm9953e133wLTApjtZ8+evcOwXwZ92i1/Zl2hK50Ol65a3U53VxmCgLhYZtTIgYwfXY+PO6mSF0E8ZD33PFrHinV59tlpGLsOGUi5HPUSV2otcvAOWbFiA+Li68O4pfdrkx15gxNJwu32Vemqbdu2Nx7Kap28GgqdJXzJYcRXKSqCNeg/78/IE897Ro0Y8KXb73zkFiAFs2N2uOJbhb5q3AqYW//85/yAAc33F3p6uP+h+YLEKsaisRLH+fU62xIkE9IH3HZfmcCmOHDSaMJs0JvfrnXHUASJKrjVK9EgxUsKA/RLJIubIUk9+eQ/1fGBQCCwiRcENtm1t2HdE0246YoiRnFlT8/aIsV1JawmwTRX/Qy6K1muezAUmwpuuOeB+39K4mVW/hNP3V/RV40bQNR70umGO5uaGlb/5Yq7TD4fq7XVeK9JJe2FSLjiNlBWLA95YE6JUYPqOWHKGOKeIsbW2tAkFU8mDHGrlkG5nJAoXh+bdhXVem3R3gqs2plbBQIRshpRKCqQZps3UKnmxL0h316me2UPcWepykCrvpcz5LKeB+YO4LklJVKBG/6hcy+YAMRV0tIObCX68mA5ILht9m0P1jfkrnphwUquuOIBRzaD8zGeOpAGUJ8IMwQhD80RFi+LecPk8QxuqaPkdX3fbapeuBjcwkXEgSHAbDtXul8gyXT3ejPe41QJAsPAUFjd7nHlFILvLTbZHJLfJed1VUVjpdIV07G0h9LqGB8lXULXK8kKTh3GZLjq3lgKZXWuXN7n7rtu+fNHP/rRUTNnzvQ7DHzr0acHasaMGd45x7QTj/xOJpN+9peX3ho+cM/8OKzL4V2EMhxPVRWk5Ln1fsH5gNMO2gVXKhLo+t7QqooLQnzbWnx3ByEGMdvmdvZ9VNNewkYBRhHBqJAWw7g6w6p2x5o2EFNdODcDrdH9MFS6I3pWF+hY0k1+ZR7KEdbGWFHCDbhBzsGABscdc5q44wnHsVPT9h1vrK90d5UOvP+eez5prWXmzJmvp3PSq0KfNu6qvLH56Xd/umTkmNEfXdfevfYzX/5zcMcdz7j04AH43ESiKMCEZeavSHHnIzFTxg1hn1HNlL3ZSHRBvUfCEL98OVKpJLrYr7NplLTfMQS1wCLrA41eIFTPTvWwsi3D/BUeMppw8GX9K/RCku6pxbYS+dV5Kl0R3mvSbcRUQ3dardMW8F5Jh57OYjO//qchjuG8k0p8+MSOYNSwkI6u4ltOPOqQ8by+giCvCn3auKvwM2bMMLfeeuttEyaM/uDy1evWfuKzf7D/9+PrvQ/HaNCUU+qUG+9J8fziiDMOGU9obWLXvbltxQQBki/gW9fg0apc+etq2+41tEDA4hM5ql6+muK9MK45JN8Z8eTzKbAGNE605lRRrdXCJwo2xdYyhdY8qGCsIaES1UZc8Vi8t6AGsUI6nebXN+a45fGIr7zLst+ELjJhJIftEdLRVR7W2FI36H87QH0L/cG4e3fw226745q9951yasXrEz/88TXm1Pf8nd9eMUDuuXcY18xWHT04y37jRlTbzFTlhKo7iBpL3NGKa+tI3PgqS6v/V4Kth1SLq71AKD4plNkg5iCijMmGjM5UuOPBDD1taYyNcRtoq4EDA5XuiHJbCWNMEpzTWrVdrV5e8EYxKSGdssQmza/+NYifXeP5zNsCzj62na6CJxsahjfHRLHadCbTUn2T19mq+8rQp0ksm8AD9qqr/nnP7373uyMu+e3FZz3z/LKTn3kh3E3UDSzHpfCU/SczfkgTvlbypLUdGkQ9rFudKJyG5nU/fVLGE7hq62sAFRzKQOPZZ0yOfz3WxZPPBRxyQBpXqHLzSdx0HxtK7V1JzELM+j5jG0Iga4S1nWnunpPmn4/WcevDBcYPDzj10IhSKcapxRolkGolt39dRjdfMfrFzr0BHGDOOuusjnvvvv+iv97z3ZN2HjfslKa67GPpIOCIKWN9YzYk1kTZw1ePfc4YKBWJV6/Faf+XU3o5KEKoSmA86hOjFYHYQ70RprZkEV/h0n+ElIsWY2p0Ukmi6xWHq1TP15sxbNWkA/Idcwfyjh8N4Wt/S5OSmC+dkSEVBsxdasiECVmm6KCraLGCNxp1VF/i9f0BbSX6m3HD+uSrPWTM6cWdxo9fW4hK40YPbeHAnYeKeCHRD6Ja2imkJYvr6IDWNVib4vXT5G/zqCnRZHDYWhMAVdQIznkObArZaWiaG+/p5ra700ha8C45lyeihQ7VhK4im0mVSTXYZoATp5b53SeViz/WzvFT24icpS1vSaVijDEUSobnliuZtJTmzlve878Yj76K/mjcNTiAFxYvPK2zpzjkuL128hMGN0m+Ul4vBlA9fJe1hF+5HF8uYYLXHZX8RRBABTKGRBGlGnw0CgVVRhrHh8Y3ERjLdy6PWbwwxGYSDcmE6ruBao3IZjuOOK8cOaWVr7xjNXuPW0EUV1jWGhJXlEENFSqVgFQInT3WP/ECDGrJLh43Zqeu/+Iw9Hn0Z+PmOxdf3LR08cq3Dh3QwLF7Teit2qwpfKhKIldc6MYtWohJp9d393wdI+GACwGetPUbBRdTxpJ3cGSDcMHuLbywRPnUj7IsW5nG1jtil6TT9GX6b4sq+aKyptWTL4UYb2hpEN55rDB1Ykx3UQmCkHuerXNt3RWymdStf7zyypo+2ut8+d069FfjFoCb//SnQ3rK5f0O2W0sB04YIqVCmbAWKkcweDQwsGARWs6j1lR3nNe3ddd2bhXI4Umrx2vSW00VjBjyLubUZsOn96znvqcKvPtLhocfrSes89iMw3u/GQ9owzx40ho4FXhCEWKnjB9W5Jyj15IKi+RyytI12fjSm10qm0kvGjRs0OXee6ZPny7sMO6tQn81bgBWt7a+uz4TpqYfOEUTsa9aaUT1HCgWLRWJF72A2Mzr/qxdQ022wiMExpM1HiOaiDNU1WpUDCWF0wak+No+A1i9IuL0L8Avft9MydUzcKhgfBLeiL0Se0G9wdeIa720VAMSExMmNNe4zIBczJJ1A91nfpcLFq3SypDBzV+6/vpbnp42bVpQa/y4Ay+PfmfcNUXUd73rXZO784Vj9544gkMmDKVU7Rjia1ku9UgqhZv/AlqpJD3AXuc7dg1SNTwkCaZlrSctUS8FxQNWBStQ9p43NsGP9xvIng3KV35Z5vRPW/5413DWlJow1pLLpshlPWEqyaM7FSIRnDe4alOCjI1oSHuczeo1Dw7Sc3+atk/ML/eMHtXysbvuvffPgN1Rw71t6I+zOQSi/adO/Xlra8f533jXUe70qRNt2cVYI+trtq1ByzHlu2/GtHUTW495mXPi6xG11kJOocOliMUkO7fSGyireKXOOPIScnt7mb+/UOK5sjJ+SMwBO6fYd0LEhOExw5uVAc2GbBiTshVEIzxK2dXrsjWBf2yhsTc9LP7uOdZ47x+ZMmnoF6+/6Z6bNcnH7XCrthH9yrinT59uZ82a5c6cPn3qnY88es2k4QNGXnrOyb6l3hqvnkBM0hIHQYMQt+A54scfoda+csMuljtQRTUVZlQpY2iPQrwYjKynpaoKTpVQhNBAu8LTnRHXrYFH1xYpa4VcQ0BzNmZgvVCXhoYMZMMANdDV41jRanVpKxJ7u6ClIfODYw8dfcV3fnFN6wYN1Xecs7cR/WkqCyBBGPh99t7vx6vXrLzg86ceUfnQkZNTxaiCqGBN0q0CMUjsKN1/B7pqBaTSvfnYV9oovr8iKe9e3yCgJ7b0eIOISXTnlGplXa1Dp2BVMcbgiOnA8nC34bGOEvPbyuTLMZ2xpyKWio/VOyeB0JnOZOeOHj3q8gsueNtlp5xyboGN5+YOw34F6E8z2QD+1JNO2uuZZ5+7aWBj3dC/fuLNfmRTnSlVYgIhaVfpPYQp4sULiR64GxJ1h43UWF7P2OIYqOLU0O4CHOZF121KVnFASj1pUbJiKaZD1jrD6kKFbqcsKoj7w/w2GzQ23HDj739/xtDdd+9h/ZzcYdCvEv2KWy7GsHLV6re35ktDzz/pIDdmQL0tlSKMTXYVowrWopUIt2Au6hwmDEHdRmfI1yt6xRmqRvri8RAClIzxye69mb9d/73HiuCwdCN0othimUZVBqUMGYHujDFPt6e5Y03n0ed+8pOTgEegpkG9A68W/SWCJACnn3LcLstXt71997FDOW3/iaJx0iHSkPS9QgAb4FYsx69ahk1nUHXUONE7kOimyUuwypQk950WX5Od7MWm14uYXqHFUJQ0YIwlEkO3F1bGYI2XI4akfSY06eXr1n1ek/P1DsPeTugvxg3AkqXrzvDix737sD3dqAGNpqcSbRABT86FWikTzX0CE2QTNtr/8oZfgzDGVAkom6/kAsXisbKJvvlmC0RqtdvrFRYECFBSRih7OKw5bfYZkGZla/ubTz75jcfXbmO7PtTrFP1hEAXQj33snDHL17Z9eO/xQzlpnwmmVCpiNxBcSPQDQuLF86GrC7VSa26xA1X0ikSaF5+noarloEkgbdMunLW/9d73Lg6bO5MbY5Bqx1CnUE/M9OE5zabCcP78FZ9+Xp+vKS/uWHdfJfqDcVuAe+98+Iuh1aFnHDRZh9eHUvEGY6W6ayjGBmixgFuwoHci7gigvRhbGg8FHArqqI1sbf3csHf5S73GxmdyJRChPVYOqTNy3Igc7fnCEe8+8N0fAJg2bdrrqNXLfwZ92rinTZsWAPGpp556VGtHx+m7jx/G8fuMJ4p90l4IEBWMA28Et3QRvrMj6R75EufKHdgyarU2RhJvyKv2NklUtm2x9OoxCHnneO+wlB/XmDHrOrs+8fb3vnfK7Nmz4+nTp+8w8FeBvmzcMnv27FhVg/nz53/MiLS87w17usHZjMRoottX5T+4wKCFAvGCeUjsdhj1K4QI1Ra7BmOq8se1E7XQu2Buy8JpBCKgxap575hc7MrRxBcef/SLqhrMmjVrh3v+KtCXjdsAHH3EYW9pbe086dDJY/SkqeNMMa70apGLgFOHBgF+wTy0oxVJhzsyqK8CNUsLqNZ6A71aVbw4sPZSmuY1eAUjSdXZG5rC4KDB2ai1u/TOYw479LyqgNsO436F6KvGLYD70KnvHrJk+ZqPNtXlgs+eeJAPUVFPtQgkSesEqTTS1k4071kksKjo67TRwPaDAlZ97zgqmrjnm4lhbBpoq33VfpdkKAO8epqN591jGoL6UFm8fNWFJx15xFR2BNdeMfqqcYMIz66ed0p3qXz4+4/dx00Z3WQKZZdEY6nWFRqLdxA/+ziUikgQIH5H9derhSIEkHhIkhx/RHWLDtHmXPb13yvWWApe2Cfn5d3jBviCY8CKda0zf/e732XY4Wu9IvRF4xZAv/CR9w1esnLd1w4YP5zpB+5iKpGTZNJo9X+CBha/YjFuyXJIp9drp+3Aq4ICYpQAt95xlhcvmVtqNbQx1h+juiue04cE5vCRDazpzp9w2cWXvLt60Y7g2jaiTxq3MYYb737y+xlrhp95xB5+VENWYq8YkwR3PAYVixRLxHOfxYggfkeN//aFECQSiMl31V24l7hSNewNqaybfr1IOFGTrEbsKpw3OutHZgOzoq39S+eee+Y4wO3oE7Zt6GuDFQD+jYcd+PaO1o53Hrb7OE7YZ6IpRPH6BgOSdMEwVogXLsC3rk1yN9rXHvW1DXVgLGzqMW9LJuJFJBcBgyP2llGBN2eObXDqonEPPfTE5xFh5syZOzSwtgF9ZsZXV+34E5/4xMgFy9Z8sb4+HX76pP1dVmqlhknOFXVIkMJ1thPPexoRSdRXdkyJ7QYBEMWimJpfvhXu9+bc9A2/rynbiSiRCkcNsubwIXW0tvacfeyRh0+nqku/HR+lX6OvDJTMnDkTEeGu2bM/2l10e3zypIP8zsNbbMlFpIJESjexX5uIBzz+CNJTQAODsEPRdLvDQIjH+GrXlk3GV0QwxmxCZRW81+RrA7fdb9AqVGrVeerJxE7OHptxg+uCcOmS1TM/df75Y9lh4FuNvjJIAvhTTz7h8JVr2z5wwv678PaDd6FYKmE2aC0HioQB8XNP4VYuQ8MMO7Jem4GuL+bo3TmVjf//Zf9eMOIJjdTEypNfbbATb/jaqkraKtnAkDZJ8Yj3iqvptdX+TKpdSkQoAOMDZz+yU2NcUbfbrXfd9RVVteyoHNsq9AXjFsBfNGNG85znFn19zNCWgZ85bv/YijOJgmlVKcSDhinciuW4556BMMSYGoNqBzaEJjqFvUbkoepZb2U2obZieq3SfPVFXP3avxPlG0fGCKtj4+fHJl7rrPPgG1KhNgeioVcqKJEqXj1Oq26+GDqdcGSj2JNH5WjNl9534tFHH1W7i+0/Mv0LfUKswRjh7zfe+IWoUj787CP2dzuPqA8KUYytLuJKtVSxUMA99Ti4CAmC9Q3gd0yDFyHZtWsq7YmbvPUCkclOKyIE6hHsRnJLySVVgQxATMClq2OuWtZlKoXIZLNpdm5Kc0CLMjmHG5MNZIBBfOykBMQmaUtkkwMVpVjljCEZfaStYhesbf04cMv2H5H+h9f6zm0APfKwQ49fvnL1Zw6dPM6fftDO1nmHOIMV39vqJkYpPfYoUftqxFrUe9T3vaovre2CNd729nQ8qtVbAIiSMorzgApZY1BJjLxX1/3lIIbQeMxmvOSa6kKdgRvbvb94ThuFSrygvqnucm9Tdz20rrDuu0+t9Z98pmS/NDdvvr8oL9d3eJb4lDoVjxi1RjRjjVprdGhKdY+WDOVi4eAvfepTY9mxbL8sXss7twH8x845Z8z1t9z+o8FNDfK5Nx9IYxBSLEcENnHh1ISkrEGeeJhw+XyVTJ0U4hiHVFeuvjcHRATRpLzSk+xg2wNeFFzCCDMIszotN6+JqAs8xw1M8cYBFusqFL3BvmywInHhLUraOHrUYrV2kjd49aCegknpzSs6TV1aOnbfddeP/vPGm2740LmnDpv/7LqBOavj5q9as98jHbrv/e26y8CU37lOe+zArJWhqYDmwNCYtlgL+bLn6XV5xLn00rVrJwCLZ8yYITNnztxx7noJvFZnfVImrCr77bXXb1Z3dp31k7NP9G/dZ4zpLpRJGYsVCMIQr8LSOU/7O+9+VB/PYyMvvG9kwC6hUsYTmJd/xO1h/ttrCVFRxCdBwqwoTpWSmO1Cz1IFr4aM8fyr3fKZp7vIVyLiOKQxC9PH5jhvjGUwEWU1WzV2glJSQ0ecquapk586VbICz5TRbzzbJd02/c+nn3riFBKmmav9tTHgnrs+ffYnfj7yqeXLJxRMalKpUN4nDM3uRuPR5WIxq6iE6WyUDsK1danwqkOnHfadH/7wh/ntMCT9Gq/VndsA7o1HHPau5a2d7znryKmctPso8vkIG1pSgUXV8NSKdv/H+57hxgeeNT0e0mKiZT1x2BDU6cwJoRRL/sUHj2ofaa0qidSaFCiJzlrNFd4ad37DQLPtZcZ5jEpv8crWotbfOmmzA2lgaWQ0MKLDQjXF2CMmCTS94qOGQKCONk3x2+V5ukueT57axMghnp9e5bhkThfzCnV8baccOwVl8qoEUj2bb+EtQ/UE4qmooSZvk1D7DXO7KrKuHDNgUNM8gGnTpsns2bNN7am9R2WXE8vAAmCBEW4VEW79yleD7z7wgA2CwI7JZs1anqm0tOyvl1xySXT/ww++sud/neG1aNwGcO985/Q97r//0W/uOWZI8OGjJ/u0FRPkQsqR8tCitXr1Iwv9VffNMR3dPTKgqX5ZNh38YdTgAcvXzF/21SVFhvSo1ZSJxbOxfasIUsvNeiXAUFaPMYJ3ibVuzY4FoEZRJ6QU2k1A1msSVBKLIRFe3GoIeOcBSyrwPF4M9MvzHc7H8vkxgT+0UUysmlBpRXqFDLfh5YlVyRjhvi7PM2tKTBmZ422HdbHzmA52Hz2EH/69jn89WuBj5ZhvTcqxdyam4AQx61VWNoVHsKKkTUwUBXhJmnAKUFJYVIx9OXKmc+264x5WDfcTqbUE2tCd7n1xX83PHTlzZgxs0j5ozlY/7w68NgNqXlXt3OcWfLw+mxrz1TOmRSOHDTQLW3u4/vGF+sW/3uXP+fW/5JKbHrSByNzxY0Z8a9LYiSc/88wzX5RCxzXe+Z4gUQ6oNoCvIik8TgI9ohgHgTXc0gWfX6Q82BPQYJOm8Fs6xGn1dVBFPIRGua475NxnSvx0RZwwrqvX1E6gWwUFwWLFsyoy+o0FFZnXWly7sKM05/PPF81d3dZlqk0A1Hu2lZWTLBtQ8HB3W0RnWThiT8/EYWWWrrDsNno1Pzq3hw8dn+WJtREfn5PnrmKa+mA9k6C2I2964x4hi2LN+ue1AvlImd8TSzqbIpVJ7fqRAw44E9DNSCjpJl87sB3wWtu5BdAfffJHKVeuDBXnuPz2x+Xy2x/zy1t7ZPHaDtp7CiaXTbfuufOEHw4a0PzXK669dpEkORjSmYbxEhSaWkJPvYnprJYmQjWYpCZxw1WxoeF3q4VfLuhibd5Tjho4YFJIQAXFvOSemxSeCZEozQK39aT40nOdtLeXeHxdyK6NAzm9qUiHN4TVoNNWGWLVkwgDw8XLVZ5YU2DiqGE/nDh06E13PvXsDRfOLYwYtFed3yMsm6KGWNlGzwDFimV5pNyzusLQJsuph0G5WCAXhPT0pEjbDj57uqOxYQAXXdXDZ5/s4ktTcpzSZOiJHJgAq5tfWEIgJZ5YDSAYUVpVWdJZkcP2zfowNObGu7rfpPq7P4qcVap91tvwADuwjXit7dwKmE9d9Kni6DGjflLxUr7x0eeDmx6fL88sW6OlOO4aP3rEb0486cR9/33PXd+e9c9/LhQRplfLAcsx2fpcpmlELsTGkXhZP3/EG5xXECUTpPjFcsM3n+4gipQBGXi6vYdHCp5sanOJnY1v0QvkYljjLD9dXKZSqHDCfgMZUGf54fNtzI9zZA2U1fRWTb0cYhVyoePustFrVxZors++MHnChMt+d/XVT4wZNujCVflK5bNzCrLKpzWFZ1tr3FQFS8xDBWFJl+OgKSl2G7mWrlKANZ7QxHgNcHGRT5y8ji+e3sCaQsyXn8xzZWtAaAPEx7jNNCrQKp00U2316yTpArq0ACt7PG/YzXHawRHdFT30yMN+ciDA9OnTX2tzr9/htTjAHjDX3XjjLbtOmXxYY132krpc5s+DW1q+Pe2Qg99w30MPffCnP/3psuq1AjCrSkdc1dE9KI0GQ0O8d73FiKCKA6xR0JAfr6jw3ec6GZQLufDMHKe8oYWV3Z4nujzOC2YLvDahGoSzlus6PA8ta2fqLo388uN5PnySZUG7ctGSEohNKJYvszlp1dUN8VRMij8vjmkvOQY31v3x4j/9aQ1gbr/rrt8MH9jy+7kdRfnqvNhXDAS+tmzpS9Zs1IKDtQOCIWD26sRA33ZQTBQZTG0KiFTz3AH5UomPnrKCGe+to6Lw+ac6mbXOYm1Iimqou5YuhyTQJ5Y0njQRXpOGgIuKJco2w8RBJbP7yE639865QQuWRceHoWWHPtp/Hq9F44bk3M3VV1/90DNz554z9/nn3/3w449++dI//vFp732NHwEbnNOMCEEuOy7lI4ZkLFE1+uxUiBUCcaCWn66s8J2nupnYEvC9c+Bdh6/h+Knd9JQtz3bHdMaJ5O5LQVFCMSxx8IdFJbKpHOefHNEYrOG0QwscNTnDDQu7uLbDUGd1i+VoiRywIfZKzlru6kDvaC3I4LRd19Qy8OoqkURFRPfef+pXhzXW33/binb76+VWrbHVIgxTZYa9GEJisM4LoTrmk+Kx9hI7DRP2GN9F5CqERvHUtIw0OZaoob0z4swj1vKd9wn1Gfjikx38bJVSUiGjik/CDlWaKSS8E0gZsDjKJmRel2dQs6OprszAhpjDdy9SieW0M94ydTx9kYDQx/BaNW6gt8wz9N4HU6dODavfb3Ymu7/9zbYV8rvVWxieNhKJxarg1BMoBJLmJysdP30mzx4jsvziY4bDp7TSkY+YODRmxKAsi3ti2jXcLOOqBq8J5fLatfD0mogzpoUcPqWV1R0hTbk8H39bRCw5/rQkz6JKQEq24AVoEgsIgUJs+Fer10q5QkMud8e7DjhrbvUyBcyvf/3rlbtOmnTugPq6Vb9b1Cl3dKvPiO1th7RZVNsVxwj1YYr715aZ3wXH7GFoycXVXd2vH1IvCUcfhzMpeorKCfuu5RcfTTFhaIofPdHJ1xY5OuIkV66yPmUokrxSykCjeFZGjmc6I6YMUxrrDZ6yPWTXSjy0Kd75qeflGJNkJHacuf+DeE0b98yZMz2J8m38yCOPRNXvN4vLrr8+tCacMiCwDDYxkVocjhBFbIpvLavwk6e62Gtsll9/XNlj1GryZcAF5NJlpu4UsajLsbbiMJt2wqq6tk4hI575LsVl83qYOCLDuScWKZUiQhPQXTBMHd/JR98k3Lq4xD/bPWJsL6X0RXNZAKeExvB8DPeuymtDGDBo+PA/n/G1Myqs/3z8tGnTgr9eeeWTowcPPqfsA364sKTLI3zKmmr5JC+uqZYktZTVmC613NPpqQtj9p/kSIc+aX2drDCoKjZtyQ5pIFWfJiBCFSrOsN/41fzpM2XeMDnD5c91cd78mHk+Ra5abBJXd3FREO9pDmBFKWZet2HySE9jNqYcw26jY7vraE+hWPrst799VsOLB2QHtide08a9LXhu+fK0xtH4EfUpQo0kwpOxQp4UM5aW+ekz3Ry0c4afnl9i/ODV9JQgJQ6nkE159hprWVEwtEUxL0qGVYuU1Cfn1l8sjllZcpx3vGNEcyfeGcSUiYFAKhy4W4lh9Rm9ZH6XPlk0pFSIX8o9N4kB3tsWu7XlyDY0ND2024Td79uU2z179mwH2Jvuvvuf44YN+MrTrSV70TI09iiaHD82ZykeyASWuT0x960tMWloyO7jK8Te4wTwBgkM2YEZGsfWkx0Q0jA8S25YPTaMES9UImVwQwe/vaDI2cfWc+/iLt75SA/XdhgqasklSXRin0QrDMrjRbBaZMo4QzZVIS4LgxuLcvgUvC917nTXHSvPWD+6O/CfQH8wbgEo7bvviHKplB6WBTWGZvEsjSxfmV/m98/3cOyULN8/t8JOQzoplA2BNRgEhxCKZ8KwMhUJWVUBMaa3qlFqJRwKzQau7zJcu7SbaVOyHLdfgThyiBGkmkBTk+K5ZSGFsqdYieWixRWtYAhUEoIGG8xmTT6ADm+4q9V5G4SEQfiXH/ziB6uoSkpt8JwKePWeI8751g8mDmr6+z+WdNpL14jWWYOoTwg61TBEbSMPUFQM9xYtqzsq7D9JGNJQIvIm2bGtoW5IltyAuuoC5kAh02hpGF6PzSVn+3IM1nbylbe3M+M9DZTKnvMe7OA7y2IeLwY0pEOyRBiBTvXMXllkwiDLbmNiek3elTl0j0iGD07x7HPzP/n88zek2bF7/8fQ5417xowZAtC9rmN0gA+G2IDBgeGhSqifnlvm2gVd7DY4zdfOVHYa0kZXEQyGOHbEXjB4YiKGtiiDshFLClAxBqpBI1elhGaMskJDLl9awMXwweMcgxryRL5qWCqkDRQqaff44oAwNPeMHDLg5ntX5eXP6ywNKagS4IiTSBQqYI1lbtG7x9pLYTa0T+5zwNS/V59rc0cQBczMs44sHbnvfh9pqcs8e8n8LnNtO76uyrCLfVImSbU22wqsi4R/ryyQDjyZbCIzV6uXzg3OkGoIUR9voOeuaAw2bWkYliHMhaAmCd5pibOObuVXH1f2m5jj4ie7ueDpbi5c4nles7TkQu7sCXhmZZ437JFmlzFlSpHDiNJTFPYYU5apu1jKcTzpfe/72nsAdrQN+s+gzxt3DQsWz2+xYAdn4YpO4897oiDPtOYxzuhu4wJ2G91JZ49gjceFjuzAHGFTCkFxThnUGDNigLIoL5Sdw1YFDXCCqqBq+We7MntxiTMOz3DY7t0US1Wyi4CqIRVW6Cgqzy4IaaiTB8++4Pz3p4W1f1rcxeNFq3VA2TsCNUkQXQWjFWat8VKMlcb6un/88pe/XDp16tRwC/EFP2PGDPPt3/529W5jRk/3NtX+kwVl80Qp9BkRPB6pJcE1IfE82ON5vsdpYITHnw+1p5jCqiPdlCbTlEJ9wlu3bKBOahJFFBMY6odnCLOJBrwHSuUyh+zSwW8uKPDZ6XV0VJRfPdfF2Q918s4nCnztyW5GDEwx/dCIbFAk8iHWKGJCSqUC7zwq1lzamnXr2qdffPGM3KxZs7aVkbMDW4E+b9wzZ84EoK2trcWg7uLFPe4LT3SZYtm1D6ivez5Mh+w6xmN8HlKWuoEZWkY1kRuUpmFwjiAX4D0055TRLfBsT0S+4hKfWDRJ8WB4IbL87oVuxo3I8MGTygQUiOJqnQQAilirS9fVmXlL8wxqTi85973nLhs9duS3VhQ9f1xW8UWTIlRDZBSvQh2OZ4oZf8fKkqlPBUsm7jnpcoA3velNW+SozJw500+fPt1eedNNz+y+89h3LCvGpW++0CPLKtZnLEQ10QRRSt5y8xqlq+LKDbl0fllrReauCAizIbkBQWLYL/VGNd1DY6gfniVsCKrkb6G7aKnPtvOF09bxly8KZx+VpmWg8lAXFMVw/psMb5jcRUe3TYpPAGM8PZWA/cZ2ctge9eQL7uC//PGWY6vv1ufn4msNfX5AZ8yYAcC4ESNWmCBllnY5yaVTt+02aez0bNOA39envOw61hNnUjSPqCczIIMNElaVBBDmErpkJl1m7EBYkrd0+hArJFFgn0j4XrKiwvxO5SMnGSYN7aSnYAisS3LVWqOlWp5ZGIjauGKDYIGqMnFiy2+bG+rvvHF12T7Q5XzKGJwD8YoL0vxyRSxdcczghoY///l3f14AmC1lBWqo7nbm6htuvmnckMGffqTD+c/OL+qKstFGK5Qc1CM8UhZ3e2uZusDcP3nXSd/qKghPzA/INtepCS3qt5xuTiSjDcYqjUNzpBpTKBAYh3eWnlLE5OFr+MZ7W7n0ExGXnFviNx8r8d4jOujsLhMYD1WqrKBYoBh5ef8bO+MgCBo6OjrfdvHDD4fsaBu03dHnjbtmCLvtvvvsdF3dz4cNGvCR06a/7S3X3XTrbatWd0xurLPsvafVsKWOMGPBVbW+jAAOm7YJd8s4Rg6yxJU8T5YtXi3ew8DQck1HwN9e6OGYvdOctF8P3YWIwHqMkHQSFUAUEa+Pz7NkM3b5wCGjlwBceum13ROHDbmwuxJHP1tSkR4NNMRRH8A/Wh13ry7KgEy4ZNj4sb+qPtK2BJhUVeXf9979i/HDBv74kXWR/eRzFT8vsjosjFnmLD9aWDGV2DGgoeXKv1977UWqPPvYkhQFazxaTg7gWzCpRD7JgxrEQv2QOrINAV4jhKR1b7Fi6C5EDMx1cvCkDg7ZpQPnyqgmMY3aUT6h5Dgq3rPLiLw5Zs+Ate3xW6/56mcOBnQHJXX7ot8M5ne/+93OJ5547IJ7H3rolzNnzsz/5MfHp1NharfhI7MMHdqZaJurS5Q2N1DqDFJhwotOGUYPgwFZuKktBnU0W3gigh/N7aIla3jP0RGN2SKqQbV2QnrLH4xAJcrqs0siUobFb33rWxdWb00++oUv3DWqueHyh9YV5Q/rXNwSiM6vhP63i0quVCkzctSomVddddVitr2YQgFERH78s599YVhL/ZVPtpfsp58p8ru2nH70ubw+sTovzfW5u444buqfRKTY0lD30OMvwLK1FiEFumWC7MbPmTRRzA3Nkm7MEPvkFkz115Ez5MuWfMn0jnGy9VeJLppQVdUb0mFsTjmkFGVDm1u9vOPtqio7zt7bF/3GuEkmRTh58uQUoG1tu9Xlu7sHjR8utY0VMYIxvlfIT7wggU001zRml5ERIwaE3Lekk2WSoiiGby+MWdZa5LgDUkybUqJUiRGzsTkogjXKso6sdhUqYOzys856XxcQTp8+3Rx55JFxetDYXwxN28WXzCuEM5db/coLJb+gx9lhQwf+9qZbb/1970ttO3TGjBnst99+0RG7737moKb6f8zrjuSrT3foE2sqMqgh+9zAEcM/9Z3v/LIdYGBL0zXrWsvF2Y/WWYKKOq2lz7bijSTh3SOG+qF11A0Iq/m5mv0qgk8avGxGVCJRXVXEezT27DWhFO6zk3OtnT3nnfHWk/fb4HPcge2A/mTcCkTTp0+PARYvbp8o+LqJozw2yFQzv7LBV/Un1pOtC+kuenYfXWbqpBTdJc9vVzh+scrz7yWdjBxUz7nHRwgFEtnsTYxbhXTgeXYpxvs0TQ3ZFXHsmDx5cm03snfedu1jYyeO+4zA8l/P6y4+3F4pDWppvGLXAw7+nCQCBq/4s5g5c6afMWOG+eEf/5h/53ve++4RQwefO7Au87vhQwZ+Z/d99jntthtvfKj2+juNab7bhqkF19weg0uOurqV7ViSTby2WHoyA+tIN6Woqdts2sHzxX+f7OJiIHIwoinm+P1VrCgLFi75oqoadmiSbze81uq5XzXuuOMOA/hnnnlmZ4T6UUMqYGJ0M/FnQXDekcqFaJtBtcCHTkjx0Jwcl81ZhxVFXJrPnA4Th7dRLoEVW10m1k9eRbFGdOHqwJQqcTxixLA5AIMHD65NVAfI9TfeMuuCCy54csnCJZObBjQtPvPMM5888sgja2ojr2pSV2MP8pnPfCYP/FpEfq2qPPjIw8mjVgNWv/nrtWum7LbnbfMWlqbc9MAAjjtiBVFXjsD63uZ8WyUxBQie3MAsrhIT5xM1m613PoRSVOKN+9aZq+9J8fj87hPffNxx04B/s6PWe7ugP+3cAPT09AhAaNM7NzY0poYNSSkgIhvXnNR2cqMGkw7IZCz5Iuw6oo1vn+OZMqGJCaNa+NF5OU45YC3lcpAUYkiMedG0U2LSrFhTIXZ0purqngMYMmSIbnQRyE9+8pO5V1979dWXXXbZo0ceeeT2bj1aez9R1Y3dlCri2DFqQtMNHd2VwvWzKwINoHG1ymvb9NlEBAkgN7gOMQbP1jeBEAOFkjBqcA9vOtSoMTa1ZNnKj1Z37x2GvR3Q74y7WCwKQE9319i6xiyNTS1J5fMmc6Z351WHWEdQl8KIp73HcujENi75SIHffryLUw9aTRTHON2gPrz2pwCqWKMUyilt7TIopvPaa699DuCKK67YdDfWGTNmmOnTp9stVbhtB+gmXxv+nCPeMPXupqbUs/c+FvHYnFDDRoduo9/Quwh4xaZDsgMDPD45WNcYeC9zizY0tHeUePuh3UwZl6atK3/Y0dMOPRR6KwJ34FWg3w3gnDlzNAgC8vn8oAGNOVpaBim+5vluEuABRAxihbAuQIwlMJ7uUszQxi5GNHfRU3RJwGwz2ieC4jAEFtq7Y1rzAjbuEZEOIJDNFFrPnDnTz5o1y21NLvs/hc9+9kf5nXYdcfnqtRGzHxrr8IMRcWyBzrIFCOoj0k05UnUZ1AveGHyt59cWYFC8D8jYHvnACeK92kHr2jvfDTBz5sx+Nzf/2+hXA1h1RaMoikIx0txYn6axaYjgNxOCVapKpYnoYJAOsdkQ7wWxhmLkKZYS9RbZgrOpqhgDnYWUdOVDBg8ctBpg2rRp/8lHfTUwqsrgAYP+2dBoV9wwuxAsaz9MbToF7hWcEjRZ5EQg15JFkuzay7ZMFhWMKtYk43zYlHYO3jNFe2flLSefcOyhQDxt2rR+FxP6b6JfGfeFF14oAD//+c8HRrFvzGZD0rlBgOVFB2Xp/U9yMA2UTHOICZPSThsKmQFpxK7Pi78IVT1vBTrzVtp7IvD+BXjRefu1BA+Y3//+ikX1dY2/WLh4Gfc9Mygi+0aUSvWSzdSevxQkOeJ4rWAzSropKfRSb7asCylUF9bkmJMxkXnP4eUomwqGLF+x5mwb2FqZ647U2CtEvzLuOXPmCMB1V189XL0f0NyUI5VpEvXxy/0p6h2pXEBuUI50Q4rc4Cx1A3PY0FZb8MCL3XrFYxExtPUElEoxUVRZADBr1qzXqnEzffp0UVV223nKP+IKi/5x/f2pbj3aB3XT8K4L75OmD1sD1aS5gzEBAmQaU5iM2aK3syFEFIdFXczeu1SCvSd639qZP/vEk994LFVK+qt41Nc1+tXArVmzRgBSdXUDU4FtbGqsh1QDKi8tVVxDLcCWqgupH5IlbAgTCSNJqBkvDUXV0NoT4JzRCeN3WQTrOe+vRVRz78Ef/vaHZwYNabrivgee45EnFioDT4Fwf9CurY96i9DbK1TBBEK2OYtqvFG68CWhYHA4lGF1FTljGmpRVi5Y9vEZ58zIwbZ2d9iBGvqVcdfgKpVmsVJfX58B0qKaetlDoPS2wUn0gtQ7xNcIGVv4O5Lg8NpOT+zVjR45fBnAa71B3fTp01VVGTVm+BXO+eU//82/LEGz18Y3gx1Hom61nqa7tfAKqfoUmfoQ52r1ci+HhMufr5Q4fPe8PWj3UJet7jnukSV3Hf0KHm0HquhXxl3LcRe6OxsxxjbUhx6bQaUOXkbpOykmSXqBC5L0qjbgPYhx6zuNbIRqVxOxrOsK8Fi3buWS5f+Rh9vOqEkL//Pafz3SMKjxpgcfXsg11z8odtAuRNm3AA14LSbuuWxDwZZ6RBzZQVmwgtct81ES9ZgYiyOKDAPrenjv0TF1mZRdtHjl+Q8/fHG4xRfYgZdEvzLuWo67s6urUdTT0JDxSErENKAv493JhgUlSSEnNZGll971k0h5rNBV9KRTmaiSn1vo/eVrGwqI856dd5n4Gy++6zeX3i759lbSA/ZBc29BNQUUEU0U2OGlNdI3ggcJLZmmDL6mLfUSue/13AEhsLC2Wzhy95KceEhIa1d8xOc//9cTqpf2q7n630C/HLCufE9GgIEtOQ8pMA0I20bfFkia7WnviZJNF4eaSx45r915xYZh29RxI7Y36+w/iWT3vuqf9w0fOuwfz85dxqyrH1TSnrj+EKT+zahGqEnaCvta+nALkKQAPKniaUxjM0E1NSbJLv2yuW9LVO7hrKN6/ODmMLNi8dqPhWEAbOYD2IEtol8Z95w5c9QYQ0NdY0YV6utSCc/RNoNGWz01ahO0JhesopsNqiWzTam4FN09Mc65zvrhLX3JuAFwzrHH3hO/qmLiv1/9gKxctIZ0uoKrOwrJHY/GBbwB/EtLndWoq71fCEHKkqoPE9IabDl4kbwKgXjKkbDzsB459VBHT6Vy+OFvOOy9gE6dOnVH3nsb0K+MG9AgCEhns2kRJQxEIECDAYlxb9Pj1irHlF4p0U3mZlLq6SlXcpSigFKp0DakcZvbeP2voQCXXfbXxaPHDps55/kV3HDT0xHeIeLxDW9C0vuBL6OmV5ztRUG2F3PSFSQi3ZTCpoIkZfYyu3Zv4YoRjDh520GVeOQAGy5fueKcK664oumRRx6JdtBStx79baAUEYxJhQKkQgsSgM2xdYfF6ouoJm1yVcAlRqyymcBQwl+lVIEoBtR3M7rPGTeA8d4zfvzOl4fGPnP5FXeHK1flXRBEqKRxLWcgwc6I70bVJEGyl9mENekxRJASsk3ZxK2XrawcV6UcwYSRxeDNbyDK97hDf/yjH5wNMHPmzB2u+VaiPxl3Yn0C3scBCkFYVQSxjSBZXi5i/iKoolWlks3NKAWMKMWKo1LxNNRnO6dPP78v1iN7wF522WVLR40ccdG8BSv49e/uEsK0Gl9BTAva8l7ETgCfR7aiOlVqFWbek2pOYesDxLktVp1tWJWmKvi4wvRDSmbM8DRr17ade/75Z48l+RD707z9j6EfD5KQdPb1IM1AFtUkpbVVzCljkgASW96kQiPky56yh0w60w1H9MWdG6rDcsChB101aEDDLb//62zzyMOL1eRSqC9AOBhtOYvYDKoecZKDtOoGR5cN0WvEAkTkBuUwZv2ysLnPYEOhBxEolAzjBvfYs96oriMvk5569OF3Vq/piwvofx39zrgTx8+DeEJrgArWpFHbhPryy7DNEtT6eokm4n5GtNo1YzNVZUCpKFqOlHQqKKXC4LWeAnsp+GnTpgXf+c532gePHP5Lp3Hhm9+/1lQKTgMbIHEBUiMwTe9EqUe1RLJ46mbjERtBFZsJSDflQD1eSFobb2GkRJTAevKFCm85sEfesEeaxStK7//w+48Zv52fu9+i3xl3dcIIgA0CwOGlEZFmkn6XL//IG+a86X25zZApFQiUUmxxEWC00Je3lNmzZ8eAueO2O64ePGTQrMeeWchlf7pLyabxajE+RrN74RtOA7WolhENSJTVNk90UUDUgHrC5gCbsuCT1ktsIa2mmohOlmNLY6rbvO+Yis+k7MQ77197dvWS/jd3tzP64QAJplYCJgAOtfWoqQN1YF6+allf9I+XulCqqTBLrCFWosq2BO5eo1DvPe9+z1s/lw6CJX+cdbd57qklarMGh8dQQhoOgfozUB/hpULSKDgRmdRNVB+k5vF4RxgabHMGNRZR2eJQ1Vx0a5SekuGQXfNy6BRHe1fhvI9//LwJ7NA5f1n0J+NONgnAmCC2IsRRBN5hJIUG9VCdUC+bkqm94MvlZQVCMTjniJ3gva/0MrL6LhSQj3/8S6snTZrw8SXL2rnsL/eoxpIYsYLVEqbpaGh4O+oVLxXwkuzQLxoyqdJ6E+GZuqY0qUxIrH6rJJ1EBI+SDkvytsOdb8nKwLtmP/L15PXY0WNsC+hPxg2JdhhxXIm8SqI9oCBG8cEQVGyVIfVyeZyEZml6v30J2aBquWNSIumISpXya591ulVQgGuu+9c/m5oyl8265n5z651zoqAuVZVjEnAFtOkoqD8Z8QalDBJUjz0bjtf62nBFEVEyg1IYW+1drLxMBVriF1Qi4dBdy3LQ7iFtba1vOv6wk45nh6DDFtFvjHv69Ol26NCh6ahSob29tccYwWlSUKgaY0wLmEyVY/4yqMr3Ykga4r0EdbLGUHNOUDEY4/uTm2hEJD7kgL2/47x74ZvfuyZct6LbmYyl4kBFsVQwTW+EulMT0QUtooTJbo7gPThviZ0hdoqLDXHkMaGQaalL+nlLosry0hBEEvnllOmRDx5XilMp27hk7fMfu/bia3PVOEF/Gvfthv5g3AYws2bNcqNGjaoEQUCQyYSIEMcuMVTvMHYQUIfgXjayK7Vgj5FeMsZmUb3MJ0JDxBVX6ftH7l54wP7q0j/NnTBh+A/mLVqlX//BtQaMGuOTc7Q6hAhtPgZtOotY07ioA6cG52wSJQ8cQegJUkqQ8QRphw08uQGGsNFQiS1OtKq++lIkFyEgplyC3cfl7fQjUrpqXfzG//vzzBN7L9iBF6GvG7cAaq3x57/3vVNU9eO7Tp5yiXfuPT72xLGvumwOHwwGqa9mbbbw2FVeeY19piY5861/uw2gyQ6WSB4bIhdF2/8R/6fwgNx998O/Hjps8JU33PyQXHXNIz6oy6I+BrFJUCwuQMMBBMM/RdAwhSBdJszkUQLWtGZZsKyBOfMaeXROjjkLWli0tIm17fWkWppprDdkrCWbglTgEHzNW+894SQiOILH4OOyvHdapx83vMkuWNF19owZZzazI7i2WfTV80rSPl6Vk08++aCF8xd+8h933HPIkKbc8KwRWdXdQypM09NTMFiDdw6xIQTNSHlZtQb7pV/ce48JLGaDjJhWz34vhlQ3dsUkqvz9CQqYKIr0tOOP+8gfrrpqyi9+c/Nu++w51o8f12QqJU+YCrC5gLhQYtHyRuY8fwhPPNzFs4vLLF0Z0dEVUfGOOBZcDGJLpANPKlAGNWUYPWAgOw937DraMXFoxKiBjoZMkWJFqcTJIpzwDJLPrFARRgyKzLuPLPjvzbIn3D37heOAv/1PR+k1ir5m3EJi2M4YwyGHHHL+sqUrvzmwpb753GP31EMnjvIjBjb4/7vxIfuXu54yf/zbfey71xia67PEarDBcLT81GbLNzd6k6oqi4hgDDivSFArE9u07FMJg4TkkgrSqd5dv//Az5gxw3xp5szVJ5103PlPPfn8dT//9c113/3mOzXVaKSntcC/rnmEG25/lKefXcmqNT1kUllGpy2jM4b9s0JDEJMyghWl5JUeH9BagkXrlHuWwc0PlVBrGdZSxx6jY6btWcfRe3mGNnVSKTuKEYiVpNzUWZyL5MSpFa5/KM38pV0zdOG/r5HxR5b+1wP1WkNfMu5a60j3ne+c03T7rXPf88K8Jf+357ihXDj9MLfv2MF4ja0R7PfefRRWQn5//X0MHdzIt776VkBwZjBiXkaVkyrHGUmqk6zg1sfNN7pOqgXdCedFMGEQ9j/bXt+q6F//uvmOQw86cOYV1zzwvb33HqtDBzbLhd+7kgWLVzO0uZ79dxvPsccOZveVc2ksF8ilLAEQEmKqKS2vgkeI1FNxnqKHJW4Ad7fH3L2mzJ1Pem58VBk9SHjvsYOZfkgPzbluCkWPw2JMTLESMGZQXk480OrPr4p3O/gdX/os8LUZM2ZsVW/z1wv6inEnZqSqxxxz/MGXXvrvb0bl+MhiqaI7DW9htxEt1rsI75Kqgoz1fG36Iazp7uKXv7uJnSYM4/3nHEMlPxjrc2ArvFSKNNEhN6ivUllF8OIxbF5kUSVpKW/U4eL+zXn2Xjnq2ON+fuWsq6bO/M7VZ7R15t2uYwfaT556GO84aFdGjWhCO9uJbptHxSWcvrII+aSYGwHS4gmcI62QCQwDBEb4MocOjblgZD335ZV/rYq4d12FL19W4Nr7G/jkm3McumsnjgpxbElJTOw9b9ovzXX3Zli4Zt15nzr//Mtnzpy5mGQT6Nefw9aiLxi3AHrFFRc37bPHPh/v6um54JD9d2k55aR9o6uvfyi49NZHZY9xI3j/YZOouAgjUHJKLg1ff/sxLO8o8LUfXMn48cM4atowos46jFbWn6U36Y+1vnih9oPE5Taqm3XmVSETRoixmDBI1WqS+ysuvPDC0r9uuG5VZ08PHzxuPz58/D6MHjOYUkcPz81fzeKO/2/vzOPsqqp8/117n3OHmlOVOSEhIQmEAElMgCfzIBBwAIcK3Tjg0Ii2jbY2PmztbsLT7tZnO7W2gqI+G7Vb4gDqc2hsARGQISSEBDJAIJCkEpLUXHXvPefsvd4f596qm0olqYAQ+vX9fT6Vqtwz3HPW3r+917TXHmRjZ8iTWxy7koSufsegAl4JBeozlgn1hvF5YXZDwDG5kGlZYXo+R70rcV7Os/iYOtZNa+DevQVWbunjbV+0vPOcJv7swpjZE7vpLyqFkmX2xIJcekad+6cflCb/5p57/s5a+x6Xbqzw/6MCddh4pZNbAL366nctvO66f/pcPmfP/6sPXOzedvlpSdPk5nDBsVPYtGkX//jDuzlt3iSOm9hMqZQQZEK8c8wLS/zthYu46ju/4VOf/gGzZr6PWY0T8H27obzZwEGzpIwgZngj+VGSr1AnBOKw1mBtJvPSiOGVg2XLlp3+7K69b3/HmSfw6SvOMYWoxC2/fIS7H9/Kpu29PLOzB5PLMmNmniltjhn1MbkgBjFEsaGvELJ1b8BDuw17n+whaxKmN+U5oSnirEk5zm42SOyZbUscNTHkrLY2Vu4Y5F/vKvKHjYbrlk/g4pP20FuE7gIsP3NQVt7ZxI49hdedf9pZp/3HPXfe197ebsvlm/9b45Xq3RXSgSd+0/LXXrTq/nVfn9DaPOPTN1zhz3/NfNWSsz5JsPVZvnvL77j2+u+y7NST+MY7z8XZAN29k+IjD+EHB8lnhZu2wd/c38Gfv/UC/uGDMUF0F6qmvLTwABmMClhh4Pkipc5Cmsyiuk+poMRBY97zuyda/YduDE1DY+s/rF7zwCcS9/+nVmiNYdr0o/9m5oRxn7zp/Re7zTu67D/86Pds39NLLoQF8+q59LyAMxb1M7ExIV9vCU2CSA4EEpfgvCGKIgrRILv2TuW+dSG/ui9h01P9DAzC5HrL8rnNvKZRaVJISJd/3j8o/O91PfREMdddXsd7LthNb79SX+f4yYOT3Ie+WrKzpua+sGr14x9RHUom+m89e78i49xnn322BeJlF5z1+kcefOKW2TOnzbj5a+9Nzr94vviByOI9BoVSxFvecjZvuPgcfvXAen715C7Crucp3HMn0rUXnMf3RVzZ5njd/HH8608f4Df37kTCYJ846kFxkJldBJwK+Uwa2vFGMq/Y4fKPgDT0L0EuG3DDD++Tt39+JWoNV76plZ/d2MBtN/byzjfvZO7RJZrHOTJhAgJeelHtw4Yx2WyRxkbPxNZmTjyum/de3sFP/mUPv/haC39xeZamccpnVu/l6jUD3N0PDoP3jtPrPJ9f3MLccVn+5pYin/7heMKcIS4Zzjuhi1PmZti5O1p25Rsvnlt51CMsriOOVyK55e67f5eceeaZb92w4dlvLZg3fcJNX367W7h4ZpB0lwRjUHFo0EgUZcllB/nQe49mfFsj37rt93T/4QFsVIIwSyCOYgANxnHttJBW4/inbz1Pb3ceK+AredCjYDjf2ZcrrrDfem4RxXtPLhcQWnCxyx/O/tb/xSDee+YePX3bhq07uWvVE3rNVZfw7S9fwKeu7eO4WbvxfVn8YB1JKUuchLjE49WirhHVejQJcD5AfQ7vCxArlAJcr2XGtG1c+4FObv4o/P3bAurblI+s6uXTT/fSoVmsCHND5e+Pb2XZrAxfuT3mf986DmcDWnKJeeu5SSImnP/4th1nHmlBvVLwSiS3nnn6aVfu2LbjxvnzZ7Z99lNX+LnHTLVJb5HAGkQMappwxS0EAz8geuYrLJj+Uz5wRY4Ht/Ty2x09ZHMhXtI00xBDv4cT6zzvOTbPIxsKfOUHOWhQXHLgOisylHaappamVVlG1lBLP89krWQCKJbiuqiSefHHEISqvNw/B3uchx++Kdy+c2d7U2OeL332PbLio2/h+NlK1NmHRnWYsIDNOoJ8kTBfxNaDzZewdf2YfAGTSbDGIRJjsHhjAYMJBI3qiXrqmD65hz89p5Mb3z/IRy81/Koj4bo1e/n9gEfEM1Ej/vqYBl47K8NN/1Hixp+PIwhVTp03aBbNcuzpdB/62PtfO45a1toryqFmAP+ac8557dbtHV/q6e1vmD9nipszZ6JNShFWFLCIi6H7NmzpPnD9BBh8j+EdF1t+fE8ztz4X85rWEKlsIytpYYDECe0TDb+ebPneL4tcfHYzi0/oxg1ksbaKtFL5R/FJQlKMMVIu1zRKnNt7IWc9mUAYGBxsXL9yeQBD22UOYQRxZOXKlft0vPb29uHlU0P3P0SR8JcII0m+YsUKueGGG/xHP/K99qjkLvzrv3oDly8/2fiSBzeTTH4cPu6kMNhMx56AXd05egYMpZLHWE8+p7Q2eCaNi5nUWiQMShDmMFbTLV1iwasjCIQozDEYDTKhcYBrLi1y/NHjuPZmx9+t6eJjJ03g7EZPLkn40KxG9pQ8X/xpkcnjJ/HuC5435y/y/vGthZMeWN/TDnwd4NZbb93PqTJS1kdKzi81XhEj29lnnx3cfffdSfuyZcev2fTUL2ZPaZrZmM8l96x/Jvj4X17GNe89jyQRjOuFzn/FJOtQCREJETFpPCoUfnhHHR/7nOfLi/Kc1xTRn1gCmzq3EhWagR/2Wf7yD11ccUmez//PIj6OEAnS8j8OfElJYkc8qMQFh9GEclHV/RJQfXm5YjFq1nd9MSPrt+qvly0x7d+8fcPg+vXrhzpVsVjUpUuXHnbeuarKXXfdZeEcABobVwnAkiVLWLNpzUQf+SZV1YYMRFGVoz6KyObzE5y4pmIRDQIIgmD40V1aW6HytyAi3idefbO3coGgTaqaAKgnsEFQKBUHf3758is+d+5Z86d/9Qvv1KgUyXPbutj01B7uued33P/YHrZ1JAz29ablMqC8msugonivGGNpbmtk1hThtJNiXj0/4ZgZjikTPJl8+jiloqewMyIaKGKN0tIQ8uCTU/nAVwfo7hWuXziO0+odgQob4pCPr9lNn4d//7ihpa7Euz6fZWendr7xzaf9j89+9v9sZgxhseuvv960t7cPTXS7d+/2u3fvHrqmvb3d/1ccAI44ua8HcwP46z/ykfE/+sV/3NrWmD335qsvcm3NDfbKL93Oqs0dfO2L7+YNr19M8uz/QeI7EdtMuidVqqYDIEpXr+VNf5NlXo/hCydaiiUwNqVk4gWrShBY3rUhYU1Pke9/KuDkRYMUOsENxrjBmCRyiKarntK65MOWdtpLyr4aTZc1xg5Ca/Tqf2mVh7fU37N966Nnxcm+3nJVtRs23Fs3MJBzQRCItXay9b7ZW+uTJBENVI0zMwJjpqmKw4GINw5eJaKBkaGc9XTXLsGCP05gvFevghFE0sQbEfXqbTaXmZyvy2V84hHs0CIX0eG3qLyTGDNUVzxJkn3i9EmS0No6jm9+89t88xvf4OPXtevc6ePk325/kDvu3ciunZ1MbW5kVpNlVj1MrsvSbKHeegIRnKam9YAzdCbK9v6YLX2OZ3sTOn2Wo6coFyz2nLPUc/JimNxWpHfrIKV+IbAGlyQ0N3lWbZnA+78qDPbBP57UxKsaDeLhl92ev32kk1Pmhvzo7yL++fZAv/JjpLU1WHvlle/7+uXtlz26befOfpuzxvqcN8YYY1xPa6m1gylgjJHt27dHBxt8Nd3P2MIqoE9Xrtyt69ev11d6NtyRJncl80yWLFn8pdJA6ZrPveP85IIF0wKvyuMdPbz1n29Dwhw/vvE85rTdgosaEJPq3CIMkdt5h80ZbvpeA5+9xfODpRkWZj29XjCSEjTxgpiAB0oB77hvLx+8LMdf/WkPhc4BiAXEYYytKsWiQ0tA0724BYOU96SGUBxNjZaeUivv+UKeVZvj59tag8/83Seu75h//MK5hcJAMQjEg7Sq2hNEtKiqFpG54nWCA2+ksh8ZzUC9qmq6Ywfa2Nho9in3W34mESGKSnhf2aCQYc1CTJmksUKl5pEpv0516eBhAo9wAg79xzlHvq6O7du2c91Hr9Xuni577LEzeWD1RowGvG7pHM5bNIfjgoi2TY9SZz15K1gRQiOYyiCpEIsQeaUUKz0YtsfCY90Rd+/13LHdkw8iXn18hsvOsly6ZC/WRxSjgMAKpSSisQ5+++gkPnRjzLic4bMntjLXxpRMhs9vLfFvT3Xx8TfXsbPL8+07CooMyvLXXeo/8MFrur33xTTtWFSUANgFulkFRTVAZLfAFlXxopoVw8Yk1EeJqDfGFE488cQnDtWPR0tcqpLrEZn1XxHkfu2yZW9c/ej6H3349afpta8/WQqlgngPddks3/rd43ziX+/kvFfX8f3PJLg4xtj912fFcUzYYNj4ZI6LPqx8YGY9H5wsDEQOayBSQ7+3lDxkMwHXP17icS3w3WtKTB0/SOwirOzrC9Ny2qSqBzEYMYhxWGMIxdIx0Mhtvw+5Y7Xw5PaIOE4olQru/X9+TfTBD/5FvqOjgzAMAfDelW13xXmPG1HD2zmHr6rRJOnBpFLtpSIshmPtww6wsuJZ2conPU3NWD333u9b8qjSUb13NDY28f3vf49v33wziRqcKm8+40TedebxzJvaTMZmKD5wD/r0ZtRmiSVB1FSVkJah/cUMadTBSrroVlToU2FzpPz7Lrj9yQJxUuK8Uxr5X1cUmdLcxUDRgYSgjsZcwKd/3MaXf97Pa45q4eOz62nGsQvluvW9PNFVIhcEvGVeG91dff6u/oB//vQnzfwFJ1AsFrHGVMJ5WGvLawjSghxpO6taa6UUlfqjKNorSGhEEoUdXpNBFc0EYtc7Jw+Kuo0nLFp03+Go6+X2khUrVrBixQp9qVX9I+1Q029/4QstK770lY+dfNxMefdrFqpzkagK1gpJErP81XO5e+M2/uPhJ/nOT5u4cnmBpC8kqFi05cppRjIQOWZOUc5ZkOH2dUXeOT5HPjD0OGHAWxwWRAm856KjLHestqx62jJ9UkISpcWL03k6XV5ojRIG6ba+KhD5DF09sHlnlp89Us8dDxfp6i1Rby3HtYTk6/J639ODsn3Hs7n+/n5XKBSIq5Z4l+t+4b2XkWmvDHF36HMVkaAyWw+96iipsumxkc6+/Yldufco373ftc45MpksOzs6eOiBBxkoRcycMolrLz2NNy2ZhXFK0TkKhUH83i5iSctSihhMZU38vq+WvjvglLRai0IGx5KcsGiGYfnkBv5la8hvHy6xaWvADW9t5fTje0FjirEh8sq7Lyryu7X1/G57H6e3Znhdq6VNlffOGsctmQHePq2OM5phQ1OjueO+5/jDQw/74xecQJIkeDM0eGt8gKX35bUF9blsrqEyyGXCzAwTpCNoFEVnlIrxVRAU1699rP+xR9dagbVe6bBWNquT3wCZhGQbEJtxpvukmSd1pQqZDDnybrjhhoq6X8mF/6OT/UiSWwD98ne+d0U2CE65ZtlSbc1b0z8YkbGpTRsrNIYh15wwnt+vfYZbfxVz4enNTGnrIYkN1gQgPl3BJUJU9ORaAk6aI/zqroinfAPHqNLn0hRSK6maWHDKibmA+XnHygfruOzUEpPaCuA8iIKEOGcoxZbegtLdH/L41gy/3wT3P5Xjme0JDb7A/NYcC4/NcEKTZVFTSL8Jpf253RLYQMUYC+w3I1bPrgci2EjV+XBi52PJaz9U/ruS2uHWGLZseYrHN2yitamRT15xLhecOI3SYJHYQ2ACrEapSSQWGUMQsBJ81PLGA14NA04xopyaiVkwN+TWtiw3burlqq/CX76hlXe/ppdcpkDPABw1YZDLz2/gI//Sy+07C5yQr2daXjml0XPGggaSOGEwUSbmsxyTMzy2YaMZHBjAWrufhnJA2XjVUqk0ZE9HUVRRQgBMYKwRY+qMMXVlOZ47JDur14sRtOSfBUrSw5bH1j72+Lq165599NFHt1lr1yRJ4pIk2SUig5QXudx5553Bww8/LEt+9jMnfyRb/kiRWwD9zM2faZeuMaYAABbSSURBVPzaP9x89SWL5nLW3En0FUuEJijXKlNsENC35hEWdmziz45v4HPrernzgSxXXBIi3uE0QoxFUDwmrbDS2s/46U04Qh7rhalNaY9LU8nT5Z6JQoOF06fkufmJAT57WwuLjwmxEqDe0VcS9vZbnnte2Lhd2NgRUYwDxmGZ3+h483F1nNAYMjUDDQEEiYKLWDugoIbm5vHD605GUXcPKpgRxBuhao/5ugOdU42DDR5WBPWeTU88wfZdz/Olqy/jguOnUBwoIaR2tTFS7poKokjZyTiWsUjKfhCGasQr/eXSTVe0wNyTWvns5l7+8daIZ3e3cP0VlumT+ln3XDN3rlayWaE3diSiBCrEKjhNiy+LcQTOMa4ux3M7Oujr66WltY3yopJDD5aSRhCG5UO5Rlx62KlC6njcT+CVdgiCYAZAEARzwzC8KNXifEkT32mN6Q1ymTVr1655EmdWhT5+INfb2zlr6dKiqoquWDG0xvjFzOZHhNzt7e1m5cqV7rZv/uJ1mcDMv+yU2WktQg3AePCKZrLET26ktOEx1Aa8bYLh3/MN3HF/xFsuCsnkE5QsQgTiMUQM9Ddw/y+y3P7LGJOJ8JoWLkx3IKmoo6njyXvHhRNzPNSV8MWf9BIGGYLQ4L2QxAliYqY01TG/yXD5pDqObTDMbgiYGgrGJ8TqiVUolhQnMD60rOschFyOmUdNI47jfVTg6t8Hw6FU5tHOGY2ko91ntPP2+67yOTYIGBjo5w8Pr2bxsTN57aJZlEpu2DRIi57hjDCU6JdaE5U/DoGR56R2uFcY9MoxGc8nj2/m09kBvvOf/cRxPRcuaeArtzke3dLDvMmNfHhOI7MyQgTlPIiy4uUhNoZBDy6O8V7LkZVDLBQaIat9zpXhQOjwoHTgF02SRFUV55yWSiVVVSPGZMIgmGJEp9jAHpsJMxRLcaFQ1E1+woSdT6xd9+N1Dz30yxNPOeW5kcIpP89hEf2IkHvlypUiArt3P3/lq2ZPChdOb3MOtcakXhifzeJ27yZe+xA2tCRGGO+Ft00z3LQBfvTLkJY26OzOsrennmd2WJ7d6XlmR4GBXkcuEf5kXgunNgUk6jDG4CvliRWC8v+nB45PHdfAs3Ma6YwcJZ96e1vDkDYLTdaTN0KDBeMdJecZjBQvgi03tRrI49illnufH6C1rYUlpyxloL8fGwT7qODe+6G/jdlfh60cHwsONJsfbJavDC7VJK+sX69cMxQis5au7h42P/00bz99ARPrQ0qJYmzlXopiUGMxxg7XPXsR+XmKYgVCA10JtIjnr2fXY1X58b39/OS+gJzxvH5eC1dNr2dGqBQSTTc1qsyqKI1ieLzoeWxvH2cvPIXmlhbieL+8ojFhSJ6VjeMOcHzoHYZlK2X5lseClJhJkqTZULGjUIjUiGTr6uoXZjOZhQMDA+dqJvP8Y4+u3a3e/SDM5X7R1dX15GmnnVYgJbgRkTF3kped3OVqGcmHP/yBebfd9ut5J86YwMSmBilGpbRfBBZXKJI88gAkCSbM4rwjUseyiYaf7Q249gsDBIEl8IM05nO0ZZVJoeHcfB3HzjGc0JxhkoGYBK+mrFZVzZzlgoaRV1rFMyEnaE5Sj7hPlfz0R/FO6E1SG9GQOtcq+WqJU+qM4gPLd5+LeWx3P+973xWMH9dKT18v1u6/4uxI556P9fuNCM/v3k2hp5v5R01CTXmyqpqYFY+xAbEN0x1ELGOfuEd7tqrLQxEKqrTZhE/MqeeYhoBn+hPOnZDjnFaLdQn9TrBGhpjtERoDpSMJ+OrmLky+nkuWXUSYyVAsFkcdUF8MxrqpQpnw5QDIvtLxqloqFl2pWPTe+zCXy003YqdHcbQoieK/ba5v+PXaR9Z+85lnnvntrFmzDquU1MtO7p///OcW8H/4w+rzGvKZWa86erJ6n0ilab1Asv4RXNceJMyCunKJHjgqA19YkKEjqiNvPE1WaTERgsWZDDlrsc4TeUekmsbCq9pzX1UrTVOJUDRJ1XUBvHqMGJwoplyNRcWUs60UVYMXJaPCuKzwrLd8Z1vM9x7byqtPPplLL309g4UBTCXUMmImHU1NH0snqb7+cDBWc2AkjAgdO3cRBsLUljwGi/MRYVAOJ5Vj/xJYJJdPc+/1xQ9eWrbhBSVAKDghbz3vmpIhkQw5hNgLkaYDLaQDb+I9jQE8nQR8amMPa/f08RdX/RlLTj6FUqm0TzuMIda/H0bzhez37C9A1mXGW8CqqhaLpYqdbYwx9UEQvFGT+E19vX23rF69+oOLFy/urvK8HxQv+8KRVavSFMrOPZ3HBKLMnTY+QVWcKhrk0O3bYesWMCGVgoRC6hATo8wPEy6oL3JGXczxmZgmG6ASYBSi2FPQ1GEmuq99VVGFK595n5LViiEwaRElEYMth3IC0uw3L4JoQqBKKIacERrE0GtC/m2P48Oru/nuuh2cunAh1/7VR2isa6ASrq5Wgyvqb7UKPFY1vFqVrr5H9XtVv1v1dRU7s3LOaD+jfidKb18fuUyGxnyGSgou1R3cK2oMtqkZweFfdAEUQYyi4vGSEtxKmr8PQqApqdPPzdBCHqdK3sCmouXj67tYs30Pf/Kmy3jL5cvxB3CiVWRTkcHBzJuKl70i4+o2rRw/GLGr73WwH2OMGGNEREzZjNM4ihDF1+Xzbw+N/ckDD6ybLCJ6/fXXH5K7L/fMLYDL5XLk8/mWjMZMqAvBp9Om+gS/bSs+8khYUX5lH2dNJAY8GFV6XIZ+TbPGbFVsddTuJZUt6SpOkTR2XQk8qgLeYySdtSoOmsAYvDF0JpbOYszTpZhHuiIe2tXL1iJMnTiBq9/xWt74lrcwflwLcVTeu/plXFL8QkJmh75pmnoaBpacBco15FRkmMLqEQmQ1jbEC2olLWL3Ah9DVdNadekXUU4sqSJHWuYYBETRcpZig4HVBcs/PrGXLV19XP7mN3HV1e9NO5vzwzP8IbSkP0YYcazvOUaVXkQEr+rjUlRqaGg4J3LdxwI7y4t5Dnr9y01uBUyxWHSxi/usQGdvwbdMaSYbC6W+Xkp7dmPE4FECtXhcSkqfdiqDR0Xp95ZBNRiTqoPVG8BXiEsqmHImUtoRnICqRzTdeDZACAzYUHCaFkZ0xtJNwHORY3NPkU3dgzzXH7G1GNObQNuEicx/9RL+dOGJLFx8EkdNn4mqUigWy17Z9Cn2e/lDOL/G6k0fiQOpmS9ElR8algQyQUAuE2KtwUua6rpfWWgF09ICjY2YQj/YF6EMlt8j9mm7yVCYrHI4dYg6EkQtGaNkjeVXA5Yvrd3OnmLC+//s3bRf/icEQUCpWBrye1Q7NqvlMdaB8cUSuvo+YzXHVNWj3odBYMMwzA4M9P+syTQ9AbBixYpDPtDLbnO3t7f7lStXMvvY2d/fvHbzn1xzy2+mXPeGM+LFcyaYxqhgMqVBIuvFIXhNAIN4A7biyfUM+oBeFyJ41Jvh7KyqWUV8OSYiisUQiGLFY0kXJPgwpOg9hUTpd0JnBM8W4YnBIps6Szyzp4vByKHZHA2NzUyaPI0LFy7k5KVLmTVzBo0N9YS5HKgQx3GqYovZZ0FGNQ5ksx2I8CNxKJXvQPc63E455EEXobW1lThOEBOACImmg+HQucZAEiENzcjUafgnHiWob0T9iyhfplDyBqWc6UZFS0jTcJ1XRALqrGPAZPnq9iI/eLyDhnEtfOKaq3nNhReSJAlRKRpOMa0i9oFkcyhnW7UJ9VI5Rctxc61MV2EYmLp81g70DxRLpeQb6zds/Mjy5ctd2eY+pE13RFy3lQJ2Z5999p9ue3b75+M4mnz6omM5a1zI7L5tTM0b1xIG1IkjqyrGDU3bEqnQ40ISsRhSrzeA+vJ6axFEPV4Ej9EShpI39HulJ1HpT5SuKGFn5NhWSHi6r8RzJWVvbwFJSuRzdUwc38y0o2YwffpMjp99DAtOOp7Zx8wBEaJShFOHqserR7RcQKKiIYzoSCNDTyNxuIQc7R5jSXIZC4ZmeqAul2PD+vW8/d3v4aplZ/KJS5fSVJehGKf5A7ai6nqHyeaJdnaQ/P63iPepeq7lFWiH6mHK0FZsAnindPsMJeyQaQSCU8UAGUmNtTWlkBs3d7F6516WLlrMe997FYsXL6a/v3/UgbRabqP5Oqp9IaPJ+GDZbdW+jZH9YKRsq1F1vooxDlUbhoEYYzUIAikWBp91LrnXGnvT8SeddPdYHWlD9x/riS8BDOAvvPDCJXt3dbxj2/PdZ5aMmTR1XGPbtHyQzSYl6owyLhfSYJSMCDmTOqUEi8WDMaBpbNN5iIGSR2MvMugcA6WYvsRTFENvKWFn34D2JCoxgQbG0NzYQGtDPdMmtsmMo6YxbcbRzJgylQlTpjF50kQmTpyAR+kf6CcuxKiUY8Jl9TDV/Idtw5HkHtnIoy3QqO541fcYy0BQwR+L3NXPbaylVChw4003cuuPf8rFS4/lfRct5eSjJ5C1QiFKhkKKXj1BJiC+/37ipzdhsnkgdYyNvgVT1TtBmpGoqf+9oIZuF6LllGsVQ6iOfGDpU8OmkuOX2wr8dGsnzePHs/wNb+B1l72RieNb6e7uxlo7KrGqB9iDebrhwPkGY7XXD+S8Y0gJGfq/GFEyYYgNQgaLpaL3vkOExxV/h/f89qSFJ60TRA83xg1HltyQhgCcqtpPfPjqiTu27pjy2ObnZuwoxNPFytRMNndUsTAwtS6bnR5aO87FcbMmcUaTBCWdPdGyY6wciFUBsSE2CGOs9KpzvSSuZ1xLs1+6aOH8o6ZMzre1ttIyroVxra00NjZR19BAJpt1uWxWwkwGnyRSiiKiKAJFjLVp9dPyQ48Ma402Yo9l9H8lkxvS2SxJEm6//Ta+/q1vkTeGC141nzeeOo+zjp1GaDxJ4lO/Bga3t5Piff+JliLEWoZSTA8KxXlTDqwpfUmGRNJluhYIA2E3OX6/u8i9O/t58PkefH0zr192ARdfeAFz5h6Lc44oikbNK6jIpdrWHYsKfriqd5XstUqGFTKrMcYGQUAQBKl33XtFEE2Sfu/9wx62OPgl8Fg+n++YN29eL6SVZNrb2xGRw7Z1jjS5Kyr6UA2jigvFWkOU/HvmY8s/k9+zN8h1Og07uyUoxVFw1LyZzSZrsyJhTtVKEKTOB43jYn9Hx8C2jo7B6W1TXdM0EzcH9UkSmGTJkiWcdf5lDZn6pktU3eLEuVejTEaoC8Mwnw1DojgiimKiJKkolCoMJUFrqhGJVK3qkhdC7gOpjKOR+0Bx2dFmotGOH+hZDoSRmoYRQxBYntryFF+78es8suohMtZy3NFTaT9jIecdN4WJDVnygYVcBjZvIFq1GvWFdFfOfdarjdRmFCuC1XSU77c5upwlSTzdathQMvxmZx+P7uhkrxeaW1pZdsH5XHLJ65gycRI2NJSiqHxny4FecyxtU40DkVv3Gz3FD8dmhmwQA2gYhmKMwVpLEAQMDgzgvB8EurxqN+ofEu+/4YzpSJKkExisLhih6YoxAV5wFZgjTu4yKpwektRL+WUV22XNmjUTXeRODaw5TQKzwIg0IGa8gXlGTFYErJWh0IwaS5IkQ3njQFLV4KlXYPj++8l2pEOnfO4BiVo9aFRfVz37jPX4WAh+MM0gCAKstfzu7rv56c//L5s3b2LP7r1kc3lOnDWRE4+ezIy2Zqa2NtOydTOZ7p3kw4B8YMhaQyCC8R5Maj97IPIwmCj9cURfbHmqAE8WSjzR69jcF1OMHZPHtzHr6KM59ZRTOP+882hrayWKIuLEldfIp/77g83GI2UwBg2nEiGtvH9l1kwrOqafEoQWG6R/4wT1SpLEiLUkSbLTGNPtnd+toj0CqzF674knLvr1gWxnrapdV63Gv1C8Ush9KLzY5xyOlJcbthwn1Kpj2rGmo75Pnh9XsJwp2JxVbQPmeHUG5WTFICLNokxXNK6vr8+ntclSQpWiEt551HsSlzhjjPpKBkblRVLyiZSDr6paDrKXvc/ph/uTv0LOKpW5+vjIjjva8UOp9QcUXtU9mpqaKBaLrFu3jg1PPMHGjRvZ+OQWdu3eQ1dXDyUXk63LkTNKo4GWTEDeCoExBOoJrU0X3XhlMFJ64oRikCUKM2As4+obmTl5EvNmz2D2MXOYM3cuxx17LLm6PN3d3XjnhwbBNEKRtqAp+1+G6DHUquUYS0VGwzLwVe2h1fKz1koQBCadwQ11+TwI9Pf3axzHkYioIB6jO0H7Rel1XjaIyG4VWW8M9UEQrBeRjjiOu0844YTOCqErySfVoawXOjMfCv9VyP2SQFVl5cqVZsKECTJhwgSzYMGCZKTTQlXNXWAmPv74tCAKEmfcJDU6F3UlLzLXwDh1qgp5DEvxvgUxrQ0NDdNI7S+J43g/Ag5VYtHhDCUgJXE57COknRLnhgw4JR0Equ3/0bzx+6nXo2RhVSM9X/f5ZIQcEEmLOFhraWhsJEkS+vr66Ovtoauzkz27d9PV2Ul3dw+dPX309fXrYFSgFHuSJMajRHGMwVCfz9NQl6O1pYUJra2Ma2lm0qTJTJo0kcamJuoa6qmrq8c5x8DAIM4nBEGQ5jCMotWU/VOkohHSBE4ZCtpXV6hXGL4XqZZTDptpJpORYrG4Z2Bg4BlrTD1oPyL/F6UBYat62YFFbJL4xNqnjDHd3vvShg0b9oxmG99666120aJFwfbt290555zjD9cp9mLw35rcI1FWiwQwq1atkr6+Pj333HOTsV6/bt261mKxmLXWZnPWthWSxBiTNaHlAlWd670vSZpidZTABZLWDkw1eCUUI7baWYek5YBCa/fhmmpayBD2D+FUBo7DmaUPYGPub2IyrPan3y+EYYC1AUNjQ0XB8B7nvfgkGUrPHPouIChfF2TC8sBT8T5V3l3TWRowQx7wNEpReed9nJPiUF9+97K3W72kTlb1TkRi9YoYo6oaeK8/NIZuhTqFpwKC3yRxEln1gcuYniRJ9kqxmGmcWBfPmbPo+dFbfD+BmZUrVwazZ8/WJUuWVPxIL3k5pQOhRu5DoMoOGpLVihUrKr9fUMOpqqxatWoogaivr08ntU5a6q0/CSjhvVEV650fCKxZqoazfOJ7xZpAUKdeG8WYtqHZC013GzZGRQjU62QgHElOkeq4c0oWQapCP8PdoTKbpdcN36Ni44KSphYMF6dSKR/XSr71cJWcNOyQkjgt6pCOBCMHorK2EhsxuzASC0PFB4fd0bDHiOkvO50Qq4o6a0w4iPo7QXeqqNVEHJCRIFhbKBQeqZbFkiVLkrG3nZYfQ2XFihX79YPhx3rpVOwXghq5/3gYtQIm/PEavKys65o1a+ozmcw055wlAsmKpPsgZBCRrCa60KtvCtQ4T3lTvEpaqPH7tPlwSHd4W2uj6hFpQ3UOaacd9lZV/qpWLlNfEpTrsKiIN16fMiJ7VDXQKmKmX+PAhHhQYwBfvqlzqsYEYqUnEXnUWFsIfDEolUINAu9FRAIfeLNty9PzLrmk9GLlWUG1I2s0vJIIeziokfsVgpGzQgXl2WHk5/py2G4PP/xwOPazV5V/L2HJkj4VGbs5c7gok3E/9/jKlStpb2/XETPqy1Jp9JWIGrn/i6Kiko6Gu+66y5xzzjkv+iteSOLE0MWqlhfXvw42eP23JOvhokbuGg6IQ6mrB0ONfDXUUEMNNdRQQw011FBDDTXUUEMNNdRQQw011FBDDTXUUEMNNdRQQw011FBDDTXUUEMNNdRQQw011FBDDTXUUEMNNdRQQw011FBDDTXUUEMNNdRQQw01HHn8P6yHQzzJsWLFAAAAAElFTkSuQmCC)"
      ],
      "metadata": {
        "id": "uiS-bObFb5vo"
      }
    },
    {
      "cell_type": "code",
      "source": [
        "w2v_model.wv.similarity(\"moe\", 'tavern')"
      ],
      "metadata": {
        "colab": {
          "base_uri": "https://localhost:8080/"
        },
        "id": "neXg2TrAZh_s",
        "outputId": "d26cf93d-111f-41d6-d103-fd600f62df4d"
      },
      "execution_count": 78,
      "outputs": [
        {
          "output_type": "execute_result",
          "data": {
            "text/plain": [
              "0.8959169"
            ]
          },
          "metadata": {},
          "execution_count": 78
        }
      ]
    },
    {
      "cell_type": "code",
      "source": [
        "w2v_model.wv.similarity(\"homer\", 'tavern')"
      ],
      "metadata": {
        "colab": {
          "base_uri": "https://localhost:8080/"
        },
        "id": "WCgnxv4gakR4",
        "outputId": "82429258-7b99-48e9-fced-cb846f9d2230"
      },
      "execution_count": 79,
      "outputs": [
        {
          "output_type": "execute_result",
          "data": {
            "text/plain": [
              "0.5699939"
            ]
          },
          "metadata": {},
          "execution_count": 79
        }
      ]
    },
    {
      "cell_type": "code",
      "source": [
        "w2v_model.wv.similarity(\"bart\", 'tavern')"
      ],
      "metadata": {
        "colab": {
          "base_uri": "https://localhost:8080/"
        },
        "id": "4_JFS2Q_asSo",
        "outputId": "37a0d4f0-6f39-4954-db01-f96aaf7995fa"
      },
      "execution_count": 80,
      "outputs": [
        {
          "output_type": "execute_result",
          "data": {
            "text/plain": [
              "0.2862487"
            ]
          },
          "metadata": {},
          "execution_count": 80
        }
      ]
    },
    {
      "cell_type": "code",
      "source": [
        "print(\"Bart consine with mad:\", w2v_model.wv.similarity(\"bart\", 'mad'), \"Bart consine with sweet\", w2v_model.wv.similarity(\"bart\", 'sweet'))\n",
        "print(\"Lisa consine with mad:\", w2v_model.wv.similarity(\"lisa\", 'mad'), \"Lisa consine with sweet\", w2v_model.wv.similarity(\"lisa\", 'sweet'))"
      ],
      "metadata": {
        "colab": {
          "base_uri": "https://localhost:8080/"
        },
        "id": "NK8-lyB3Zr2D",
        "outputId": "e9f85d11-f8bf-4ec5-d9c4-8be4cb050b71"
      },
      "execution_count": 81,
      "outputs": [
        {
          "output_type": "stream",
          "name": "stdout",
          "text": [
            "Bart consine with mad: 0.787106 Bart consine with sweet 0.46048576\n",
            "Lisa consine with mad: 0.75046057 Lisa consine with sweet 0.4793039\n"
          ]
        }
      ]
    },
    {
      "cell_type": "markdown",
      "source": [
        "## **4.3. Analogies: Finding Words with Similar Distance**\n",
        "\n",
        "Ned Flander is the good-natured next-door neighoour to the Simpson family and generally loathed by Homer Simpson.  A scrupulous and devout evangelical Christian, he is among the friendliest and most compassionate of Springfield's residents and is generally considered a pillar of the Springfield community."
      ],
      "metadata": {
        "id": "2rDX-844ctXQ"
      }
    },
    {
      "cell_type": "code",
      "source": [
        "# Flander volunteers often, while Homer...\n",
        "w2v_model.wv.most_similar(positive=[\"flander\", \"volunteer\"], negative=[\"homer\"], topn=3)"
      ],
      "metadata": {
        "colab": {
          "base_uri": "https://localhost:8080/"
        },
        "id": "Ry866MA4czLE",
        "outputId": "b06a8ae7-4920-4089-8ca2-e7363159e10a"
      },
      "execution_count": 82,
      "outputs": [
        {
          "output_type": "execute_result",
          "data": {
            "text/plain": [
              "[('fallout', 0.7342272400856018),\n",
              " ('christian', 0.7333425283432007),\n",
              " ('violate', 0.7287108898162842)]"
            ]
          },
          "metadata": {},
          "execution_count": 82
        }
      ]
    },
    {
      "cell_type": "code",
      "source": [
        "# Maude is Ned Flander's wife and Marge is Homer's wife.\n",
        "w2v_model.wv.most_similar(positive=[\"maude\", \"marge\"], negative=[\"homer\"], topn=3)"
      ],
      "metadata": {
        "colab": {
          "base_uri": "https://localhost:8080/"
        },
        "id": "UDpgJC1OBR7Q",
        "outputId": "2f264712-f82a-4e4f-e1fd-93b3146d3b68"
      },
      "execution_count": 83,
      "outputs": [
        {
          "output_type": "execute_result",
          "data": {
            "text/plain": [
              "[('gosh', 0.7689553499221802),\n",
              " ('ned_flander', 0.748860239982605),\n",
              " ('catholic', 0.7386153340339661)]"
            ]
          },
          "metadata": {},
          "execution_count": 83
        }
      ]
    },
    {
      "cell_type": "code",
      "source": [
        "w2v_model.wv.most_similar(positive=[\"bart\", \"lisa\"], negative=[\"man\"], topn=3)"
      ],
      "metadata": {
        "colab": {
          "base_uri": "https://localhost:8080/"
        },
        "id": "9DOnlHar21UQ",
        "outputId": "28c3f1f5-2c92-4196-a51c-bb7711506a2c"
      },
      "execution_count": 84,
      "outputs": [
        {
          "output_type": "execute_result",
          "data": {
            "text/plain": [
              "[('mom', 0.7094486951828003),\n",
              " ('kid', 0.7057560682296753),\n",
              " ('milhouse', 0.7048013806343079)]"
            ]
          },
          "metadata": {},
          "execution_count": 84
        }
      ]
    },
    {
      "cell_type": "markdown",
      "source": [
        "## **4.4 Odd-one-out**\n"
      ],
      "metadata": {
        "id": "Me06WHxC5QCK"
      }
    },
    {
      "cell_type": "code",
      "source": [
        "# choose the one that does not belong to the list\n",
        "# bart and milhouse are best friends; nelson is the school bully\n",
        "w2v_model.wv.doesnt_match([\"nelson\", \"bart\", \"milhouse\"])"
      ],
      "metadata": {
        "colab": {
          "base_uri": "https://localhost:8080/",
          "height": 90
        },
        "id": "yhUOPui95a4i",
        "outputId": "29f80f90-732e-49c7-a87d-da95b63e88c4"
      },
      "execution_count": 85,
      "outputs": [
        {
          "output_type": "stream",
          "name": "stderr",
          "text": [
            "/usr/local/lib/python3.8/dist-packages/gensim/models/keyedvectors.py:895: FutureWarning: arrays to stack must be passed as a \"sequence\" type such as list or tuple. Support for non-sequence iterables such as generators is deprecated as of NumPy 1.16 and will raise an error in the future.\n",
            "  vector : numpy.array\n"
          ]
        },
        {
          "output_type": "execute_result",
          "data": {
            "text/plain": [
              "'nelson'"
            ],
            "application/vnd.google.colaboratory.intrinsic+json": {
              "type": "string"
            }
          },
          "metadata": {},
          "execution_count": 85
        }
      ]
    },
    {
      "cell_type": "code",
      "source": [
        "# does Holmer get mentioned with his two sister-in-lawyers together often?\n",
        "w2v_model.wv.doesnt_match(['homer', 'patty', 'selma'])"
      ],
      "metadata": {
        "colab": {
          "base_uri": "https://localhost:8080/",
          "height": 35
        },
        "id": "52C4MIXu6Bea",
        "outputId": "96673e13-f4a6-4578-bcb1-006fcf8dc018"
      },
      "execution_count": 86,
      "outputs": [
        {
          "output_type": "execute_result",
          "data": {
            "text/plain": [
              "'homer'"
            ],
            "application/vnd.google.colaboratory.intrinsic+json": {
              "type": "string"
            }
          },
          "metadata": {},
          "execution_count": 86
        }
      ]
    }
  ]
}